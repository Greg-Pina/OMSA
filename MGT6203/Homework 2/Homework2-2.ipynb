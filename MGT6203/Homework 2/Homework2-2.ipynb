version https://git-lfs.github.com/spec/v1
oid sha256:9162af06b0899ab1dc6495c2de9a079d7ffcaad374865a99908f7e607adfd092
size 343260
