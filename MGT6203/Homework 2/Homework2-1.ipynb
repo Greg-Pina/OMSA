version https://git-lfs.github.com/spec/v1
oid sha256:a5265d091f3c501225ce93f8c80a4c9d1882e1f21a2e1d00be5560d67ce4f958
size 372188
