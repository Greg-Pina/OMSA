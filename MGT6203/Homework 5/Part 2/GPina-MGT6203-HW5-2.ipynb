version https://git-lfs.github.com/spec/v1
oid sha256:e2827efd1b6eea23478619e031450a444d15c2ddb614be5c01af50c842854777
size 158253
