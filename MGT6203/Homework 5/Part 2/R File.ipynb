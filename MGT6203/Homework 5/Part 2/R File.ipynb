version https://git-lfs.github.com/spec/v1
oid sha256:09cb81d1d2a0d77f17859e7c5fe69240cc3e4114facb286c1d58914d5a3811b8
size 996611
