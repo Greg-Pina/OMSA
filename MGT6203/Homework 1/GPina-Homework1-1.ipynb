{
 "cells": [
  {
   "cell_type": "markdown",
   "metadata": {},
   "source": [
    "## Task 1"
   ]
  },
  {
   "cell_type": "code",
   "execution_count": 2,
   "metadata": {
    "vscode": {
     "languageId": "r"
    }
   },
   "outputs": [
    {
     "data": {
      "text/plain": [
       "\n",
       "Call:\n",
       "lm(formula = Price ~ Age + KM + HP + Metallic + Automatic + CC + \n",
       "    Doors + Gears + Weight, data = used_cars)\n",
       "\n",
       "Residuals:\n",
       "    Min      1Q  Median      3Q     Max \n",
       "-8117.5  -771.5   -50.0   701.0  6403.5 \n",
       "\n",
       "Coefficients:\n",
       "              Estimate Std. Error t value Pr(>|t|)    \n",
       "(Intercept) -2.883e+03  1.505e+03  -1.916 0.055649 .  \n",
       "Age         -1.299e+02  2.610e+00 -49.782  < 2e-16 ***\n",
       "KM          -1.465e-02  1.441e-03 -10.162  < 2e-16 ***\n",
       "HP           2.540e+01  3.376e+00   7.524 1.01e-13 ***\n",
       "Metallic    -2.281e+01  7.436e+01  -0.307 0.759059    \n",
       "Automatic    4.991e+02  1.497e+02   3.334 0.000881 ***\n",
       "CC          -5.259e-03  8.499e-02  -0.062 0.950667    \n",
       "Doors        1.315e+01  4.086e+01   0.322 0.747638    \n",
       "Gears        6.281e+02  1.927e+02   3.259 0.001148 ** \n",
       "Weight       1.504e+01  1.300e+00  11.567  < 2e-16 ***\n",
       "---\n",
       "Signif. codes:  0 '***' 0.001 '**' 0.01 '*' 0.05 '.' 0.1 ' ' 1\n",
       "\n",
       "Residual standard error: 1227 on 1254 degrees of freedom\n",
       "Multiple R-squared:  0.8649,\tAdjusted R-squared:  0.8639 \n",
       "F-statistic: 891.8 on 9 and 1254 DF,  p-value: < 2.2e-16\n"
      ]
     },
     "metadata": {},
     "output_type": "display_data"
    },
    {
     "name": "stdout",
     "output_type": "stream",
     "text": [
      "   Original_Y Fitted_Y Residuals\n",
      "1       21500 19186.61 2313.3889\n",
      "2       20950 19902.38 1047.6167\n",
      "3       19950 20114.27 -164.2689\n",
      "4       19600 19891.72 -291.7201\n",
      "5       21500 19223.83 2276.1696\n",
      "6       22500 18930.85 3569.1535\n",
      "7       22000 19698.89 2301.1095\n",
      "8       22750 18564.51 4185.4929\n",
      "9       17950 16239.52 1710.4842\n",
      "10      16750 15604.50 1145.5044\n"
     ]
    },
    {
     "data": {
      "text/html": [
       "TRUE"
      ],
      "text/latex": [
       "TRUE"
      ],
      "text/markdown": [
       "TRUE"
      ],
      "text/plain": [
       "[1] TRUE"
      ]
     },
     "metadata": {},
     "output_type": "display_data"
    }
   ],
   "source": [
    "# Import the CSV file into R\n",
    "used_cars <- read.csv(\"UsedCars.csv\", header = TRUE, stringsAsFactors = FALSE)\n",
    "\n",
    "# Run the linear regression\n",
    "model <- lm(\n",
    "  Price ~ Age + KM + HP + Metallic + Automatic + CC + Doors + Gears + Weight,\n",
    "  data = used_cars\n",
    ")\n",
    "\n",
    "# Display the regression summary\n",
    "summary(model)\n",
    "\n",
    "# Calculate fitted values and residuals\n",
    "fitted_values <- fitted(model)\n",
    "residuals_values <- residuals(model)\n",
    "\n",
    "# Combines y values, fitted values, and residuals 10x\n",
    "results <- data.frame(\n",
    "  Original_Y = used_cars$Price[1:10],\n",
    "  Fitted_Y = fitted_values[1:10],\n",
    "  Residuals = residuals_values[1:10]\n",
    ")\n",
    "\n",
    "# Display the results\n",
    "print(results)\n",
    "\n",
    "# Verify residuals calculation\n",
    "verification <- results$Original_Y - results$Fitted_Y\n",
    "all.equal(verification, results$Residuals)\n",
    "# Should return TRUE if residuals are correct"
   ]
  },
  {
   "cell_type": "markdown",
   "metadata": {},
   "source": [
    "## Task 2"
   ]
  },
  {
   "cell_type": "code",
   "execution_count": 7,
   "metadata": {
    "vscode": {
     "languageId": "r"
    }
   },
   "outputs": [
    {
     "data": {
      "text/html": [
       "TRUE"
      ],
      "text/latex": [
       "TRUE"
      ],
      "text/markdown": [
       "TRUE"
      ],
      "text/plain": [
       "[1] TRUE"
      ]
     },
     "metadata": {},
     "output_type": "display_data"
    },
    {
     "data": {
      "text/html": [
       "<table class=\"dataframe\">\n",
       "<caption>A data.frame: 10 x 4</caption>\n",
       "<thead>\n",
       "\t<tr><th></th><th scope=col>Beta_Hat</th><th scope=col>SE_Beta_Hat</th><th scope=col>T_Statistics_Manual</th><th scope=col>T_Statistics_Summary</th></tr>\n",
       "\t<tr><th></th><th scope=col>&lt;dbl&gt;</th><th scope=col>&lt;dbl&gt;</th><th scope=col>&lt;dbl&gt;</th><th scope=col>&lt;dbl&gt;</th></tr>\n",
       "</thead>\n",
       "<tbody>\n",
       "\t<tr><th scope=row>(Intercept)</th><td>-2.882537e+03</td><td>1.504804e+03</td><td> -1.91555684</td><td> -1.91555684</td></tr>\n",
       "\t<tr><th scope=row>Age</th><td>-1.299451e+02</td><td>2.610276e+00</td><td>-49.78213520</td><td>-49.78213520</td></tr>\n",
       "\t<tr><th scope=row>KM</th><td>-1.464727e-02</td><td>1.441421e-03</td><td>-10.16168388</td><td>-10.16168388</td></tr>\n",
       "\t<tr><th scope=row>HP</th><td> 2.539843e+01</td><td>3.375622e+00</td><td>  7.52407315</td><td>  7.52407315</td></tr>\n",
       "\t<tr><th scope=row>Metallic</th><td>-2.281278e+01</td><td>7.436117e+01</td><td> -0.30678348</td><td> -0.30678348</td></tr>\n",
       "\t<tr><th scope=row>Automatic</th><td> 4.990580e+02</td><td>1.496871e+02</td><td>  3.33400809</td><td>  3.33400809</td></tr>\n",
       "\t<tr><th scope=row>CC</th><td>-5.259189e-03</td><td>8.498812e-02</td><td> -0.06188146</td><td> -0.06188146</td></tr>\n",
       "\t<tr><th scope=row>Doors</th><td> 1.315082e+01</td><td>4.086314e+01</td><td>  0.32182598</td><td>  0.32182598</td></tr>\n",
       "\t<tr><th scope=row>Gears</th><td> 6.281485e+02</td><td>1.927432e+02</td><td>  3.25899198</td><td>  3.25899198</td></tr>\n",
       "\t<tr><th scope=row>Weight</th><td> 1.503712e+01</td><td>1.300029e+00</td><td> 11.56676201</td><td> 11.56676201</td></tr>\n",
       "</tbody>\n",
       "</table>\n"
      ],
      "text/latex": [
       "A data.frame: 10 x 4\n",
       "\\begin{tabular}{r|llll}\n",
       "  & Beta\\_Hat & SE\\_Beta\\_Hat & T\\_Statistics\\_Manual & T\\_Statistics\\_Summary\\\\\n",
       "  & <dbl> & <dbl> & <dbl> & <dbl>\\\\\n",
       "\\hline\n",
       "\t(Intercept) & -2.882537e+03 & 1.504804e+03 &  -1.91555684 &  -1.91555684\\\\\n",
       "\tAge & -1.299451e+02 & 2.610276e+00 & -49.78213520 & -49.78213520\\\\\n",
       "\tKM & -1.464727e-02 & 1.441421e-03 & -10.16168388 & -10.16168388\\\\\n",
       "\tHP &  2.539843e+01 & 3.375622e+00 &   7.52407315 &   7.52407315\\\\\n",
       "\tMetallic & -2.281278e+01 & 7.436117e+01 &  -0.30678348 &  -0.30678348\\\\\n",
       "\tAutomatic &  4.990580e+02 & 1.496871e+02 &   3.33400809 &   3.33400809\\\\\n",
       "\tCC & -5.259189e-03 & 8.498812e-02 &  -0.06188146 &  -0.06188146\\\\\n",
       "\tDoors &  1.315082e+01 & 4.086314e+01 &   0.32182598 &   0.32182598\\\\\n",
       "\tGears &  6.281485e+02 & 1.927432e+02 &   3.25899198 &   3.25899198\\\\\n",
       "\tWeight &  1.503712e+01 & 1.300029e+00 &  11.56676201 &  11.56676201\\\\\n",
       "\\end{tabular}\n"
      ],
      "text/markdown": [
       "\n",
       "A data.frame: 10 x 4\n",
       "\n",
       "| <!--/--> | Beta_Hat &lt;dbl&gt; | SE_Beta_Hat &lt;dbl&gt; | T_Statistics_Manual &lt;dbl&gt; | T_Statistics_Summary &lt;dbl&gt; |\n",
       "|---|---|---|---|---|\n",
       "| (Intercept) | -2.882537e+03 | 1.504804e+03 |  -1.91555684 |  -1.91555684 |\n",
       "| Age | -1.299451e+02 | 2.610276e+00 | -49.78213520 | -49.78213520 |\n",
       "| KM | -1.464727e-02 | 1.441421e-03 | -10.16168388 | -10.16168388 |\n",
       "| HP |  2.539843e+01 | 3.375622e+00 |   7.52407315 |   7.52407315 |\n",
       "| Metallic | -2.281278e+01 | 7.436117e+01 |  -0.30678348 |  -0.30678348 |\n",
       "| Automatic |  4.990580e+02 | 1.496871e+02 |   3.33400809 |   3.33400809 |\n",
       "| CC | -5.259189e-03 | 8.498812e-02 |  -0.06188146 |  -0.06188146 |\n",
       "| Doors |  1.315082e+01 | 4.086314e+01 |   0.32182598 |   0.32182598 |\n",
       "| Gears |  6.281485e+02 | 1.927432e+02 |   3.25899198 |   3.25899198 |\n",
       "| Weight |  1.503712e+01 | 1.300029e+00 |  11.56676201 |  11.56676201 |\n",
       "\n"
      ],
      "text/plain": [
       "            Beta_Hat      SE_Beta_Hat  T_Statistics_Manual T_Statistics_Summary\n",
       "(Intercept) -2.882537e+03 1.504804e+03  -1.91555684         -1.91555684        \n",
       "Age         -1.299451e+02 2.610276e+00 -49.78213520        -49.78213520        \n",
       "KM          -1.464727e-02 1.441421e-03 -10.16168388        -10.16168388        \n",
       "HP           2.539843e+01 3.375622e+00   7.52407315          7.52407315        \n",
       "Metallic    -2.281278e+01 7.436117e+01  -0.30678348         -0.30678348        \n",
       "Automatic    4.990580e+02 1.496871e+02   3.33400809          3.33400809        \n",
       "CC          -5.259189e-03 8.498812e-02  -0.06188146         -0.06188146        \n",
       "Doors        1.315082e+01 4.086314e+01   0.32182598          0.32182598        \n",
       "Gears        6.281485e+02 1.927432e+02   3.25899198          3.25899198        \n",
       "Weight       1.503712e+01 1.300029e+00  11.56676201         11.56676201        "
      ]
     },
     "metadata": {},
     "output_type": "display_data"
    },
    {
     "data": {
      "text/html": [
       "1.96185754407177"
      ],
      "text/latex": [
       "1.96185754407177"
      ],
      "text/markdown": [
       "1.96185754407177"
      ],
      "text/plain": [
       "[1] 1.961858"
      ]
     },
     "metadata": {},
     "output_type": "display_data"
    },
    {
     "data": {
      "text/html": [
       "TRUE"
      ],
      "text/latex": [
       "TRUE"
      ],
      "text/markdown": [
       "TRUE"
      ],
      "text/plain": [
       "[1] TRUE"
      ]
     },
     "metadata": {},
     "output_type": "display_data"
    },
    {
     "data": {
      "text/html": [
       "<table class=\"dataframe\">\n",
       "<caption>A data.frame: 10 x 3</caption>\n",
       "<thead>\n",
       "\t<tr><th></th><th scope=col>T_Statistics</th><th scope=col>P_Values_Manual</th><th scope=col>P_Values_Summary</th></tr>\n",
       "\t<tr><th></th><th scope=col>&lt;dbl&gt;</th><th scope=col>&lt;dbl&gt;</th><th scope=col>&lt;dbl&gt;</th></tr>\n",
       "</thead>\n",
       "<tbody>\n",
       "\t<tr><th scope=row>(Intercept)</th><td> -1.91555684</td><td> 5.564875e-02</td><td> 5.564875e-02</td></tr>\n",
       "\t<tr><th scope=row>Age</th><td>-49.78213520</td><td>2.802533e-299</td><td>2.802533e-299</td></tr>\n",
       "\t<tr><th scope=row>KM</th><td>-10.16168388</td><td> 2.295236e-23</td><td> 2.295236e-23</td></tr>\n",
       "\t<tr><th scope=row>HP</th><td>  7.52407315</td><td> 1.009200e-13</td><td> 1.009200e-13</td></tr>\n",
       "\t<tr><th scope=row>Metallic</th><td> -0.30678348</td><td> 7.590591e-01</td><td> 7.590591e-01</td></tr>\n",
       "\t<tr><th scope=row>Automatic</th><td>  3.33400809</td><td> 8.810432e-04</td><td> 8.810432e-04</td></tr>\n",
       "\t<tr><th scope=row>CC</th><td> -0.06188146</td><td> 9.506671e-01</td><td> 9.506671e-01</td></tr>\n",
       "\t<tr><th scope=row>Doors</th><td>  0.32182598</td><td> 7.476382e-01</td><td> 7.476382e-01</td></tr>\n",
       "\t<tr><th scope=row>Gears</th><td>  3.25899198</td><td> 1.148079e-03</td><td> 1.148079e-03</td></tr>\n",
       "\t<tr><th scope=row>Weight</th><td> 11.56676201</td><td> 1.790759e-29</td><td> 1.790759e-29</td></tr>\n",
       "</tbody>\n",
       "</table>\n"
      ],
      "text/latex": [
       "A data.frame: 10 x 3\n",
       "\\begin{tabular}{r|lll}\n",
       "  & T\\_Statistics & P\\_Values\\_Manual & P\\_Values\\_Summary\\\\\n",
       "  & <dbl> & <dbl> & <dbl>\\\\\n",
       "\\hline\n",
       "\t(Intercept) &  -1.91555684 &  5.564875e-02 &  5.564875e-02\\\\\n",
       "\tAge & -49.78213520 & 2.802533e-299 & 2.802533e-299\\\\\n",
       "\tKM & -10.16168388 &  2.295236e-23 &  2.295236e-23\\\\\n",
       "\tHP &   7.52407315 &  1.009200e-13 &  1.009200e-13\\\\\n",
       "\tMetallic &  -0.30678348 &  7.590591e-01 &  7.590591e-01\\\\\n",
       "\tAutomatic &   3.33400809 &  8.810432e-04 &  8.810432e-04\\\\\n",
       "\tCC &  -0.06188146 &  9.506671e-01 &  9.506671e-01\\\\\n",
       "\tDoors &   0.32182598 &  7.476382e-01 &  7.476382e-01\\\\\n",
       "\tGears &   3.25899198 &  1.148079e-03 &  1.148079e-03\\\\\n",
       "\tWeight &  11.56676201 &  1.790759e-29 &  1.790759e-29\\\\\n",
       "\\end{tabular}\n"
      ],
      "text/markdown": [
       "\n",
       "A data.frame: 10 x 3\n",
       "\n",
       "| <!--/--> | T_Statistics &lt;dbl&gt; | P_Values_Manual &lt;dbl&gt; | P_Values_Summary &lt;dbl&gt; |\n",
       "|---|---|---|---|\n",
       "| (Intercept) |  -1.91555684 |  5.564875e-02 |  5.564875e-02 |\n",
       "| Age | -49.78213520 | 2.802533e-299 | 2.802533e-299 |\n",
       "| KM | -10.16168388 |  2.295236e-23 |  2.295236e-23 |\n",
       "| HP |   7.52407315 |  1.009200e-13 |  1.009200e-13 |\n",
       "| Metallic |  -0.30678348 |  7.590591e-01 |  7.590591e-01 |\n",
       "| Automatic |   3.33400809 |  8.810432e-04 |  8.810432e-04 |\n",
       "| CC |  -0.06188146 |  9.506671e-01 |  9.506671e-01 |\n",
       "| Doors |   0.32182598 |  7.476382e-01 |  7.476382e-01 |\n",
       "| Gears |   3.25899198 |  1.148079e-03 |  1.148079e-03 |\n",
       "| Weight |  11.56676201 |  1.790759e-29 |  1.790759e-29 |\n",
       "\n"
      ],
      "text/plain": [
       "            T_Statistics P_Values_Manual P_Values_Summary\n",
       "(Intercept)  -1.91555684  5.564875e-02    5.564875e-02   \n",
       "Age         -49.78213520 2.802533e-299   2.802533e-299   \n",
       "KM          -10.16168388  2.295236e-23    2.295236e-23   \n",
       "HP            7.52407315  1.009200e-13    1.009200e-13   \n",
       "Metallic     -0.30678348  7.590591e-01    7.590591e-01   \n",
       "Automatic     3.33400809  8.810432e-04    8.810432e-04   \n",
       "CC           -0.06188146  9.506671e-01    9.506671e-01   \n",
       "Doors         0.32182598  7.476382e-01    7.476382e-01   \n",
       "Gears         3.25899198  1.148079e-03    1.148079e-03   \n",
       "Weight       11.56676201  1.790759e-29    1.790759e-29   "
      ]
     },
     "metadata": {},
     "output_type": "display_data"
    },
    {
     "data": {
      "text/html": [
       "<table class=\"dataframe\">\n",
       "<caption>A data.frame: 10 x 4</caption>\n",
       "<thead>\n",
       "\t<tr><th></th><th scope=col>Variable</th><th scope=col>T_Statistics</th><th scope=col>P_Values</th><th scope=col>Significant</th></tr>\n",
       "\t<tr><th></th><th scope=col>&lt;chr&gt;</th><th scope=col>&lt;dbl&gt;</th><th scope=col>&lt;dbl&gt;</th><th scope=col>&lt;lgl&gt;</th></tr>\n",
       "</thead>\n",
       "<tbody>\n",
       "\t<tr><th scope=row>(Intercept)</th><td>(Intercept)</td><td> -1.91555684</td><td> 5.564875e-02</td><td>FALSE</td></tr>\n",
       "\t<tr><th scope=row>Age</th><td>Age        </td><td>-49.78213520</td><td>2.802533e-299</td><td> TRUE</td></tr>\n",
       "\t<tr><th scope=row>KM</th><td>KM         </td><td>-10.16168388</td><td> 2.295236e-23</td><td> TRUE</td></tr>\n",
       "\t<tr><th scope=row>HP</th><td>HP         </td><td>  7.52407315</td><td> 1.009200e-13</td><td> TRUE</td></tr>\n",
       "\t<tr><th scope=row>Metallic</th><td>Metallic   </td><td> -0.30678348</td><td> 7.590591e-01</td><td>FALSE</td></tr>\n",
       "\t<tr><th scope=row>Automatic</th><td>Automatic  </td><td>  3.33400809</td><td> 8.810432e-04</td><td> TRUE</td></tr>\n",
       "\t<tr><th scope=row>CC</th><td>CC         </td><td> -0.06188146</td><td> 9.506671e-01</td><td>FALSE</td></tr>\n",
       "\t<tr><th scope=row>Doors</th><td>Doors      </td><td>  0.32182598</td><td> 7.476382e-01</td><td>FALSE</td></tr>\n",
       "\t<tr><th scope=row>Gears</th><td>Gears      </td><td>  3.25899198</td><td> 1.148079e-03</td><td> TRUE</td></tr>\n",
       "\t<tr><th scope=row>Weight</th><td>Weight     </td><td> 11.56676201</td><td> 1.790759e-29</td><td> TRUE</td></tr>\n",
       "</tbody>\n",
       "</table>\n"
      ],
      "text/latex": [
       "A data.frame: 10 x 4\n",
       "\\begin{tabular}{r|llll}\n",
       "  & Variable & T\\_Statistics & P\\_Values & Significant\\\\\n",
       "  & <chr> & <dbl> & <dbl> & <lgl>\\\\\n",
       "\\hline\n",
       "\t(Intercept) & (Intercept) &  -1.91555684 &  5.564875e-02 & FALSE\\\\\n",
       "\tAge & Age         & -49.78213520 & 2.802533e-299 &  TRUE\\\\\n",
       "\tKM & KM          & -10.16168388 &  2.295236e-23 &  TRUE\\\\\n",
       "\tHP & HP          &   7.52407315 &  1.009200e-13 &  TRUE\\\\\n",
       "\tMetallic & Metallic    &  -0.30678348 &  7.590591e-01 & FALSE\\\\\n",
       "\tAutomatic & Automatic   &   3.33400809 &  8.810432e-04 &  TRUE\\\\\n",
       "\tCC & CC          &  -0.06188146 &  9.506671e-01 & FALSE\\\\\n",
       "\tDoors & Doors       &   0.32182598 &  7.476382e-01 & FALSE\\\\\n",
       "\tGears & Gears       &   3.25899198 &  1.148079e-03 &  TRUE\\\\\n",
       "\tWeight & Weight      &  11.56676201 &  1.790759e-29 &  TRUE\\\\\n",
       "\\end{tabular}\n"
      ],
      "text/markdown": [
       "\n",
       "A data.frame: 10 x 4\n",
       "\n",
       "| <!--/--> | Variable &lt;chr&gt; | T_Statistics &lt;dbl&gt; | P_Values &lt;dbl&gt; | Significant &lt;lgl&gt; |\n",
       "|---|---|---|---|---|\n",
       "| (Intercept) | (Intercept) |  -1.91555684 |  5.564875e-02 | FALSE |\n",
       "| Age | Age         | -49.78213520 | 2.802533e-299 |  TRUE |\n",
       "| KM | KM          | -10.16168388 |  2.295236e-23 |  TRUE |\n",
       "| HP | HP          |   7.52407315 |  1.009200e-13 |  TRUE |\n",
       "| Metallic | Metallic    |  -0.30678348 |  7.590591e-01 | FALSE |\n",
       "| Automatic | Automatic   |   3.33400809 |  8.810432e-04 |  TRUE |\n",
       "| CC | CC          |  -0.06188146 |  9.506671e-01 | FALSE |\n",
       "| Doors | Doors       |   0.32182598 |  7.476382e-01 | FALSE |\n",
       "| Gears | Gears       |   3.25899198 |  1.148079e-03 |  TRUE |\n",
       "| Weight | Weight      |  11.56676201 |  1.790759e-29 |  TRUE |\n",
       "\n"
      ],
      "text/plain": [
       "            Variable    T_Statistics P_Values      Significant\n",
       "(Intercept) (Intercept)  -1.91555684  5.564875e-02 FALSE      \n",
       "Age         Age         -49.78213520 2.802533e-299  TRUE      \n",
       "KM          KM          -10.16168388  2.295236e-23  TRUE      \n",
       "HP          HP            7.52407315  1.009200e-13  TRUE      \n",
       "Metallic    Metallic     -0.30678348  7.590591e-01 FALSE      \n",
       "Automatic   Automatic     3.33400809  8.810432e-04  TRUE      \n",
       "CC          CC           -0.06188146  9.506671e-01 FALSE      \n",
       "Doors       Doors         0.32182598  7.476382e-01 FALSE      \n",
       "Gears       Gears         3.25899198  1.148079e-03  TRUE      \n",
       "Weight      Weight       11.56676201  1.790759e-29  TRUE      "
      ]
     },
     "metadata": {},
     "output_type": "display_data"
    }
   ],
   "source": [
    "# Extract coefficients and standard errors\n",
    "coefficients <- coef(summary(model))\n",
    "beta_hat <- coefficients[, \"Estimate\"]\n",
    "se_beta_hat <- coefficients[, \"Std. Error\"]\n",
    "\n",
    "# Calculate t-statistics manually\n",
    "t_statistics_manual <- beta_hat / se_beta_hat\n",
    "\n",
    "# Compare with t-statistics from summary()\n",
    "t_statistics_summary <- coefficients[, \"t value\"]\n",
    "all.equal(t_statistics_manual, t_statistics_summary)\n",
    "\n",
    "# Display the t-statistics\n",
    "data.frame(\n",
    "  Beta_Hat = beta_hat,\n",
    "  SE_Beta_Hat = se_beta_hat,\n",
    "  T_Statistics_Manual = t_statistics_manual,\n",
    "  T_Statistics_Summary = t_statistics_summary\n",
    ")\n",
    "\n",
    "# Get degrees of freedom\n",
    "df <- model$df.residual\n",
    "\n",
    "# Calculate critical value\n",
    "critical_value <- qt(0.975, df)\n",
    "# 0.975 for two-tailed test at 95% confidence\n",
    "critical_value\n",
    "\n",
    "# Calculate p-values manually\n",
    "p_values_manual <- 2 * pt(-abs(t_statistics_manual), df)\n",
    "\n",
    "# Compare with p-values from summary()\n",
    "p_values_summary <- coefficients[, \"Pr(>|t|)\"]\n",
    "all.equal(p_values_manual, p_values_summary)\n",
    "# Should return TRUE\n",
    "\n",
    "# Display the p-values\n",
    "data.frame(\n",
    "  T_Statistics = t_statistics_manual,\n",
    "  P_Values_Manual = p_values_manual,\n",
    "  P_Values_Summary = p_values_summary\n",
    ")\n",
    "\n",
    "# Identify significant variables\n",
    "significant_variables <-\n",
    "  abs(t_statistics_manual) > critical_value | p_values_manual < 0.05\n",
    "\n",
    "# Display significant variables\n",
    "data.frame(\n",
    "  Variable = rownames(coefficients),\n",
    "  T_Statistics = t_statistics_manual,\n",
    "  P_Values = p_values_manual,\n",
    "  Significant = significant_variables\n",
    ")"
   ]
  },
  {
   "cell_type": "markdown",
   "metadata": {},
   "source": [
    "## Task 3"
   ]
  },
  {
   "cell_type": "code",
   "execution_count": 9,
   "metadata": {
    "vscode": {
     "languageId": "r"
    }
   },
   "outputs": [
    {
     "data": {
      "text/html": [
       "TRUE"
      ],
      "text/latex": [
       "TRUE"
      ],
      "text/markdown": [
       "TRUE"
      ],
      "text/plain": [
       "[1] TRUE"
      ]
     },
     "metadata": {},
     "output_type": "display_data"
    },
    {
     "data": {
      "text/html": [
       "<table class=\"dataframe\">\n",
       "<caption>A data.frame: 1 x 2</caption>\n",
       "<thead>\n",
       "\t<tr><th scope=col>r_squared_manual</th><th scope=col>r_squared_summary</th></tr>\n",
       "\t<tr><th scope=col>&lt;dbl&gt;</th><th scope=col>&lt;dbl&gt;</th></tr>\n",
       "</thead>\n",
       "<tbody>\n",
       "\t<tr><td>0.8648677</td><td>0.8648677</td></tr>\n",
       "</tbody>\n",
       "</table>\n"
      ],
      "text/latex": [
       "A data.frame: 1 x 2\n",
       "\\begin{tabular}{ll}\n",
       " r\\_squared\\_manual & r\\_squared\\_summary\\\\\n",
       " <dbl> & <dbl>\\\\\n",
       "\\hline\n",
       "\t 0.8648677 & 0.8648677\\\\\n",
       "\\end{tabular}\n"
      ],
      "text/markdown": [
       "\n",
       "A data.frame: 1 x 2\n",
       "\n",
       "| r_squared_manual &lt;dbl&gt; | r_squared_summary &lt;dbl&gt; |\n",
       "|---|---|\n",
       "| 0.8648677 | 0.8648677 |\n",
       "\n"
      ],
      "text/plain": [
       "  r_squared_manual r_squared_summary\n",
       "1 0.8648677        0.8648677        "
      ]
     },
     "metadata": {},
     "output_type": "display_data"
    },
    {
     "name": "stdout",
     "output_type": "stream",
     "text": [
      "\n",
      "The downloaded binary packages are in\n",
      "\t/var/folders/c6/c9_qxvf55ksch5f2x5v7c3980000gn/T//RtmpzyHXfb/downloaded_packages\n",
      "      Age        KM        HP  Metallic Automatic        CC     Doors     Gears \n",
      " 1.914772  1.586299  1.548521  1.017014  1.101810  1.104307  1.269749  1.129618 \n",
      "   Weight \n",
      " 2.096541 \n",
      "[1] 2.096541\n"
     ]
    }
   ],
   "source": [
    "# Calculate R-squared manually\n",
    "ssr <- sum((fitted(model) - mean(used_cars$Price))^2)\n",
    "# Regression sum of squares\n",
    "sst <- sum((used_cars$Price - mean(used_cars$Price))^2)\n",
    "# Total sum of squares\n",
    "r_squared_manual <- ssr / sst\n",
    "\n",
    "# Retrieve R-squared from the summary output\n",
    "r_squared_summary <- summary(model)$r.squared\n",
    "\n",
    "# Compare the two R-squared values\n",
    "all.equal(r_squared_manual, r_squared_summary)\n",
    "\n",
    "# Display the R-squared values\n",
    "data.frame(\n",
    "  r_squared_manual = r_squared_manual,\n",
    "  r_squared_summary = r_squared_summary\n",
    ")\n",
    "\n",
    "# Install and load the car package\n",
    "install.packages(\"car\")\n",
    "library(car)\n",
    "\n",
    "# Calculate VIF for all independent variables\n",
    "vif_values <- vif(model)\n",
    "\n",
    "# Display the VIF values\n",
    "print(vif_values)\n",
    "\n",
    "# Discuss multicollinearity\n",
    "# A VIF > 10 indicates high multicollinearity.\n",
    "\n",
    "# Regress Weight on all other independent variables\n",
    "weight_model <- lm(\n",
    "  Weight ~ Age + KM + HP + Metallic + Automatic + CC + Doors + Gears,\n",
    "  data = used_cars\n",
    ")\n",
    "\n",
    "# Retrieve R-squared for the Weight regression\n",
    "r_squared_weight <- summary(weight_model)$r.squared\n",
    "\n",
    "# Calculate VIF for Weight\n",
    "vif_weight <- 1 / (1 - r_squared_weight)\n",
    "\n",
    "# Display the VIF value for Weight\n",
    "print(vif_weight)"
   ]
  },
  {
   "cell_type": "markdown",
   "metadata": {},
   "source": [
    "## Task 4"
   ]
  },
  {
   "cell_type": "code",
   "execution_count": 10,
   "metadata": {
    "vscode": {
     "languageId": "r"
    }
   },
   "outputs": [
    {
     "data": {
      "text/plain": [
       "\n",
       "Call:\n",
       "lm(formula = Price ~ Age + KM + HP + Weight, data = used_cars)\n",
       "\n",
       "Residuals:\n",
       "    Min      1Q  Median      3Q     Max \n",
       "-8682.6  -768.3   -53.2   716.0  6335.4 \n",
       "\n",
       "Coefficients:\n",
       "              Estimate Std. Error t value Pr(>|t|)    \n",
       "(Intercept) -8.257e+02  1.184e+03  -0.697    0.486    \n",
       "Age         -1.287e+02  2.590e+00 -49.680  < 2e-16 ***\n",
       "KM          -1.484e-02  1.442e-03 -10.291  < 2e-16 ***\n",
       "HP           2.616e+01  3.200e+00   8.175 7.13e-16 ***\n",
       "Weight       1.600e+01  1.176e+00  13.608  < 2e-16 ***\n",
       "---\n",
       "Signif. codes:  0 '***' 0.001 '**' 0.01 '*' 0.05 '.' 0.1 ' ' 1\n",
       "\n",
       "Residual standard error: 1235 on 1259 degrees of freedom\n",
       "Multiple R-squared:  0.8626,\tAdjusted R-squared:  0.8622 \n",
       "F-statistic:  1976 on 4 and 1259 DF,  p-value: < 2.2e-16\n"
      ]
     },
     "metadata": {},
     "output_type": "display_data"
    },
    {
     "name": "stdout",
     "output_type": "stream",
     "text": [
      "       Model R_Squared Adjusted_R_Squared\n",
      "1 Full Model 0.8648677          0.8638979\n",
      "2  New Model 0.8626271          0.8621907\n",
      "Effect of Age: For every additional month, the price decreases by -128.6562 Euros.\n",
      "Effect of KM: For every additional kilometer, the price decreases by -0.01484368 Euros.\n",
      "Effect of Age (1 year): For every additional year, the price decreases by -1543.874 Euros.\n",
      "Effect of KM (10,000 km): For every additional 10,000 km, the price decreases by -148.4368 Euros.\n"
     ]
    }
   ],
   "source": [
    "# Run a new linear regression with only significant variables\n",
    "new_model <- lm(\n",
    "  Price ~ Age + KM + HP + Weight,  # Replace with your significant variables\n",
    "  data = used_cars\n",
    ")\n",
    "\n",
    "# Display the regression summary\n",
    "summary(new_model)\n",
    "\n",
    "# Retrieve R-squared and Adjusted R-squared for the full model\n",
    "r_squared_full <- summary(model)$r.squared\n",
    "adj_r_squared_full <- summary(model)$adj.r.squared\n",
    "\n",
    "# Retrieve R-squared and Adjusted R-squared for the new model\n",
    "r_squared_new <- summary(new_model)$r.squared\n",
    "adj_r_squared_new <- summary(new_model)$adj.r.squared\n",
    "\n",
    "# Compare the values\n",
    "comparison <- data.frame(\n",
    "  Model = c(\"Full Model\", \"New Model\"),\n",
    "  R_Squared = c(r_squared_full, r_squared_new),\n",
    "  Adjusted_R_Squared = c(adj_r_squared_full, adj_r_squared_new)\n",
    ")\n",
    "\n",
    "# Display the comparison\n",
    "print(comparison)\n",
    "\n",
    "# Retrieve coefficients from the new model\n",
    "coefficients <- coef(summary(new_model))\n",
    "\n",
    "# Interpret the effects\n",
    "age_effect <- coefficients[\"Age\", \"Estimate\"]  # Effect of Age\n",
    "km_effect <- coefficients[\"KM\", \"Estimate\"]    # Effect of KM\n",
    "\n",
    "# Display the effects\n",
    "cat(\"Effect of Age: For every additional month, the price decreases by\", age_effect, \"Euros.\\n\")\n",
    "cat(\"Effect of KM: For every additional kilometer, the price decreases by\", km_effect, \"Euros.\\n\")\n",
    "\n",
    "# Convert effects for specific scenarios\n",
    "age_effect_year <- age_effect * 12\n",
    "# Effect of one additional year\n",
    "km_effect_10k <- km_effect * 10000\n",
    "# Effect of 10,000 additional kilometers\n",
    "\n",
    "cat(\"Effect of Age (1 year): For every additional year, the price decreases by\", age_effect_year, \"Euros.\\n\")\n",
    "cat(\"Effect of KM (10,000 km): For every additional 10,000 km, the price decreases by\", km_effect_10k, \"Euros.\\n\")"
   ]
  },
  {
   "cell_type": "markdown",
   "metadata": {},
   "source": [
    "## Homework Questions"
   ]
  },
  {
   "cell_type": "code",
   "execution_count": null,
   "metadata": {
    "vscode": {
     "languageId": "r"
    }
   },
   "outputs": [
    {
     "name": "stdout",
     "output_type": "stream",
     "text": [
      "The 7th fitted value (<U+0177>) is: 19698.89 \n",
      "The 7th residual is: 2301.109 \n"
     ]
    }
   ],
   "source": [
    "# Retrieve the 7th fitted value\n",
    "fitted_value_7 <- fitted_values[7]\n",
    "\n",
    "# Retrieve the 7th residual\n",
    "residual_7 <- residuals_values[7]\n",
    "\n",
    "# Display the results\n",
    "cat(\"The 7th fitted value (ŷ) is:\", fitted_value_7, \"\\n\")\n",
    "cat(\"The 7th residual is:\", residual_7, \"\\n\")\n"
   ]
  },
  {
   "cell_type": "code",
   "execution_count": 5,
   "metadata": {
    "vscode": {
     "languageId": "r"
    }
   },
   "outputs": [
    {
     "name": "stdout",
     "output_type": "stream",
     "text": [
      " (Intercept)          Age           KM           HP     Metallic    Automatic \n",
      " -1.91555684 -49.78213520 -10.16168388   7.52407315  -0.30678348   3.33400809 \n",
      "          CC        Doors        Gears       Weight \n",
      " -0.06188146   0.32182598   3.25899198  11.56676201 \n"
     ]
    }
   ],
   "source": [
    "# Extract the coefficient matrix from the regression summary\n",
    "coefficients <- coef(summary(model))\n",
    "\n",
    "# Calculate the t-statistics\n",
    "t_statistics <- coefficients[, \"Estimate\"] / coefficients[, \"Std. Error\"]\n",
    "\n",
    "# Display the t-statistics\n",
    "print(t_statistics)"
   ]
  },
  {
   "cell_type": "code",
   "execution_count": 6,
   "metadata": {
    "vscode": {
     "languageId": "r"
    }
   },
   "outputs": [
    {
     "name": "stdout",
     "output_type": "stream",
     "text": [
      "The t-statistic for HP is: 7.524073 \n"
     ]
    }
   ],
   "source": [
    "# Extract the coefficient matrix from the regression summary\n",
    "coefficients <- coef(summary(model))\n",
    "\n",
    "# Retrieve the t-statistic for HP\n",
    "t_stat_hp <- coefficients[\"HP\", \"t value\"]\n",
    "\n",
    "# Display the t-statistic for HP\n",
    "cat(\"The t-statistic for HP is:\", t_stat_hp, \"\\n\")"
   ]
  },
  {
   "cell_type": "code",
   "execution_count": 7,
   "metadata": {
    "vscode": {
     "languageId": "r"
    }
   },
   "outputs": [
    {
     "name": "stdout",
     "output_type": "stream",
     "text": [
      "The degrees of freedom (df) is: 1254 \n"
     ]
    }
   ],
   "source": [
    "# Retrieve the degrees of freedom from the model\n",
    "degrees_of_freedom <- model$df.residual\n",
    "\n",
    "# Display the degrees of freedom\n",
    "cat(\"The degrees of freedom (df) is:\", degrees_of_freedom, \"\\n\")"
   ]
  },
  {
   "cell_type": "code",
   "execution_count": 8,
   "metadata": {
    "vscode": {
     "languageId": "r"
    }
   },
   "outputs": [
    {
     "name": "stdout",
     "output_type": "stream",
     "text": [
      "The critical value is: 1.961858 \n"
     ]
    }
   ],
   "source": [
    "# Retrieve degrees of freedom\n",
    "degrees_of_freedom <- model$df.residual\n",
    "\n",
    "# Calculate the critical value for a 95% confidence level\n",
    "critical_value <- qt(0.975, degrees_of_freedom)\n",
    "\n",
    "# Display the critical value\n",
    "cat(\"The critical value is:\", critical_value, \"\\n\")"
   ]
  },
  {
   "cell_type": "code",
   "execution_count": 9,
   "metadata": {
    "vscode": {
     "languageId": "r"
    }
   },
   "outputs": [
    {
     "name": "stdout",
     "output_type": "stream",
     "text": [
      "The p-value for CC is: 0.9506671 \n"
     ]
    }
   ],
   "source": [
    "# Extract the coefficient matrix from the regression summary\n",
    "coefficients <- coef(summary(model))\n",
    "\n",
    "# Retrieve the p-value for CC\n",
    "p_value_cc <- coefficients[\"CC\", \"Pr(>|t|)\"]\n",
    "\n",
    "# Display the p-value for CC\n",
    "cat(\"The p-value for CC is:\", p_value_cc, \"\\n\")"
   ]
  },
  {
   "cell_type": "code",
   "execution_count": 10,
   "metadata": {
    "vscode": {
     "languageId": "r"
    }
   },
   "outputs": [
    {
     "name": "stdout",
     "output_type": "stream",
     "text": [
      "Statistically significant variables are: Age KM HP Automatic Gears Weight \n"
     ]
    }
   ],
   "source": [
    "# Extract the coefficient matrix from the regression summary\n",
    "coefficients <- coef(summary(model))\n",
    "\n",
    "# Retrieve p-values\n",
    "p_values <- coefficients[, \"Pr(>|t|)\"]\n",
    "\n",
    "# Identify statistically significant variables (p-value < 0.05)\n",
    "significant_variables <- rownames(coefficients)[p_values < 0.05]\n",
    "\n",
    "# Display significant variables\n",
    "cat(\"Statistically significant variables are:\", significant_variables, \"\\n\")"
   ]
  },
  {
   "cell_type": "code",
   "execution_count": 18,
   "metadata": {
    "vscode": {
     "languageId": "r"
    }
   },
   "outputs": [
    {
     "name": "stdout",
     "output_type": "stream",
     "text": [
      "Statistically significant variables are: Age KM HP Automatic Gears Weight \n",
      "Variables that are NOT statistically significant at 95% confidence level are: (Intercept) Metallic CC Doors \n"
     ]
    }
   ],
   "source": [
    "# Extract the coefficient matrix from the regression summary\n",
    "coefficients <- coef(summary(model))\n",
    "\n",
    "# Retrieve p-values\n",
    "p_values <- coefficients[, \"Pr(>|t|)\"]\n",
    "\n",
    "# Identify variables that are NOT statistically significant (p-value >= 0.05)\n",
    "non_significant_variables <- rownames(coefficients)[p_values >= 0.05]\n",
    "\n",
    "significant_variables <- rownames(coefficients)[p_values < 0.05]\n",
    "# Display significant variables\n",
    "cat(\"Statistically significant variables are:\", significant_variables, \"\\n\")\n",
    "\n",
    "# Display non-significant variables\n",
    "cat(\"Variables that are NOT statistically significant at 95% confidence level are:\",\n",
    "    non_significant_variables, \"\\n\")"
   ]
  },
  {
   "cell_type": "code",
   "execution_count": 13,
   "metadata": {
    "vscode": {
     "languageId": "r"
    }
   },
   "outputs": [
    {
     "name": "stdout",
     "output_type": "stream",
     "text": [
      "The calculated R-squared is: 0.8648677 \n"
     ]
    }
   ],
   "source": [
    "# Create the linear regression model\n",
    "lm_res <- lm(\n",
    "  Price ~ Age + KM + HP + Metallic + Automatic + CC + Doors + Gears + Weight,\n",
    "  data = used_cars\n",
    ")\n",
    "\n",
    "# Calculate RSS (Residual Sum of Squares)\n",
    "rss <- sum(resid(lm_res)^2)\n",
    "\n",
    "# Calculate TSS (Total Sum of Squares)\n",
    "tss <- sum((lm_res$model$Price - mean(lm_res$model$Price))^2)\n",
    "\n",
    "# Calculate R-squared\n",
    "r_squared <- 1 - (rss / tss)\n",
    "\n",
    "# Display the R-squared value\n",
    "cat(\"The calculated R-squared is:\", r_squared, \"\\n\")"
   ]
  },
  {
   "cell_type": "code",
   "execution_count": 14,
   "metadata": {
    "vscode": {
     "languageId": "r"
    }
   },
   "outputs": [
    {
     "name": "stderr",
     "output_type": "stream",
     "text": [
      "Loading required package: carData\n",
      "\n"
     ]
    },
    {
     "name": "stdout",
     "output_type": "stream",
     "text": [
      "The VIF for KM is: 1.586299 \n"
     ]
    }
   ],
   "source": [
    "# Install and load the car package if not already installed\n",
    "if (!requireNamespace(\"car\", quietly = TRUE)) {\n",
    "  install.packages(\"car\")\n",
    "}\n",
    "library(car)\n",
    "\n",
    "# Calculate VIF for all independent variables\n",
    "vif_values <- vif(lm_res)\n",
    "\n",
    "# Retrieve the VIF for the KM variable\n",
    "vif_km <- vif_values[\"KM\"]\n",
    "\n",
    "# Display the VIF for KM\n",
    "cat(\"The VIF for KM is:\", vif_km, \"\\n\")"
   ]
  },
  {
   "cell_type": "code",
   "execution_count": 15,
   "metadata": {
    "vscode": {
     "languageId": "r"
    }
   },
   "outputs": [
    {
     "name": "stdout",
     "output_type": "stream",
     "text": [
      "The R-squared value for Weight is: 0.5230239 \n"
     ]
    }
   ],
   "source": [
    "# Regress Weight on all other independent variables\n",
    "weight_model <- lm(\n",
    "  Weight ~ Age + KM + HP + Metallic + Automatic + CC + Doors + Gears,\n",
    "  data = used_cars\n",
    ")\n",
    "\n",
    "# Retrieve R-squared for the Weight regression\n",
    "r_squared_weight <- summary(weight_model)$r.squared\n",
    "\n",
    "# Display the R-squared value\n",
    "cat(\"The R-squared value for Weight is:\", r_squared_weight, \"\\n\")"
   ]
  },
  {
   "cell_type": "code",
   "execution_count": 20,
   "metadata": {
    "vscode": {
     "languageId": "r"
    }
   },
   "outputs": [
    {
     "name": "stdout",
     "output_type": "stream",
     "text": [
      "The estimated coefficient (<U+03B2><U+0302>) of Gears is: 6.139e+02 \n"
     ]
    }
   ],
   "source": [
    "# Run the new regression model with only significant variables\n",
    "new_model <- lm(\n",
    "  Price ~ Age + KM + HP + Automatic + Gears + Weight,\n",
    "  # Include significant variables\n",
    "  data = used_cars\n",
    ")\n",
    "\n",
    "# Retrieve the estimated coefficient for Gears\n",
    "beta_hat_gears <- coef(new_model)[\"Gears\"]\n",
    "\n",
    "# Display the coefficient in scientific notation\n",
    "cat(\n",
    "  \"The estimated coefficient (β̂) of Gears is:\",\n",
    "  formatC(beta_hat_gears, format = \"e\", digits = 3),\n",
    "  \"\\n\"\n",
    ")"
   ]
  },
  {
   "cell_type": "code",
   "execution_count": 21,
   "metadata": {
    "vscode": {
     "languageId": "r"
    }
   },
   "outputs": [
    {
     "name": "stdout",
     "output_type": "stream",
     "text": [
      "The Adjusted R-Squared of the simplified model is: 0.8642022 \n"
     ]
    }
   ],
   "source": [
    "# Retrieve Adjusted R-Squared for the simplified regression model\n",
    "adjusted_r_squared <- summary(new_model)$adj.r.squared\n",
    "\n",
    "# Display the Adjusted R-Squared value\n",
    "cat(\n",
    "  \"The Adjusted R-Squared of the simplified model is:\",\n",
    "  adjusted_r_squared,\n",
    "  \"\\n\"\n",
    ")"
   ]
  },
  {
   "cell_type": "code",
   "execution_count": 23,
   "metadata": {
    "vscode": {
     "languageId": "r"
    }
   },
   "outputs": [
    {
     "name": "stdout",
     "output_type": "stream",
     "text": [
      "Full Model - R-Squared: 0.8648677 , Adjusted R-Squared: 0.8638979 \n",
      " Simplified Model - R-Squared: 0.8648474 , Adjusted R-Squared: 0.8642022 \n"
     ]
    }
   ],
   "source": [
    "# Retrieve R-Squared and Adjusted R-Squared for both models\n",
    "r_squared_full <- summary(lm_res)$r.squared\n",
    "adj_r_squared_full <- summary(lm_res)$adj.r.squared\n",
    "\n",
    "r_squared_simplified <- summary(new_model)$r.squared\n",
    "adj_r_squared_simplified <- summary(new_model)$adj.r.squared\n",
    "\n",
    "# Display the comparison\n",
    "cat(\n",
    "  \"Full Model - R-Squared:\", r_squared_full, \", Adjusted R-Squared:\", adj_r_squared_full, \"\\n\", # nolint\n",
    "  \"Simplified Model - R-Squared:\", r_squared_simplified, \", Adjusted R-Squared:\", adj_r_squared_simplified, \"\\n\" # nolint\n",
    ")"
   ]
  },
  {
   "cell_type": "code",
   "execution_count": 25,
   "metadata": {
    "vscode": {
     "languageId": "r"
    }
   },
   "outputs": [
    {
     "name": "stdout",
     "output_type": "stream",
     "text": [
      "Holding everything else equal, the sales price would change by: -<U+20AC>1,558.46 if a car were one year older.\n"
     ]
    }
   ],
   "source": [
    "# Retrieve the estimated coefficient for Age\n",
    "beta_hat_age <- coef(new_model)[\"Age\"]\n",
    "\n",
    "# Calculate the price change for one year (12 months)\n",
    "price_change_one_year <- beta_hat_age * 12\n",
    "\n",
    "# Install and load the scales package if not already installed\n",
    "if (!requireNamespace(\"scales\", quietly = TRUE)) {\n",
    "  install.packages(\"scales\")\n",
    "}\n",
    "library(scales)\n",
    "\n",
    "# Format the price change as Euro currency\n",
    "euro_format <- dollar_format(prefix = \"€\", big.mark = \",\", decimal.mark = \".\")\n",
    "\n",
    "# Display the result in Euro format\n",
    "cat(\n",
    "  \"Holding everything else equal, the sales price would change by:\",\n",
    "  euro_format(price_change_one_year),\n",
    "  \"if a car were one year older.\\n\"\n",
    ")"
   ]
  },
  {
   "cell_type": "code",
   "execution_count": 26,
   "metadata": {
    "vscode": {
     "languageId": "r"
    }
   },
   "outputs": [
    {
     "name": "stdout",
     "output_type": "stream",
     "text": [
      "Current encoding: C \n"
     ]
    },
    {
     "data": {
      "text/html": [
       "'en_US.UTF-8'"
      ],
      "text/latex": [
       "'en\\_US.UTF-8'"
      ],
      "text/markdown": [
       "'en_US.UTF-8'"
      ],
      "text/plain": [
       "[1] \"en_US.UTF-8\""
      ]
     },
     "metadata": {},
     "output_type": "display_data"
    }
   ],
   "source": [
    "# Check the current encoding\n",
    "cat(\"Current encoding:\", Sys.getlocale(\"LC_CTYPE\"), \"\\n\")\n",
    "\n",
    "# Set the encoding to UTF-8\n",
    "Sys.setlocale(\"LC_CTYPE\", \"en_US.UTF-8\")"
   ]
  },
  {
   "cell_type": "code",
   "execution_count": 28,
   "metadata": {
    "vscode": {
     "languageId": "r"
    }
   },
   "outputs": [
    {
     "name": "stdout",
     "output_type": "stream",
     "text": [
      "Holding everything else equal, the sales price would change by:€ -146.3109 if a car accumulated 10,000 more kilometers.\n"
     ]
    }
   ],
   "source": [
    "# Retrieve the estimated coefficient for KM\n",
    "beta_hat_km <- coef(new_model)[\"KM\"]\n",
    "\n",
    "# Calculate the price change for 10,000 additional kilometers\n",
    "price_change_10k_km <- beta_hat_km * 10000\n",
    "\n",
    "# Display the result\n",
    "cat(\n",
    "  \"Holding everything else equal, the sales price would change by:€\",\n",
    "  price_change_10k_km, \"if a car accumulated 10,000 more kilometers.\\n\"\n",
    ")"
   ]
  }
 ],
 "metadata": {
  "kernelspec": {
   "display_name": "R",
   "language": "R",
   "name": "ir"
  },
  "language_info": {
   "codemirror_mode": "r",
   "file_extension": ".r",
   "mimetype": "text/x-r-source",
   "name": "R",
   "pygments_lexer": "r",
   "version": "4.4.2"
  }
 },
 "nbformat": 4,
 "nbformat_minor": 2
}
