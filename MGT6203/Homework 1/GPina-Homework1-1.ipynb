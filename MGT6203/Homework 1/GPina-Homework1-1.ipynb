version https://git-lfs.github.com/spec/v1
oid sha256:1c7971fa1dbe3092b1ae9333d84278c4a97e7fbe180e8614de6849611ad25287
size 43965
