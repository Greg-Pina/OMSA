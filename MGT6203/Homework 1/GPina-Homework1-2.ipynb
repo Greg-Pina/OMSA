{
 "cells": [
  {
   "cell_type": "markdown",
   "metadata": {},
   "source": [
    "# Import Data and Prepare Variables\n",
    "Import the dataset into R. Convert the 'Education' variable into a factor using the as.factor() function. Display the structure of the data to confirm the conversion."
   ]
  },
  {
   "cell_type": "markdown",
   "metadata": {},
   "source": [
    "## Task 1"
   ]
  },
  {
   "cell_type": "code",
   "execution_count": 16,
   "metadata": {
    "vscode": {
     "languageId": "r"
    }
   },
   "outputs": [
    {
     "name": "stderr",
     "output_type": "stream",
     "text": [
      "\u001b[1mRows: \u001b[22m\u001b[34m5000\u001b[39m \u001b[1mColumns: \u001b[22m\u001b[34m5\u001b[39m\n",
      "\u001b[36m--\u001b[39m \u001b[1mColumn specification\u001b[22m \u001b[36m--------------------------------------------------------\u001b[39m\n",
      "\u001b[1mDelimiter:\u001b[22m \",\"\n",
      "\u001b[32mdbl\u001b[39m (5): Loan, Income, Family, CCAvg, Education\n",
      "\n",
      "\u001b[36mi\u001b[39m Use `spec()` to retrieve the full column specification for this data.\n",
      "\u001b[36mi\u001b[39m Specify the column types or set `show_col_types = FALSE` to quiet this message.\n"
     ]
    },
    {
     "name": "stdout",
     "output_type": "stream",
     "text": [
      "spc_tbl_ [5,000 x 5] (S3: spec_tbl_df/tbl_df/tbl/data.frame)\n",
      " $ Loan     : num [1:5000] 0 0 0 0 0 0 0 0 0 1 ...\n",
      " $ Income   : num [1:5000] 49 34 11 100 45 29 72 22 81 180 ...\n",
      " $ Family   : num [1:5000] 4 3 1 1 4 4 2 1 3 1 ...\n",
      " $ CCAvg    : num [1:5000] 1.6 1.5 1 2.7 1 0.4 1.5 0.3 0.6 8.9 ...\n",
      " $ Education: Factor w/ 3 levels \"1\",\"2\",\"3\": 1 1 1 2 2 2 2 3 2 3 ...\n",
      " - attr(*, \"spec\")=\n",
      "  .. cols(\n",
      "  ..   Loan = \u001b[32mcol_double()\u001b[39m,\n",
      "  ..   Income = \u001b[32mcol_double()\u001b[39m,\n",
      "  ..   Family = \u001b[32mcol_double()\u001b[39m,\n",
      "  ..   CCAvg = \u001b[32mcol_double()\u001b[39m,\n",
      "  ..   Education = \u001b[32mcol_double()\u001b[39m\n",
      "  .. )\n",
      " - attr(*, \"problems\")=<externalptr> \n"
     ]
    }
   ],
   "source": [
    "# Load necessary libraries\n",
    "library(readr)\n",
    "\n",
    "# Import the dataset\n",
    "loan_data <- read_csv(\"Loan.csv\")\n",
    "\n",
    "# Convert 'Education' variable into a factor\n",
    "loan_data$Education <- as.factor(loan_data$Education)\n",
    "\n",
    "# Display the structure of the data to confirm the conversion\n",
    "str(loan_data)"
   ]
  },
  {
   "cell_type": "markdown",
   "metadata": {},
   "source": [
    "# Run Linear Probability Model\n",
    "Fit a linear probability model by regressing 'Loan' on 'Income', 'Family', 'CCAvg', and 'Education'. Use the lm() function and display the summary of the regression results."
   ]
  },
  {
   "cell_type": "code",
   "execution_count": 13,
   "metadata": {
    "vscode": {
     "languageId": "r"
    }
   },
   "outputs": [
    {
     "name": "stdout",
     "output_type": "stream",
     "text": [
      "\n",
      "Call:\n",
      "lm(formula = Loan ~ Income + Family + CCAvg + Education, data = loan_data)\n",
      "\n",
      "Residuals:\n",
      "     Min       1Q   Median       3Q      Max \n",
      "-0.56354 -0.14730 -0.03822  0.06978  1.05386 \n",
      "\n",
      "Coefficients:\n",
      "              Estimate Std. Error t value Pr(>|t|)    \n",
      "(Intercept) -3.455e-01  1.127e-02 -30.653  < 2e-16 ***\n",
      "Income       3.367e-03  9.799e-05  34.364  < 2e-16 ***\n",
      "Family       3.160e-02  3.010e-03  10.499  < 2e-16 ***\n",
      "CCAvg        1.373e-02  2.538e-03   5.412 6.52e-08 ***\n",
      "Education2   1.517e-01  8.473e-03  17.908  < 2e-16 ***\n",
      "Education3   1.605e-01  8.229e-03  19.511  < 2e-16 ***\n",
      "---\n",
      "Signif. codes:  0 '***' 0.001 '**' 0.01 '*' 0.05 '.' 0.1 ' ' 1\n",
      "\n",
      "Residual standard error: 0.2393 on 4994 degrees of freedom\n",
      "Multiple R-squared:  0.3409,\tAdjusted R-squared:  0.3402 \n",
      "F-statistic: 516.6 on 5 and 4994 DF,  p-value: < 2.2e-16\n",
      "\n"
     ]
    }
   ],
   "source": [
    "# Ensure the dataset contains the required variables\n",
    "if (all(c(\"Loan\", \"Income\", \"Family\", \"CCAvg\", \"Education\") %in% names(loan_data))) {\n",
    "  # Ensure 'Loan' is numeric\n",
    "  loan_data$Loan <- as.numeric(loan_data$Loan)\n",
    "  # Fit a linear probability model\n",
    "  linear_model <- lm(Loan ~ Income + Family + CCAvg + Education, data = loan_data)\n",
    "  # Display the summary of the regression results\n",
    "  print(summary(linear_model))\n",
    "} else {\n",
    "  stop(\"The dataset 'loan_data' does not contain all the required variables.\")\n",
    "}"
   ]
  },
  {
   "cell_type": "markdown",
   "metadata": {},
   "source": [
    "# Interpret Coefficients for Education Variables\n",
    "Interpret the coefficients in front of the two 'Education' factor variables from the regression output. Discuss what these coefficients represent in the context of the model."
   ]
  },
  {
   "cell_type": "code",
   "execution_count": 14,
   "metadata": {
    "vscode": {
     "languageId": "r"
    }
   },
   "outputs": [
    {
     "data": {
      "text/html": [
       "<table class=\"dataframe\">\n",
       "<caption>A matrix: 2 x 4 of type dbl</caption>\n",
       "<thead>\n",
       "\t<tr><th></th><th scope=col>Estimate</th><th scope=col>Std. Error</th><th scope=col>t value</th><th scope=col>Pr(&gt;|t|)</th></tr>\n",
       "</thead>\n",
       "<tbody>\n",
       "\t<tr><th scope=row>Education2</th><td>0.1517432</td><td>0.008473425</td><td>17.90813</td><td>1.466660e-69</td></tr>\n",
       "\t<tr><th scope=row>Education3</th><td>0.1605467</td><td>0.008228543</td><td>19.51096</td><td>9.172939e-82</td></tr>\n",
       "</tbody>\n",
       "</table>\n"
      ],
      "text/latex": [
       "A matrix: 2 x 4 of type dbl\n",
       "\\begin{tabular}{r|llll}\n",
       "  & Estimate & Std. Error & t value & Pr(>\\textbar{}t\\textbar{})\\\\\n",
       "\\hline\n",
       "\tEducation2 & 0.1517432 & 0.008473425 & 17.90813 & 1.466660e-69\\\\\n",
       "\tEducation3 & 0.1605467 & 0.008228543 & 19.51096 & 9.172939e-82\\\\\n",
       "\\end{tabular}\n"
      ],
      "text/markdown": [
       "\n",
       "A matrix: 2 x 4 of type dbl\n",
       "\n",
       "| <!--/--> | Estimate | Std. Error | t value | Pr(&gt;|t|) |\n",
       "|---|---|---|---|---|\n",
       "| Education2 | 0.1517432 | 0.008473425 | 17.90813 | 1.466660e-69 |\n",
       "| Education3 | 0.1605467 | 0.008228543 | 19.51096 | 9.172939e-82 |\n",
       "\n"
      ],
      "text/plain": [
       "           Estimate  Std. Error  t value  Pr(>|t|)    \n",
       "Education2 0.1517432 0.008473425 17.90813 1.466660e-69\n",
       "Education3 0.1605467 0.008228543 19.51096 9.172939e-82"
      ]
     },
     "metadata": {},
     "output_type": "display_data"
    }
   ],
   "source": [
    "# Interpret the coefficients for 'Education' variables\n",
    "# Ensure the linear model is defined\n",
    "if (exists(\"linear_model\")) {\n",
    "  # Extract coefficients from the linear model\n",
    "  education_coefficients <- summary(linear_model)$coefficients[grep(\"Education\", rownames(summary(linear_model)$coefficients)), ]\n",
    "  # Display the coefficients for 'Education' variables\n",
    "  education_coefficients\n",
    "  \n",
    "  # Discuss the interpretation of the coefficients\n",
    "  # Note: Replace the following comments with your interpretation based on the output\n",
    "  # Coefficients represent the change in the probability of loan approval for each level of 'Education'\n",
    "  # compared to the baseline level (reference category).\n",
    "} else {\n",
    "  stop(\"The variable 'linear_model' is not defined. Please ensure the linear model cell has been executed.\")\n",
    "}"
   ]
  },
  {
   "cell_type": "markdown",
   "metadata": {},
   "source": [
    "# Analyze Fitted Values and Identify Out-of-Bounds Predictions\n",
    "Calculate the fitted values (y_hat = X * beta_hat) from the linear probability model. Check if any fitted values are greater than 1 or less than 0. Display a few rows of customers with such out-of-bounds predictions."
   ]
  },
  {
   "cell_type": "code",
   "execution_count": 15,
   "metadata": {
    "vscode": {
     "languageId": "r"
    }
   },
   "outputs": [
    {
     "data": {
      "text/html": [
       "<table class=\"dataframe\">\n",
       "<caption>A tibble: 6 x 6</caption>\n",
       "<thead>\n",
       "\t<tr><th scope=col>Loan</th><th scope=col>Income</th><th scope=col>Family</th><th scope=col>CCAvg</th><th scope=col>Education</th><th scope=col>fitted_values</th></tr>\n",
       "\t<tr><th scope=col>&lt;dbl&gt;</th><th scope=col>&lt;dbl&gt;</th><th scope=col>&lt;dbl&gt;</th><th scope=col>&lt;dbl&gt;</th><th scope=col>&lt;fct&gt;</th><th scope=col>&lt;dbl&gt;</th></tr>\n",
       "</thead>\n",
       "<tbody>\n",
       "\t<tr><td>0</td><td>49</td><td>4</td><td>1.6</td><td>1</td><td>-0.03216012</td></tr>\n",
       "\t<tr><td>0</td><td>34</td><td>3</td><td>1.5</td><td>1</td><td>-0.11564489</td></tr>\n",
       "\t<tr><td>0</td><td>11</td><td>1</td><td>1.0</td><td>1</td><td>-0.26316401</td></tr>\n",
       "\t<tr><td>0</td><td>22</td><td>1</td><td>0.3</td><td>3</td><td>-0.07519169</td></tr>\n",
       "\t<tr><td>0</td><td>22</td><td>1</td><td>1.5</td><td>3</td><td>-0.05871013</td></tr>\n",
       "\t<tr><td>0</td><td>21</td><td>1</td><td>0.5</td><td>2</td><td>-0.08461553</td></tr>\n",
       "</tbody>\n",
       "</table>\n"
      ],
      "text/latex": [
       "A tibble: 6 x 6\n",
       "\\begin{tabular}{llllll}\n",
       " Loan & Income & Family & CCAvg & Education & fitted\\_values\\\\\n",
       " <dbl> & <dbl> & <dbl> & <dbl> & <fct> & <dbl>\\\\\n",
       "\\hline\n",
       "\t 0 & 49 & 4 & 1.6 & 1 & -0.03216012\\\\\n",
       "\t 0 & 34 & 3 & 1.5 & 1 & -0.11564489\\\\\n",
       "\t 0 & 11 & 1 & 1.0 & 1 & -0.26316401\\\\\n",
       "\t 0 & 22 & 1 & 0.3 & 3 & -0.07519169\\\\\n",
       "\t 0 & 22 & 1 & 1.5 & 3 & -0.05871013\\\\\n",
       "\t 0 & 21 & 1 & 0.5 & 2 & -0.08461553\\\\\n",
       "\\end{tabular}\n"
      ],
      "text/markdown": [
       "\n",
       "A tibble: 6 x 6\n",
       "\n",
       "| Loan &lt;dbl&gt; | Income &lt;dbl&gt; | Family &lt;dbl&gt; | CCAvg &lt;dbl&gt; | Education &lt;fct&gt; | fitted_values &lt;dbl&gt; |\n",
       "|---|---|---|---|---|---|\n",
       "| 0 | 49 | 4 | 1.6 | 1 | -0.03216012 |\n",
       "| 0 | 34 | 3 | 1.5 | 1 | -0.11564489 |\n",
       "| 0 | 11 | 1 | 1.0 | 1 | -0.26316401 |\n",
       "| 0 | 22 | 1 | 0.3 | 3 | -0.07519169 |\n",
       "| 0 | 22 | 1 | 1.5 | 3 | -0.05871013 |\n",
       "| 0 | 21 | 1 | 0.5 | 2 | -0.08461553 |\n",
       "\n"
      ],
      "text/plain": [
       "   Loan Income Family CCAvg Education fitted_values\n",
       "1  0    49     4      1.6   1         -0.03216012  \n",
       "2  0    34     3      1.5   1         -0.11564489  \n",
       "3  0    11     1      1.0   1         -0.26316401  \n",
       "8  0    22     1      0.3   3         -0.07519169  \n",
       "16 0    22     1      1.5   3         -0.05871013  \n",
       "20 0    21     1      0.5   2         -0.08461553  "
      ]
     },
     "metadata": {},
     "output_type": "display_data"
    }
   ],
   "source": [
    "# Calculate fitted values (y_hat) from the linear probability model\n",
    "# Ensure 'loan_data' and 'linear_model' are defined\n",
    "if (exists(\"loan_data\") && exists(\"linear_model\")) {\n",
    "  # Calculate fitted values (y_hat) from the linear probability model\n",
    "  loan_data$fitted_values <- predict(linear_model, newdata = loan_data)\n",
    "  \n",
    "  # Identify customers with fitted values greater than 1 or less than 0\n",
    "  out_of_bounds <- subset(loan_data, fitted_values > 1 | fitted_values < 0)\n",
    "  \n",
    "  # Display a few rows of customers with out-of-bounds predictions\n",
    "  head(out_of_bounds)\n",
    "} else {\n",
    "  stop(\"The variable 'loan_data' or 'linear_model' is not defined. Please ensure the relevant cells have been executed.\")\n",
    "}"
   ]
  },
  {
   "cell_type": "markdown",
   "metadata": {},
   "source": [
    "## Task 2"
   ]
  },
  {
   "cell_type": "code",
   "execution_count": 18,
   "metadata": {
    "vscode": {
     "languageId": "r"
    }
   },
   "outputs": [],
   "source": [
    "# Fit the linear probability model (LPM)\n",
    "lpm <- lm(Loan ~ Income + Family + CCAvg + Education, data = loan_data)"
   ]
  },
  {
   "cell_type": "code",
   "execution_count": 19,
   "metadata": {
    "vscode": {
     "languageId": "r"
    }
   },
   "outputs": [
    {
     "data": {
      "text/plain": [
       "\n",
       "Call:\n",
       "glm(formula = Loan ~ Income + Family + CCAvg + Education, family = binomial, \n",
       "    data = loan_data)\n",
       "\n",
       "Coefficients:\n",
       "              Estimate Std. Error z value Pr(>|z|)    \n",
       "(Intercept) -13.177833   0.517777 -25.451  < 2e-16 ***\n",
       "Income        0.059791   0.002687  22.255  < 2e-16 ***\n",
       "Family        0.587079   0.071275   8.237  < 2e-16 ***\n",
       "CCAvg         0.162679   0.040505   4.016 5.91e-05 ***\n",
       "Education2    3.910609   0.251037  15.578  < 2e-16 ***\n",
       "Education3    3.933173   0.244329  16.098  < 2e-16 ***\n",
       "---\n",
       "Signif. codes:  0 '***' 0.001 '**' 0.01 '*' 0.05 '.' 0.1 ' ' 1\n",
       "\n",
       "(Dispersion parameter for binomial family taken to be 1)\n",
       "\n",
       "    Null deviance: 3162.0  on 4999  degrees of freedom\n",
       "Residual deviance: 1334.8  on 4994  degrees of freedom\n",
       "AIC: 1346.8\n",
       "\n",
       "Number of Fisher Scoring iterations: 8\n"
      ]
     },
     "metadata": {},
     "output_type": "display_data"
    },
    {
     "data": {
      "text/plain": [
       "         Actual\n",
       "Predicted    0    1\n",
       "        0 4001   61\n",
       "        1  519  419"
      ]
     },
     "metadata": {},
     "output_type": "display_data"
    },
    {
     "data": {
      "text/html": [
       "0.884"
      ],
      "text/latex": [
       "0.884"
      ],
      "text/markdown": [
       "0.884"
      ],
      "text/plain": [
       "[1] 0.884"
      ]
     },
     "metadata": {},
     "output_type": "display_data"
    },
    {
     "data": {
      "text/html": [
       "0.872916666666667"
      ],
      "text/latex": [
       "0.872916666666667"
      ],
      "text/markdown": [
       "0.872916666666667"
      ],
      "text/plain": [
       "[1] 0.8729167"
      ]
     },
     "metadata": {},
     "output_type": "display_data"
    },
    {
     "data": {
      "text/html": [
       "0.885176991150442"
      ],
      "text/latex": [
       "0.885176991150442"
      ],
      "text/markdown": [
       "0.885176991150442"
      ],
      "text/plain": [
       "[1] 0.885177"
      ]
     },
     "metadata": {},
     "output_type": "display_data"
    },
    {
     "data": {
      "text/html": [
       "<strong>(Intercept):</strong> 0.041723525904492"
      ],
      "text/latex": [
       "\\textbf{(Intercept):} 0.041723525904492"
      ],
      "text/markdown": [
       "**(Intercept):** 0.041723525904492"
      ],
      "text/plain": [
       "(Intercept) \n",
       " 0.04172353 "
      ]
     },
     "metadata": {},
     "output_type": "display_data"
    },
    {
     "data": {
      "text/html": [
       "<strong>1:</strong> 0.041723525904492"
      ],
      "text/latex": [
       "\\textbf{1:} 0.041723525904492"
      ],
      "text/markdown": [
       "**1:** 0.041723525904492"
      ],
      "text/plain": [
       "         1 \n",
       "0.04172353 "
      ]
     },
     "metadata": {},
     "output_type": "display_data"
    },
    {
     "data": {
      "text/html": [
       "<table class=\"dataframe\">\n",
       "<caption>A data.frame: 6 x 2</caption>\n",
       "<thead>\n",
       "\t<tr><th></th><th scope=col>LPM</th><th scope=col>Logit</th></tr>\n",
       "\t<tr><th></th><th scope=col>&lt;dbl&gt;</th><th scope=col>&lt;dbl&gt;</th></tr>\n",
       "</thead>\n",
       "<tbody>\n",
       "\t<tr><th scope=row>(Intercept)</th><td>-0.345540917</td><td>-13.17783285</td></tr>\n",
       "\t<tr><th scope=row>Income</th><td> 0.003367256</td><td>  0.05979075</td></tr>\n",
       "\t<tr><th scope=row>Family</th><td> 0.031602457</td><td>  0.58707882</td></tr>\n",
       "\t<tr><th scope=row>CCAvg</th><td> 0.013734629</td><td>  0.16267911</td></tr>\n",
       "\t<tr><th scope=row>Education2</th><td> 0.151743228</td><td>  3.91060897</td></tr>\n",
       "\t<tr><th scope=row>Education3</th><td> 0.160546743</td><td>  3.93317273</td></tr>\n",
       "</tbody>\n",
       "</table>\n"
      ],
      "text/latex": [
       "A data.frame: 6 x 2\n",
       "\\begin{tabular}{r|ll}\n",
       "  & LPM & Logit\\\\\n",
       "  & <dbl> & <dbl>\\\\\n",
       "\\hline\n",
       "\t(Intercept) & -0.345540917 & -13.17783285\\\\\n",
       "\tIncome &  0.003367256 &   0.05979075\\\\\n",
       "\tFamily &  0.031602457 &   0.58707882\\\\\n",
       "\tCCAvg &  0.013734629 &   0.16267911\\\\\n",
       "\tEducation2 &  0.151743228 &   3.91060897\\\\\n",
       "\tEducation3 &  0.160546743 &   3.93317273\\\\\n",
       "\\end{tabular}\n"
      ],
      "text/markdown": [
       "\n",
       "A data.frame: 6 x 2\n",
       "\n",
       "| <!--/--> | LPM &lt;dbl&gt; | Logit &lt;dbl&gt; |\n",
       "|---|---|---|\n",
       "| (Intercept) | -0.345540917 | -13.17783285 |\n",
       "| Income |  0.003367256 |   0.05979075 |\n",
       "| Family |  0.031602457 |   0.58707882 |\n",
       "| CCAvg |  0.013734629 |   0.16267911 |\n",
       "| Education2 |  0.151743228 |   3.91060897 |\n",
       "| Education3 |  0.160546743 |   3.93317273 |\n",
       "\n"
      ],
      "text/plain": [
       "            LPM          Logit       \n",
       "(Intercept) -0.345540917 -13.17783285\n",
       "Income       0.003367256   0.05979075\n",
       "Family       0.031602457   0.58707882\n",
       "CCAvg        0.013734629   0.16267911\n",
       "Education2   0.151743228   3.91060897\n",
       "Education3   0.160546743   3.93317273"
      ]
     },
     "metadata": {},
     "output_type": "display_data"
    },
    {
     "data": {
      "text/html": [
       "<table class=\"dataframe\">\n",
       "<caption>A data.frame: 5 x 2</caption>\n",
       "<thead>\n",
       "\t<tr><th></th><th scope=col>LPM</th><th scope=col>Logit</th></tr>\n",
       "\t<tr><th></th><th scope=col>&lt;dbl&gt;</th><th scope=col>&lt;dbl&gt;</th></tr>\n",
       "</thead>\n",
       "<tbody>\n",
       "\t<tr><th scope=row>Income</th><td>0.003367256</td><td>0.002390594</td></tr>\n",
       "\t<tr><th scope=row>Family</th><td>0.031602457</td><td>0.023472981</td></tr>\n",
       "\t<tr><th scope=row>CCAvg</th><td>0.013734629</td><td>0.006504346</td></tr>\n",
       "\t<tr><th scope=row>Education2</th><td>0.151743228</td><td>0.156356601</td></tr>\n",
       "\t<tr><th scope=row>Education3</th><td>0.160546743</td><td>0.157258760</td></tr>\n",
       "</tbody>\n",
       "</table>\n"
      ],
      "text/latex": [
       "A data.frame: 5 x 2\n",
       "\\begin{tabular}{r|ll}\n",
       "  & LPM & Logit\\\\\n",
       "  & <dbl> & <dbl>\\\\\n",
       "\\hline\n",
       "\tIncome & 0.003367256 & 0.002390594\\\\\n",
       "\tFamily & 0.031602457 & 0.023472981\\\\\n",
       "\tCCAvg & 0.013734629 & 0.006504346\\\\\n",
       "\tEducation2 & 0.151743228 & 0.156356601\\\\\n",
       "\tEducation3 & 0.160546743 & 0.157258760\\\\\n",
       "\\end{tabular}\n"
      ],
      "text/markdown": [
       "\n",
       "A data.frame: 5 x 2\n",
       "\n",
       "| <!--/--> | LPM &lt;dbl&gt; | Logit &lt;dbl&gt; |\n",
       "|---|---|---|\n",
       "| Income | 0.003367256 | 0.002390594 |\n",
       "| Family | 0.031602457 | 0.023472981 |\n",
       "| CCAvg | 0.013734629 | 0.006504346 |\n",
       "| Education2 | 0.151743228 | 0.156356601 |\n",
       "| Education3 | 0.160546743 | 0.157258760 |\n",
       "\n"
      ],
      "text/plain": [
       "           LPM         Logit      \n",
       "Income     0.003367256 0.002390594\n",
       "Family     0.031602457 0.023472981\n",
       "CCAvg      0.013734629 0.006504346\n",
       "Education2 0.151743228 0.156356601\n",
       "Education3 0.160546743 0.157258760"
      ]
     },
     "metadata": {},
     "output_type": "display_data"
    }
   ],
   "source": [
    "# 4. Fit Logit model\n",
    "logit_mod <- glm(Loan ~ Income + Family + CCAvg + Education, \n",
    "                 data = loan_data, family = binomial)\n",
    "summary(logit_mod)\n",
    "\n",
    "# 5. Confusion matrix and PCP\n",
    "threshold <- mean(loan_data$Loan)\n",
    "logit_pred <- ifelse(predict(logit_mod, type = \"response\") > threshold, 1, 0)\n",
    "actual <- loan_data$Loan\n",
    "table(Predicted = logit_pred, Actual = actual)\n",
    "\n",
    "overall_pcp <- mean(logit_pred == actual)\n",
    "pcp_1 <- mean(logit_pred[actual == 1] == 1)\n",
    "pcp_0 <- mean(logit_pred[actual == 0] == 0)\n",
    "\n",
    "overall_pcp\n",
    "pcp_1\n",
    "pcp_0\n",
    "\n",
    "# 6. Predicted probability at mean Xs, Education=2\n",
    "mean_income <- mean(loan_data$Income)\n",
    "mean_family <- mean(loan_data$Family)\n",
    "mean_ccavg <- mean(loan_data$CCAvg)\n",
    "edu2 <- 2\n",
    "\n",
    "# Manual calculation\n",
    "coefs <- coef(logit_mod)\n",
    "xb <- coefs[1] + coefs[\"Income\"] * mean_income +\n",
    "      coefs[\"Family\"] * mean_family +\n",
    "      coefs[\"CCAvg\"] * mean_ccavg +\n",
    "      coefs[\"Education2\"] * (edu2 == 2) +\n",
    "      coefs[\"Education3\"] * (edu2 == 3)\n",
    "prob_manual <- exp(xb) / (1 + exp(xb))\n",
    "prob_manual\n",
    "\n",
    "# Using predict()\n",
    "new_obs <- data.frame(Income = mean_income, Family = mean_family, \n",
    "                      CCAvg = mean_ccavg, Education = factor(2, levels = 1:3))\n",
    "prob_predict <- predict(logit_mod, new_obs, type = \"response\")\n",
    "prob_predict\n",
    "\n",
    "# 7. Compare coefficients\n",
    "lpm_coefs <- coef(lpm)\n",
    "logit_coefs <- coef(logit_mod)\n",
    "data.frame(LPM = lpm_coefs, Logit = logit_coefs)\n",
    "\n",
    "# 8. Partial effects at mean Xs, Education=2\n",
    "# For logit: partial effect = beta * p * (1-p)\n",
    "p <- as.numeric(prob_manual)\n",
    "logit_partial <- coefs[-1] * p * (1 - p)\n",
    "lpm_partial <- lpm_coefs[-1]\n",
    "data.frame(LPM = lpm_partial, Logit = logit_partial)"
   ]
  },
  {
   "cell_type": "markdown",
   "metadata": {},
   "source": [
    "## Quiz Questions"
   ]
  },
  {
   "cell_type": "code",
   "execution_count": 20,
   "metadata": {
    "vscode": {
     "languageId": "r"
    }
   },
   "outputs": [
    {
     "data": {
      "text/html": [
       "<style>\n",
       ".list-inline {list-style: none; margin:0; padding: 0}\n",
       ".list-inline>li {display: inline-block}\n",
       ".list-inline>li:not(:last-child)::after {content: \"\\00b7\"; padding: 0 .5ex}\n",
       "</style>\n",
       "<ol class=list-inline><li>'1'</li><li>'2'</li><li>'3'</li></ol>\n"
      ],
      "text/latex": [
       "\\begin{enumerate*}\n",
       "\\item '1'\n",
       "\\item '2'\n",
       "\\item '3'\n",
       "\\end{enumerate*}\n"
      ],
      "text/markdown": [
       "1. '1'\n",
       "2. '2'\n",
       "3. '3'\n",
       "\n",
       "\n"
      ],
      "text/plain": [
       "[1] \"1\" \"2\" \"3\""
      ]
     },
     "metadata": {},
     "output_type": "display_data"
    },
    {
     "data": {
      "text/html": [
       "3"
      ],
      "text/latex": [
       "3"
      ],
      "text/markdown": [
       "3"
      ],
      "text/plain": [
       "[1] 3"
      ]
     },
     "metadata": {},
     "output_type": "display_data"
    }
   ],
   "source": [
    "# Check the number of levels and their names for Education\n",
    "levels(loan_data$Education)\n",
    "length(levels(loan_data$Education))"
   ]
  },
  {
   "cell_type": "code",
   "execution_count": 21,
   "metadata": {
    "vscode": {
     "languageId": "r"
    }
   },
   "outputs": [
    {
     "data": {
      "text/html": [
       "<strong>Income:</strong> 0.00336725641554854"
      ],
      "text/latex": [
       "\\textbf{Income:} 0.00336725641554854"
      ],
      "text/markdown": [
       "**Income:** 0.00336725641554854"
      ],
      "text/plain": [
       "     Income \n",
       "0.003367256 "
      ]
     },
     "metadata": {},
     "output_type": "display_data"
    }
   ],
   "source": [
    "# Get the coefficient estimate for Income from the LPM\n",
    "coef(lpm)[\"Income\"]"
   ]
  }
 ],
 "metadata": {
  "kernelspec": {
   "display_name": "R",
   "language": "R",
   "name": "ir"
  },
  "language_info": {
   "codemirror_mode": "r",
   "file_extension": ".r",
   "mimetype": "text/x-r-source",
   "name": "R",
   "pygments_lexer": "r",
   "version": "4.4.2"
  }
 },
 "nbformat": 4,
 "nbformat_minor": 2
}
