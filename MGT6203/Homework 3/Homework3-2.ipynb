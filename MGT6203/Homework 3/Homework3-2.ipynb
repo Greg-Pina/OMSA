{
 "cells": [
  {
   "cell_type": "markdown",
   "id": "b8d08a13",
   "metadata": {},
   "source": [
    "# Task 1"
   ]
  },
  {
   "cell_type": "code",
   "execution_count": 5,
   "id": "6cc50b2f",
   "metadata": {
    "vscode": {
     "languageId": "r"
    }
   },
   "outputs": [
    {
     "name": "stdout",
     "output_type": "stream",
     "text": [
      "mlogit package loaded successfully.\n"
     ]
    }
   ],
   "source": [
    "# Install mlogit if not already installed\n",
    "if (!require(mlogit, quietly = TRUE)) {\n",
    "    cat(\"Installing mlogit package...\\n\")\n",
    "    install.packages(\"mlogit\", dependencies = TRUE)\n",
    "    library(mlogit)\n",
    "}\n",
    "\n",
    "# Check if mlogit loaded successfully\n",
    "if (!\"mlogit\" %in% loadedNamespaces()) {\n",
    "    stop(\"mlogit package failed to load. Please install manually.\")\n",
    "} else {\n",
    "    cat(\"mlogit package loaded successfully.\\n\")\n",
    "}\n",
    "\n",
    "# Read in the CSV (adjust path as needed)\n",
    "commute_raw <- read.csv(\"Commute_Mode.csv\", stringsAsFactors = TRUE)\n",
    "\n",
    "# Ensure 'mode' is a factor and 'id' is an identifier\n",
    "commute_raw$mode <- as.factor(commute_raw$mode)\n",
    "commute_raw$id <- as.character(commute_raw$id)\n"
   ]
  },
  {
   "cell_type": "code",
   "execution_count": 6,
   "id": "51a00056",
   "metadata": {
    "vscode": {
     "languageId": "r"
    }
   },
   "outputs": [
    {
     "name": "stdout",
     "output_type": "stream",
     "text": [
      "~~~~~~~\n",
      " first 10 observations out of 1812 \n",
      "~~~~~~~\n",
      "    id    mode choice     cost     time     idx\n",
      "1    1     bus  FALSE 1.800512 20.86779   1:bus\n",
      "2    1     car   TRUE 1.507010 18.50320   1:car\n",
      "3    1 carpool  FALSE 2.335612 26.33823  1:pool\n",
      "4    1    rail  FALSE 2.358920 30.03347  1:rail\n",
      "5   10     bus  FALSE 2.003332 44.43243  10:bus\n",
      "6   10     car   TRUE 4.242578 16.58784  10:car\n",
      "7   10 carpool  FALSE 1.799301 18.30912 10:pool\n",
      "8   10    rail  FALSE 2.168862 29.48583 10:rail\n",
      "9  100     bus   TRUE 1.567057 15.58405 100:bus\n",
      "10 100     car  FALSE 6.167042 20.07002 100:car\n",
      "\n",
      "~~~ indexes ~~~~\n",
      "   chid     alt\n",
      "1     1     bus\n",
      "2     1     car\n",
      "3     1 carpool\n",
      "4     1    rail\n",
      "5    10     bus\n",
      "6    10     car\n",
      "7    10 carpool\n",
      "8    10    rail\n",
      "9   100     bus\n",
      "10  100     car\n",
      "indexes:  1, 2 \n"
     ]
    }
   ],
   "source": [
    "commute_mlogit <- mlogit.data(\n",
    "    data     = commute_raw,\n",
    "    choice   = \"choice\", # column with 1 = chosen alternative\n",
    "    shape    = \"long\", # data is in long format\n",
    "    chid.var = \"id\", # individual ID\n",
    "    alt.var  = \"mode\" # alternative identifier\n",
    ")\n",
    "\n",
    "# Inspect the first few rows\n",
    "head(commute_mlogit)\n"
   ]
  },
  {
   "cell_type": "markdown",
   "id": "f1d0e3a6",
   "metadata": {},
   "source": [
    "## Data Import and Formatting\n",
    "\n",
    "We imported the survey data for 453 respondents and 4 commuting alternatives into “long” format using `mlogit.data()`.  \n",
    "\n",
    "- **Individuals (chid)**: 453  \n",
    "- **Alternatives per individual**: 4 (bus, car, carpool, rail)  \n",
    "- **Total observations**: 453 × 4 = 1812  \n",
    "- **Choice column**: `choice` (TRUE if that mode was chosen)  \n",
    "- **Alternative identifier**: `mode`  \n",
    "- **Attributes**:  \n",
    "  - `cost`: total travel cost  \n",
    "  - `time`: travel time in minutes  \n",
    "- **Index**: `idx` combines `id` and `mode` (e.g. `1:car`)  \n",
    "\n",
    "**First 10 rows of the prepared `commute_mlogit` data frame:**\n",
    "\n",
    "| id  | mode    | choice |  cost  |   time   |  idx   |\n",
    "|-----|---------|--------|-------:|---------:|--------|\n",
    "| 1   | bus     | FALSE  | 1.8005 | 20.8678  | 1:bus  |\n",
    "| 1   | car     | TRUE   | 1.5070 | 18.5032  | 1:car  |\n",
    "| 1   | carpool | FALSE  | 2.3356 | 26.3382  | 1:pool |\n",
    "| 1   | rail    | FALSE  | 2.3589 | 30.0335  | 1:rail |\n",
    "| 10  | bus     | FALSE  | 2.0033 | 44.4324  | 10:bus |\n",
    "| 10  | car     | TRUE   | 4.2426 | 16.5878  | 10:car |\n",
    "| 10  | carpool | FALSE  | 1.7993 | 18.3091  | 10:pool|\n",
    "| 10  | rail    | FALSE  | 2.1689 | 29.4858  | 10:rail|\n",
    "| 100 | bus     | TRUE   | 1.5671 | 15.5841  |100:bus |\n",
    "| 100 | car     | FALSE  | 6.1670 | 20.0700  |100:car |\n",
    "\n",
    "This confirms that our data are correctly specified for multinomial logit estimation.  \n",
    "\n",
    "---"
   ]
  },
  {
   "cell_type": "markdown",
   "id": "4b044405",
   "metadata": {},
   "source": [
    "# Task 2"
   ]
  },
  {
   "cell_type": "code",
   "execution_count": 7,
   "id": "0cf3a5f8",
   "metadata": {
    "vscode": {
     "languageId": "r"
    }
   },
   "outputs": [
    {
     "data": {
      "text/plain": [
       "\n",
       "Call:\n",
       "mlogit(formula = choice ~ cost + time, data = commute_mlogit, \n",
       "    method = \"nr\")\n",
       "\n",
       "Frequencies of alternatives:choice\n",
       "    bus     car carpool    rail \n",
       "0.17881 0.48124 0.07064 0.26932 \n",
       "\n",
       "nr method\n",
       "5 iterations, 0h:0m:0s \n",
       "g'(-H)^-1g = 6.07E-07 \n",
       "gradient close to zero \n",
       "\n",
       "Coefficients :\n",
       "                      Estimate Std. Error  z-value  Pr(>|z|)    \n",
       "(Intercept):car      3.2924661  0.3172767  10.3773 < 2.2e-16 ***\n",
       "(Intercept):carpool -0.9051585  0.2459427  -3.6804 0.0002329 ***\n",
       "(Intercept):rail     0.6277690  0.1633612   3.8428 0.0001216 ***\n",
       "cost                -0.7723478  0.0919795  -8.3970 < 2.2e-16 ***\n",
       "time                -0.0853574  0.0077484 -11.0161 < 2.2e-16 ***\n",
       "---\n",
       "Signif. codes:  0 ‘***’ 0.001 ‘**’ 0.01 ‘*’ 0.05 ‘.’ 0.1 ‘ ’ 1\n",
       "\n",
       "Log-Likelihood: -354.45\n",
       "McFadden R^2:  0.34811 \n",
       "Likelihood ratio test : chisq = 378.56 (p.value = < 2.22e-16)"
      ]
     },
     "metadata": {},
     "output_type": "display_data"
    }
   ],
   "source": [
    "# Predict choice using cost and time (with alternative‐specific constants by default)\n",
    "model_mnl <- mlogit(choice ~ cost + time, data = commute_mlogit)\n",
    "\n",
    "# Display estimation results\n",
    "summary(model_mnl)\n"
   ]
  },
  {
   "cell_type": "markdown",
   "id": "5cec5813",
   "metadata": {},
   "source": [
    "### Multinomial Logit Estimation Results\n",
    "\n",
    "We estimated a multinomial logit model of mode choice as a function of travel cost and travel time, with \"bus\" as the reference alternative (base category). Below is a summary of the key output:\n",
    "\n",
    "**Choice Frequencies**  \n",
    "- Bus: 17.9%  \n",
    "- Car: 48.1%  \n",
    "- Carpool: 7.1%  \n",
    "- Rail: 26.9%  \n",
    "\n",
    "**Model Fit**  \n",
    "- Log-Likelihood: −354.45  \n",
    "- McFadden's $R^2$: 0.3481  \n",
    "- Likelihood-ratio test: $\\chi^2 = 378.56$, $p < 2.2 \\times 10^{-16}$\n",
    "\n",
    "**Parameter Estimates**\n",
    "\n",
    "| Parameter             | Estimate  | Std. Error | z-value | p-value    | Interpretation (relative to bus)                    |\n",
    "|:----------------------|----------:|-----------:|--------:|-----------:|:-----------------------------------------------------|\n",
    "| **(Intercept):car**   |  3.2925   |   0.3173   |  10.38  | <2.2e-16  | Car has much higher baseline utility than bus       |\n",
    "| **(Intercept):carpool** | −0.9052 |   0.2459   |  −3.68  | 0.00023   | Carpool has lower baseline utility than bus         |\n",
    "| **(Intercept):rail**  |  0.6278   |   0.1634   |   3.84  | 0.00012   | Rail has modestly higher baseline utility vs. bus   |\n",
    "| **cost**              | −0.7723   |   0.0920   |  −8.40  | <2.2e-16  | Higher cost reduces utility of all modes equally    |\n",
    "| **time**              | −0.0854   |   0.0077   | −11.02  | <2.2e-16  | Longer travel time reduces utility of all modes     |\n",
    "\n",
    "- **Alternative-specific constants**:  \n",
    "  - Car is strongly preferred to bus at zero cost/time (high positive constant).  \n",
    "  - Carpool is less preferred than bus (negative constant).  \n",
    "  - Rail is moderately preferred to bus (positive constant).  \n",
    "\n",
    "- **Cost coefficient (−0.7723)**:  \n",
    "  - A one‐unit increase in cost reduces the utility of each mode by 0.7723, holding time constant.\n",
    "\n",
    "- **Time coefficient (−0.0854)**:  \n",
    "  - Each additional minute of travel time reduces utility by 0.0854, holding cost constant.\n",
    "\n",
    "All coefficients are highly significant ($p<0.001$), indicating that both cost and time play important roles in commuters' mode choices, and that baseline preferences differ markedly across alternatives."
   ]
  },
  {
   "cell_type": "markdown",
   "id": "a62b1333",
   "metadata": {},
   "source": [
    "# Task 3"
   ]
  },
  {
   "cell_type": "code",
   "execution_count": 8,
   "id": "74f97018",
   "metadata": {
    "vscode": {
     "languageId": "r"
    }
   },
   "outputs": [
    {
     "name": "stdout",
     "output_type": "stream",
     "text": [
      "Alternative‐specific intercepts:\n",
      "    (Intercept):car (Intercept):carpool    (Intercept):rail \n",
      "          3.2924661          -0.9051585           0.6277690 \n",
      "\n",
      "Number of intercepts:  3 \n",
      "\n",
      "Cost coefficient:  -0.7723478 \n",
      "Time coefficient:  -0.08535743 \n",
      "\n",
      "Sign of slopes:\n",
      "cost.cost time.time \n",
      "       -1        -1 \n"
     ]
    }
   ],
   "source": [
    "# 1. Extract all coefficients\n",
    "coefs <- coef(model_mnl)\n",
    "\n",
    "# 2. Identify and count the alternative‐specific intercepts\n",
    "intercepts <- coefs[grep(\"^\\\\(Intercept\\\\)\", names(coefs))]\n",
    "n_intercepts <- length(intercepts)\n",
    "\n",
    "# 3. Extract the cost and time slopes\n",
    "slope_cost <- coefs[\"cost\"]\n",
    "slope_time <- coefs[\"time\"]\n",
    "\n",
    "# 4. Print results\n",
    "cat(\"Alternative‐specific intercepts:\\n\")\n",
    "print(intercepts)\n",
    "cat(\"\\nNumber of intercepts: \", n_intercepts, \"\\n\\n\")\n",
    "\n",
    "cat(\"Cost coefficient: \", slope_cost, \"\\n\")\n",
    "cat(\"Time coefficient: \", slope_time, \"\\n\\n\")\n",
    "\n",
    "cat(\"Sign of slopes:\\n\")\n",
    "print(sign(c(cost = slope_cost, time = slope_time)))\n"
   ]
  },
  {
   "cell_type": "markdown",
   "id": "878b4347",
   "metadata": {},
   "source": [
    "### Interpretation of Estimated Coefficients\n",
    "\n",
    "- **Cost and Time Slopes**  \n",
    "  - **Cost (−0.7723)**: Negative, as expected—higher travel cost reduces the utility of each mode.  \n",
    "  - **Time (−0.0854)**: Also negative—longer travel time makes a mode less attractive.  \n",
    "  Both magnitudes are highly significant and their signs align with economic theory of random utility models.\n",
    "\n",
    "- **Alternative-Specific Intercepts**  \n",
    "  - We have **three** intercept coefficients:  \n",
    "    ```\n",
    "    (Intercept):car     =  3.2925  \n",
    "    (Intercept):carpool = −0.9052  \n",
    "    (Intercept):rail    =  0.6278  \n",
    "    ```  \n",
    "  - Why three?  With four alternatives (bus, car, carpool, rail), we include \\(K-1\\) intercepts to identify the model.  “Bus” serves as the **base** category (its intercept is implicitly zero).  \n",
    "  - These intercepts capture **baseline** preferences (at zero cost/time) relative to bus:  \n",
    "    - **Car** has a large positive intercept ⇒ at equal cost/time, car is much more preferred than bus.  \n",
    "    - **Carpool** has a negative intercept ⇒ even at zero cost/time, carpool is less preferred than bus.  \n",
    "    - **Rail** has a modest positive intercept ⇒ rail is somewhat preferred to bus, all else equal.\n",
    "\n",
    "- **Summary**  \n",
    "  1. **Signs**: All coefficients conform to expectations (higher cost/time ⇒ lower utility).  \n",
    "  2. **Intercept count**: \\(J-1 = 4 - 1 = 3\\) intercepts are estimated because one alternative (bus) is the reference.  \n",
    "  3. **Magnitude**: Car’s large positive intercept and the strong negative cost/time effects highlight that commuters trade off cost and travel time in choosing their primary mode, and have inherent baseline preferences across modes.\n"
   ]
  },
  {
   "cell_type": "markdown",
   "id": "8d45e4f0",
   "metadata": {},
   "source": [
    "# Task 4"
   ]
  },
  {
   "cell_type": "code",
   "execution_count": 9,
   "id": "6f6763d6",
   "metadata": {
    "vscode": {
     "languageId": "r"
    }
   },
   "outputs": [
    {
     "data": {
      "text/html": [
       "<table class=\"dataframe\">\n",
       "<caption>A matrix: 6 × 4 of type dbl</caption>\n",
       "<thead>\n",
       "\t<tr><th></th><th scope=col>bus</th><th scope=col>car</th><th scope=col>carpool</th><th scope=col>rail</th></tr>\n",
       "</thead>\n",
       "<tbody>\n",
       "\t<tr><th scope=row>1</th><td>0.02323985</td><td>0.95992632</td><td>0.003898082</td><td>0.01293575</td></tr>\n",
       "\t<tr><th scope=row>10</th><td>0.01594586</td><td>0.81969423</td><td>0.070206581</td><td>0.09415332</td></tr>\n",
       "\t<tr><th scope=row>100</th><td>0.60213017</td><td>0.31647392</td><td>0.042211299</td><td>0.03918461</td></tr>\n",
       "\t<tr><th scope=row>101</th><td>0.29674708</td><td>0.06135665</td><td>0.054066439</td><td>0.58782984</td></tr>\n",
       "\t<tr><th scope=row>102</th><td>0.30518250</td><td>0.39452095</td><td>0.013029398</td><td>0.28726715</td></tr>\n",
       "\t<tr><th scope=row>103</th><td>0.03184252</td><td>0.88666615</td><td>0.038620002</td><td>0.04287132</td></tr>\n",
       "</tbody>\n",
       "</table>\n"
      ],
      "text/latex": [
       "A matrix: 6 × 4 of type dbl\n",
       "\\begin{tabular}{r|llll}\n",
       "  & bus & car & carpool & rail\\\\\n",
       "\\hline\n",
       "\t1 & 0.02323985 & 0.95992632 & 0.003898082 & 0.01293575\\\\\n",
       "\t10 & 0.01594586 & 0.81969423 & 0.070206581 & 0.09415332\\\\\n",
       "\t100 & 0.60213017 & 0.31647392 & 0.042211299 & 0.03918461\\\\\n",
       "\t101 & 0.29674708 & 0.06135665 & 0.054066439 & 0.58782984\\\\\n",
       "\t102 & 0.30518250 & 0.39452095 & 0.013029398 & 0.28726715\\\\\n",
       "\t103 & 0.03184252 & 0.88666615 & 0.038620002 & 0.04287132\\\\\n",
       "\\end{tabular}\n"
      ],
      "text/markdown": [
       "\n",
       "A matrix: 6 × 4 of type dbl\n",
       "\n",
       "| <!--/--> | bus | car | carpool | rail |\n",
       "|---|---|---|---|---|\n",
       "| 1 | 0.02323985 | 0.95992632 | 0.003898082 | 0.01293575 |\n",
       "| 10 | 0.01594586 | 0.81969423 | 0.070206581 | 0.09415332 |\n",
       "| 100 | 0.60213017 | 0.31647392 | 0.042211299 | 0.03918461 |\n",
       "| 101 | 0.29674708 | 0.06135665 | 0.054066439 | 0.58782984 |\n",
       "| 102 | 0.30518250 | 0.39452095 | 0.013029398 | 0.28726715 |\n",
       "| 103 | 0.03184252 | 0.88666615 | 0.038620002 | 0.04287132 |\n",
       "\n"
      ],
      "text/plain": [
       "    bus        car        carpool     rail      \n",
       "1   0.02323985 0.95992632 0.003898082 0.01293575\n",
       "10  0.01594586 0.81969423 0.070206581 0.09415332\n",
       "100 0.60213017 0.31647392 0.042211299 0.03918461\n",
       "101 0.29674708 0.06135665 0.054066439 0.58782984\n",
       "102 0.30518250 0.39452095 0.013029398 0.28726715\n",
       "103 0.03184252 0.88666615 0.038620002 0.04287132"
      ]
     },
     "metadata": {},
     "output_type": "display_data"
    }
   ],
   "source": [
    "# 1. Extract predicted probabilities (one row per respondent, one column per mode)\n",
    "probabilities <- fitted(model_mnl, type = \"probabilities\")\n",
    "# Alternative: probabilities <- predict(model_mnl, type = \"probabilities\")\n",
    "\n",
    "# 2. View the first few respondents’ probabilities\n",
    "head(probabilities, 6)\n"
   ]
  },
  {
   "cell_type": "markdown",
   "id": "10c32ba0",
   "metadata": {},
   "source": [
    "### Predicted Choice Probabilities\n",
    "\n",
    "Using `fitted(model_mnl, type = \"probabilities\")`, we obtain each respondent’s predicted probability of choosing each mode. Below are the first six individuals:\n",
    "\n",
    "| id  |    bus   |    car   | carpool  |   rail   |\n",
    "|----:|---------:|---------:|---------:|---------:|\n",
    "|   1 | 0.023239 | 0.959926 | 0.003898 | 0.012936 |\n",
    "|  10 | 0.015946 | 0.819694 | 0.070207 | 0.094153 |\n",
    "| 100 | 0.602130 | 0.316474 | 0.042211 | 0.039185 |\n",
    "| 101 | 0.296747 | 0.061357 | 0.054066 | 0.587830 |\n",
    "| 102 | 0.305183 | 0.394521 | 0.013029 | 0.287267 |\n",
    "| 103 | 0.031843 | 0.886666 | 0.038620 | 0.042871 |\n",
    "\n",
    "- The entry in the **first row, last column** is **0.012936**.  \n",
    "  - **Interpretation:** Individual 1 has about a **1.3%** predicted probability of choosing **rail** as their primary mode, given their cost and time attributes.\n",
    "\n",
    "- By contrast, that same individual has a **95.99%** probability of choosing **car**, reflecting both the high alternative‐specific intercept for car and the trade‐off against cost/time.\n",
    "\n",
    "- Looking at **respondent 100**, the model assigns a **60.2%** probability to **bus**, suggesting this person’s cost/time profile makes bus the most likely choice.\n",
    "\n",
    "These probabilities let us see, at the individual level, how cost and time trade‐offs translate into mode‐choice likelihoods—and can be aggregated to predict changes in overall mode shares under different cost/time scenarios.  \n",
    "\n",
    "---"
   ]
  },
  {
   "cell_type": "markdown",
   "id": "b5538925",
   "metadata": {},
   "source": [
    "# Task 5"
   ]
  },
  {
   "cell_type": "code",
   "execution_count": 10,
   "id": "13367d21",
   "metadata": {
    "vscode": {
     "languageId": "r"
    }
   },
   "outputs": [
    {
     "name": "stdout",
     "output_type": "stream",
     "text": [
      "           mode probability ME_time_rail\n",
      "bus         bus    0.141337     0.002890\n",
      "car         car    0.543267     0.011108\n",
      "carpool carpool    0.075853     0.001551\n",
      "rail       rail    0.239542    -0.015549\n"
     ]
    }
   ],
   "source": [
    "# 1. Compute alternative‐specific mean cost/time\n",
    "cost_means <- tapply(commute_raw$cost, commute_raw$mode, mean)\n",
    "time_means <- tapply(commute_raw$time, commute_raw$mode, mean)\n",
    "\n",
    "# 2. Extract model coefficients\n",
    "coefs <- coef(model_mnl)\n",
    "intercepts <- c(\n",
    "    bus     = 0,\n",
    "    car     = coefs[\"(Intercept):car\"],\n",
    "    carpool = coefs[\"(Intercept):carpool\"],\n",
    "    rail    = coefs[\"(Intercept):rail\"]\n",
    ")\n",
    "beta_cost <- coefs[\"cost\"]\n",
    "beta_time <- coefs[\"time\"]\n",
    "\n",
    "# 3. Systematic utilities at mean covariates: V_j = α_j + β_cost·mean_cost_j + β_time·mean_time_j\n",
    "V <- intercepts + beta_cost * cost_means + beta_time * time_means\n",
    "\n",
    "# 4. Choice probabilities at mean: P_j = exp(V_j) / Σ_k exp(V_k)\n",
    "P <- exp(V) / sum(exp(V))\n",
    "\n",
    "# 5. Marginal effects of rail’s time on each P_j:\n",
    "#    ∂P_j/∂time_rail = β_time * P_j * (I[j==\"rail\"] − P[\"rail\"])\n",
    "ME_time_rail <- beta_time * P * ((names(P) == \"rail\") - P[\"rail\"])\n",
    "\n",
    "# 6. Tabulate results\n",
    "me_df <- data.frame(\n",
    "    mode           = names(P),\n",
    "    probability    = round(P, 6),\n",
    "    ME_time_rail   = round(ME_time_rail, 6)\n",
    ")\n",
    "print(me_df)\n"
   ]
  },
  {
   "cell_type": "markdown",
   "id": "3d0e2fc4",
   "metadata": {},
   "source": [
    "### Marginal Effects of Rail Travel Time\n",
    "\n",
    "| Mode    | Predicted Probability | ∂P/∂(Rail Time) |\n",
    "|:--------|----------------------:|----------------:|\n",
    "| bus     | 0.141337              |  0.002890       |\n",
    "| car     | 0.543267              |  0.011108       |\n",
    "| carpool | 0.075853              |  0.001551       |\n",
    "| rail    | 0.239542              | −0.015549       |\n",
    "\n",
    "- **Last row, first column** (rail probability = **0.239542**):  \n",
    "  At the mean cost/time profile, about **23.95%** of commuters choose rail as their primary mode.\n",
    "\n",
    "- **Last row, last column** (∂P/∂(Rail Time) for rail = **−0.015549**):  \n",
    "  A one‐minute increase in rail travel time **decreases** the probability of choosing rail by **1.55 percentage points**.\n",
    "\n",
    "> **Note on substitution:**  \n",
    "> Because the marginal effect on rail is negative, commuters displaced from rail by slower times reallocate to the other modes. For example, each extra minute of rail time increases car probability by about 1.11 percentage points.  \n"
   ]
  }
 ],
 "metadata": {
  "kernelspec": {
   "display_name": "R",
   "language": "R",
   "name": "ir"
  },
  "language_info": {
   "codemirror_mode": "r",
   "file_extension": ".r",
   "mimetype": "text/x-r-source",
   "name": "R",
   "pygments_lexer": "r",
   "version": "4.5.1"
  }
 },
 "nbformat": 4,
 "nbformat_minor": 5
}
