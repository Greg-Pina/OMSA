{
 "cells": [
  {
   "cell_type": "markdown",
   "id": "a8ec795c",
   "metadata": {},
   "source": [
    "# Instrumental Variable Analysis of Return to Education\n",
    "This notebook replicates the OLS and IV (2SLS) analysis using `nearc4` as an instrument."
   ]
  },
  {
   "cell_type": "code",
   "execution_count": null,
   "id": "31e1d084",
   "metadata": {},
   "outputs": [],
   "source": [
    "# Load required package\n",
    "if(!require(AER)) install.packages('AER')\n",
    "library(AER)"
   ]
  },
  {
   "cell_type": "code",
   "execution_count": null,
   "id": "96203856",
   "metadata": {},
   "outputs": [],
   "source": [
    "# 1. Read data and create log wage\n",
    "data <- read.csv('Education_data.csv')\n",
    "data$logwage <- log(data$wage)\n",
    "head(data)"
   ]
  },
  {
   "cell_type": "code",
   "execution_count": null,
   "id": "4b2925e3",
   "metadata": {},
   "outputs": [],
   "source": [
    "# 2. OLS regression\n",
    "ols <- lm(logwage ~ educ + exper + I(exper^2), data = data)\n",
    "summary(ols)"
   ]
  },
  {
   "cell_type": "code",
   "execution_count": null,
   "id": "dfdc27b5",
   "metadata": {},
   "outputs": [],
   "source": [
    "# 3. First-stage regression\n",
    "first_stage <- lm(educ ~ nearc4 + exper + I(exper^2), data = data)\n",
    "summary(first_stage)"
   ]
  },
  {
   "cell_type": "code",
   "execution_count": null,
   "id": "619bd972",
   "metadata": {},
   "outputs": [],
   "source": [
    "# 4. Two-stage manual 2SLS\n",
    "# 4a. Predict educ_hat\n",
    "data$educ_hat <- predict(first_stage)\n",
    "# 4b. Second-stage regression\n",
    "second_stage <- lm(logwage ~ educ_hat + exper + I(exper^2), data = data)\n",
    "summary(second_stage)"
   ]
  },
  {
   "cell_type": "code",
   "execution_count": null,
   "id": "535eda47",
   "metadata": {},
   "outputs": [],
   "source": [
    "# 5. IV regression using ivreg()\n",
    "iv_model <- ivreg(logwage ~ educ + exper + I(exper^2) | nearc4 + exper + I(exper^2), data = data)\n",
    "summary(iv_model, diagnostics = TRUE)"
   ]
  },
  {
   "cell_type": "code",
   "execution_count": null,
   "id": "af977d09",
   "metadata": {},
   "outputs": [],
   "source": [
    "# 6. Compare OLS vs IV estimates\n",
    "coef_compare <- data.frame(\n",
    "  Model = c('OLS', '2SLS'),\n",
    "  educ = c(coef(ols)['educ'], coef(iv_model)['educ'])\n",
    ")\n",
    "print(coef_compare)"
   ]
  }
 ],
 "metadata": {
  "kernelspec": {
   "display_name": "R",
   "language": "R",
   "name": "ir"
  }
 },
 "nbformat": 4,
 "nbformat_minor": 5
}
