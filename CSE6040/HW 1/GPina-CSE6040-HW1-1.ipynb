version https://git-lfs.github.com/spec/v1
oid sha256:db1641835c044275c0ec4d86c6ea8bbb66c7fe605a856166e1d92269071fd085
size 28256
