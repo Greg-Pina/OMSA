{
 "cells": [
  {
   "cell_type": "markdown",
   "id": "493c5d75",
   "metadata": {},
   "source": [
    "# Question 7.1"
   ]
  },
  {
   "cell_type": "markdown",
   "id": "d4829fb1",
   "metadata": {},
   "source": [
    "## Application of Exponential Smoothing: Web Analytics Data Forecasting"
   ]
  },
  {
   "cell_type": "markdown",
   "id": "4f01c599",
   "metadata": {},
   "source": [
    "### Situation Description\n",
    "In my role as a senior software engineer at GEICO, I frequently analyze and model customer-facing data captured via web analytics technologies such as Adobe Analytics and Google Analytics. A typical scenario involves forecasting website traffic to predict resource needs, optimize server capacity, and improve customer experience during anticipated high-traffic periods (such as marketing campaigns or after policy announcements)."
   ]
  },
  {
   "cell_type": "markdown",
   "id": "026ffbea",
   "metadata": {},
   "source": [
    "### Data Required\n",
    "To apply exponential smoothing effectively, the necessary data includes:\n",
    "- Historical website traffic (daily, weekly, or monthly visitors).\n",
    "- Seasonal patterns or recurring promotional event data.\n",
    "- Event markers indicating significant website or external changes (e.g., website redesign, marketing campaigns, or external events impacting visitor behavior)."
   ]
  },
  {
   "cell_type": "markdown",
   "id": "4c9ad727",
   "metadata": {},
   "source": [
    "### Appropriate Use of Exponential Smoothing\n",
    "Exponential smoothing is appropriate here due to the following reasons:\n",
    "- The data (web traffic) is time-series in nature.\n",
    "- Traffic data generally exhibits trends or seasonality that can be captured efficiently through exponential smoothing.\n",
    "- There is a need for quick adaptability to recent trends or changes in customer behavior without heavily weighing distant past data."
   ]
  },
  {
   "cell_type": "markdown",
   "id": "e53a936f",
   "metadata": {},
   "source": [
    "### Expected Value of Alpha ($\\alpha$)\n",
    "The smoothing parameter $\\alpha$ determines the weight given to the most recent observations:\n",
    "- If web traffic is highly volatile or influenced significantly by recent events, an $\\alpha$ closer to **1** would be appropriate, as this gives more weight to recent observations.\n",
    "- If the traffic is relatively stable with slow changes, an $\\alpha$ closer to **0** would smooth out short-term fluctuations and emphasize long-term trends.\n",
    "\n",
    "Given typical web traffic for GEICO can be influenced significantly by recent marketing efforts or policy announcements, I would generally expect the value of $\\alpha$ to be moderately high, perhaps between **0.5 to 0.7**, to balance responsiveness and stability."
   ]
  },
  {
   "cell_type": "markdown",
   "id": "a224d7a8",
   "metadata": {},
   "source": [
    "---"
   ]
  },
  {
   "cell_type": "markdown",
   "id": "892566a0",
   "metadata": {},
   "source": [
    "# Question 7.2"
   ]
  },
  {
   "cell_type": "markdown",
   "id": "3044d739",
   "metadata": {},
   "source": [
    "**Goal:**  \n",
    "Using 20 years (1996–2015) of Atlanta daily high‐temperature data (July–October), fit an exponential‐smoothing model to each year’s sequence of highs, then define the “unofficial end of summer” as the last date where the smoothed/high‐temperature curve remains above a chosen threshold (e.g., 80 °F). Finally, examine whether that date has trended later over the 20 years.\n",
    "\n",
    "\n",
    "## 1. Load libraries and read in the data"
   ]
  },
  {
   "cell_type": "code",
   "execution_count": 18,
   "id": "3783cbe5",
   "metadata": {
    "vscode": {
     "languageId": "r"
    }
   },
   "outputs": [],
   "source": [
    "library(tidyverse) # for data manipulation and plotting\n",
    "library(lubridate) # for date parsing\n",
    "library(forecast) # for ets() exponential smoothing\n"
   ]
  },
  {
   "cell_type": "code",
   "execution_count": 19,
   "id": "c0a26bb1",
   "metadata": {
    "vscode": {
     "languageId": "r"
    }
   },
   "outputs": [
    {
     "data": {
      "text/html": [
       "<table class=\"dataframe\">\n",
       "<caption>A data.frame: 6 × 21</caption>\n",
       "<thead>\n",
       "\t<tr><th></th><th scope=col>DAY</th><th scope=col>X1996</th><th scope=col>X1997</th><th scope=col>X1998</th><th scope=col>X1999</th><th scope=col>X2000</th><th scope=col>X2001</th><th scope=col>X2002</th><th scope=col>X2003</th><th scope=col>X2004</th><th scope=col>⋯</th><th scope=col>X2006</th><th scope=col>X2007</th><th scope=col>X2008</th><th scope=col>X2009</th><th scope=col>X2010</th><th scope=col>X2011</th><th scope=col>X2012</th><th scope=col>X2013</th><th scope=col>X2014</th><th scope=col>X2015</th></tr>\n",
       "\t<tr><th></th><th scope=col>&lt;chr&gt;</th><th scope=col>&lt;int&gt;</th><th scope=col>&lt;int&gt;</th><th scope=col>&lt;int&gt;</th><th scope=col>&lt;int&gt;</th><th scope=col>&lt;int&gt;</th><th scope=col>&lt;int&gt;</th><th scope=col>&lt;int&gt;</th><th scope=col>&lt;int&gt;</th><th scope=col>&lt;int&gt;</th><th scope=col>⋯</th><th scope=col>&lt;int&gt;</th><th scope=col>&lt;int&gt;</th><th scope=col>&lt;int&gt;</th><th scope=col>&lt;int&gt;</th><th scope=col>&lt;int&gt;</th><th scope=col>&lt;int&gt;</th><th scope=col>&lt;int&gt;</th><th scope=col>&lt;int&gt;</th><th scope=col>&lt;int&gt;</th><th scope=col>&lt;int&gt;</th></tr>\n",
       "</thead>\n",
       "<tbody>\n",
       "\t<tr><th scope=row>1</th><td>1-Jul</td><td>98</td><td>86</td><td>91</td><td>84</td><td>89</td><td>84</td><td>90</td><td>73</td><td>82</td><td>⋯</td><td>93</td><td>95</td><td>85</td><td>95</td><td>87</td><td>92</td><td>105</td><td>82</td><td>90</td><td>85</td></tr>\n",
       "\t<tr><th scope=row>2</th><td>2-Jul</td><td>97</td><td>90</td><td>88</td><td>82</td><td>91</td><td>87</td><td>90</td><td>81</td><td>81</td><td>⋯</td><td>93</td><td>85</td><td>87</td><td>90</td><td>84</td><td>94</td><td> 93</td><td>85</td><td>93</td><td>87</td></tr>\n",
       "\t<tr><th scope=row>3</th><td>3-Jul</td><td>97</td><td>93</td><td>91</td><td>87</td><td>93</td><td>87</td><td>87</td><td>87</td><td>86</td><td>⋯</td><td>93</td><td>82</td><td>91</td><td>89</td><td>83</td><td>95</td><td> 99</td><td>76</td><td>87</td><td>79</td></tr>\n",
       "\t<tr><th scope=row>4</th><td>4-Jul</td><td>90</td><td>91</td><td>91</td><td>88</td><td>95</td><td>84</td><td>89</td><td>86</td><td>88</td><td>⋯</td><td>91</td><td>86</td><td>90</td><td>91</td><td>85</td><td>92</td><td> 98</td><td>77</td><td>84</td><td>85</td></tr>\n",
       "\t<tr><th scope=row>5</th><td>5-Jul</td><td>89</td><td>84</td><td>91</td><td>90</td><td>96</td><td>86</td><td>93</td><td>80</td><td>90</td><td>⋯</td><td>90</td><td>88</td><td>88</td><td>80</td><td>88</td><td>90</td><td>100</td><td>83</td><td>86</td><td>84</td></tr>\n",
       "\t<tr><th scope=row>6</th><td>6-Jul</td><td>93</td><td>84</td><td>89</td><td>91</td><td>96</td><td>87</td><td>93</td><td>84</td><td>90</td><td>⋯</td><td>81</td><td>87</td><td>82</td><td>87</td><td>89</td><td>90</td><td> 98</td><td>83</td><td>87</td><td>84</td></tr>\n",
       "</tbody>\n",
       "</table>\n"
      ],
      "text/latex": [
       "A data.frame: 6 × 21\n",
       "\\begin{tabular}{r|lllllllllllllllllllll}\n",
       "  & DAY & X1996 & X1997 & X1998 & X1999 & X2000 & X2001 & X2002 & X2003 & X2004 & ⋯ & X2006 & X2007 & X2008 & X2009 & X2010 & X2011 & X2012 & X2013 & X2014 & X2015\\\\\n",
       "  & <chr> & <int> & <int> & <int> & <int> & <int> & <int> & <int> & <int> & <int> & ⋯ & <int> & <int> & <int> & <int> & <int> & <int> & <int> & <int> & <int> & <int>\\\\\n",
       "\\hline\n",
       "\t1 & 1-Jul & 98 & 86 & 91 & 84 & 89 & 84 & 90 & 73 & 82 & ⋯ & 93 & 95 & 85 & 95 & 87 & 92 & 105 & 82 & 90 & 85\\\\\n",
       "\t2 & 2-Jul & 97 & 90 & 88 & 82 & 91 & 87 & 90 & 81 & 81 & ⋯ & 93 & 85 & 87 & 90 & 84 & 94 &  93 & 85 & 93 & 87\\\\\n",
       "\t3 & 3-Jul & 97 & 93 & 91 & 87 & 93 & 87 & 87 & 87 & 86 & ⋯ & 93 & 82 & 91 & 89 & 83 & 95 &  99 & 76 & 87 & 79\\\\\n",
       "\t4 & 4-Jul & 90 & 91 & 91 & 88 & 95 & 84 & 89 & 86 & 88 & ⋯ & 91 & 86 & 90 & 91 & 85 & 92 &  98 & 77 & 84 & 85\\\\\n",
       "\t5 & 5-Jul & 89 & 84 & 91 & 90 & 96 & 86 & 93 & 80 & 90 & ⋯ & 90 & 88 & 88 & 80 & 88 & 90 & 100 & 83 & 86 & 84\\\\\n",
       "\t6 & 6-Jul & 93 & 84 & 89 & 91 & 96 & 87 & 93 & 84 & 90 & ⋯ & 81 & 87 & 82 & 87 & 89 & 90 &  98 & 83 & 87 & 84\\\\\n",
       "\\end{tabular}\n"
      ],
      "text/markdown": [
       "\n",
       "A data.frame: 6 × 21\n",
       "\n",
       "| <!--/--> | DAY &lt;chr&gt; | X1996 &lt;int&gt; | X1997 &lt;int&gt; | X1998 &lt;int&gt; | X1999 &lt;int&gt; | X2000 &lt;int&gt; | X2001 &lt;int&gt; | X2002 &lt;int&gt; | X2003 &lt;int&gt; | X2004 &lt;int&gt; | ⋯ ⋯ | X2006 &lt;int&gt; | X2007 &lt;int&gt; | X2008 &lt;int&gt; | X2009 &lt;int&gt; | X2010 &lt;int&gt; | X2011 &lt;int&gt; | X2012 &lt;int&gt; | X2013 &lt;int&gt; | X2014 &lt;int&gt; | X2015 &lt;int&gt; |\n",
       "|---|---|---|---|---|---|---|---|---|---|---|---|---|---|---|---|---|---|---|---|---|---|\n",
       "| 1 | 1-Jul | 98 | 86 | 91 | 84 | 89 | 84 | 90 | 73 | 82 | ⋯ | 93 | 95 | 85 | 95 | 87 | 92 | 105 | 82 | 90 | 85 |\n",
       "| 2 | 2-Jul | 97 | 90 | 88 | 82 | 91 | 87 | 90 | 81 | 81 | ⋯ | 93 | 85 | 87 | 90 | 84 | 94 |  93 | 85 | 93 | 87 |\n",
       "| 3 | 3-Jul | 97 | 93 | 91 | 87 | 93 | 87 | 87 | 87 | 86 | ⋯ | 93 | 82 | 91 | 89 | 83 | 95 |  99 | 76 | 87 | 79 |\n",
       "| 4 | 4-Jul | 90 | 91 | 91 | 88 | 95 | 84 | 89 | 86 | 88 | ⋯ | 91 | 86 | 90 | 91 | 85 | 92 |  98 | 77 | 84 | 85 |\n",
       "| 5 | 5-Jul | 89 | 84 | 91 | 90 | 96 | 86 | 93 | 80 | 90 | ⋯ | 90 | 88 | 88 | 80 | 88 | 90 | 100 | 83 | 86 | 84 |\n",
       "| 6 | 6-Jul | 93 | 84 | 89 | 91 | 96 | 87 | 93 | 84 | 90 | ⋯ | 81 | 87 | 82 | 87 | 89 | 90 |  98 | 83 | 87 | 84 |\n",
       "\n"
      ],
      "text/plain": [
       "  DAY   X1996 X1997 X1998 X1999 X2000 X2001 X2002 X2003 X2004 ⋯ X2006 X2007\n",
       "1 1-Jul 98    86    91    84    89    84    90    73    82    ⋯ 93    95   \n",
       "2 2-Jul 97    90    88    82    91    87    90    81    81    ⋯ 93    85   \n",
       "3 3-Jul 97    93    91    87    93    87    87    87    86    ⋯ 93    82   \n",
       "4 4-Jul 90    91    91    88    95    84    89    86    88    ⋯ 91    86   \n",
       "5 5-Jul 89    84    91    90    96    86    93    80    90    ⋯ 90    88   \n",
       "6 6-Jul 93    84    89    91    96    87    93    84    90    ⋯ 81    87   \n",
       "  X2008 X2009 X2010 X2011 X2012 X2013 X2014 X2015\n",
       "1 85    95    87    92    105   82    90    85   \n",
       "2 87    90    84    94     93   85    93    87   \n",
       "3 91    89    83    95     99   76    87    79   \n",
       "4 90    91    85    92     98   77    84    85   \n",
       "5 88    80    88    90    100   83    86    84   \n",
       "6 82    87    89    90     98   83    87    84   "
      ]
     },
     "metadata": {},
     "output_type": "display_data"
    }
   ],
   "source": [
    "temps_raw <- read.delim(\"temps.txt\", header = TRUE, stringsAsFactors = FALSE)\n",
    "\n",
    "# Inspecting first few rows\n",
    "head(temps_raw)\n"
   ]
  },
  {
   "cell_type": "markdown",
   "id": "efd9f9b7",
   "metadata": {},
   "source": [
    "## 2. Reshape data to “long” form and create a Date column"
   ]
  },
  {
   "cell_type": "code",
   "execution_count": 20,
   "id": "de3d628d",
   "metadata": {
    "vscode": {
     "languageId": "r"
    }
   },
   "outputs": [
    {
     "data": {
      "text/html": [
       "<table class=\"dataframe\">\n",
       "<caption>A tibble: 6 × 3</caption>\n",
       "<thead>\n",
       "\t<tr><th scope=col>date</th><th scope=col>year</th><th scope=col>high_temp</th></tr>\n",
       "\t<tr><th scope=col>&lt;date&gt;</th><th scope=col>&lt;int&gt;</th><th scope=col>&lt;int&gt;</th></tr>\n",
       "</thead>\n",
       "<tbody>\n",
       "\t<tr><td>1996-07-01</td><td>1996</td><td>98</td></tr>\n",
       "\t<tr><td>1996-07-02</td><td>1996</td><td>97</td></tr>\n",
       "\t<tr><td>1996-07-03</td><td>1996</td><td>97</td></tr>\n",
       "\t<tr><td>1996-07-04</td><td>1996</td><td>90</td></tr>\n",
       "\t<tr><td>1996-07-05</td><td>1996</td><td>89</td></tr>\n",
       "\t<tr><td>1996-07-06</td><td>1996</td><td>93</td></tr>\n",
       "</tbody>\n",
       "</table>\n"
      ],
      "text/latex": [
       "A tibble: 6 × 3\n",
       "\\begin{tabular}{lll}\n",
       " date & year & high\\_temp\\\\\n",
       " <date> & <int> & <int>\\\\\n",
       "\\hline\n",
       "\t 1996-07-01 & 1996 & 98\\\\\n",
       "\t 1996-07-02 & 1996 & 97\\\\\n",
       "\t 1996-07-03 & 1996 & 97\\\\\n",
       "\t 1996-07-04 & 1996 & 90\\\\\n",
       "\t 1996-07-05 & 1996 & 89\\\\\n",
       "\t 1996-07-06 & 1996 & 93\\\\\n",
       "\\end{tabular}\n"
      ],
      "text/markdown": [
       "\n",
       "A tibble: 6 × 3\n",
       "\n",
       "| date &lt;date&gt; | year &lt;int&gt; | high_temp &lt;int&gt; |\n",
       "|---|---|---|\n",
       "| 1996-07-01 | 1996 | 98 |\n",
       "| 1996-07-02 | 1996 | 97 |\n",
       "| 1996-07-03 | 1996 | 97 |\n",
       "| 1996-07-04 | 1996 | 90 |\n",
       "| 1996-07-05 | 1996 | 89 |\n",
       "| 1996-07-06 | 1996 | 93 |\n",
       "\n"
      ],
      "text/plain": [
       "  date       year high_temp\n",
       "1 1996-07-01 1996 98       \n",
       "2 1996-07-02 1996 97       \n",
       "3 1996-07-03 1996 97       \n",
       "4 1996-07-04 1996 90       \n",
       "5 1996-07-05 1996 89       \n",
       "6 1996-07-06 1996 93       "
      ]
     },
     "metadata": {},
     "output_type": "display_data"
    },
    {
     "data": {
      "text/html": [
       "<table class=\"dataframe\">\n",
       "<caption>A tibble: 6 × 3</caption>\n",
       "<thead>\n",
       "\t<tr><th scope=col>date</th><th scope=col>year</th><th scope=col>high_temp</th></tr>\n",
       "\t<tr><th scope=col>&lt;date&gt;</th><th scope=col>&lt;int&gt;</th><th scope=col>&lt;int&gt;</th></tr>\n",
       "</thead>\n",
       "<tbody>\n",
       "\t<tr><td>2015-10-26</td><td>2015</td><td>67</td></tr>\n",
       "\t<tr><td>2015-10-27</td><td>2015</td><td>56</td></tr>\n",
       "\t<tr><td>2015-10-28</td><td>2015</td><td>78</td></tr>\n",
       "\t<tr><td>2015-10-29</td><td>2015</td><td>70</td></tr>\n",
       "\t<tr><td>2015-10-30</td><td>2015</td><td>70</td></tr>\n",
       "\t<tr><td>2015-10-31</td><td>2015</td><td>62</td></tr>\n",
       "</tbody>\n",
       "</table>\n"
      ],
      "text/latex": [
       "A tibble: 6 × 3\n",
       "\\begin{tabular}{lll}\n",
       " date & year & high\\_temp\\\\\n",
       " <date> & <int> & <int>\\\\\n",
       "\\hline\n",
       "\t 2015-10-26 & 2015 & 67\\\\\n",
       "\t 2015-10-27 & 2015 & 56\\\\\n",
       "\t 2015-10-28 & 2015 & 78\\\\\n",
       "\t 2015-10-29 & 2015 & 70\\\\\n",
       "\t 2015-10-30 & 2015 & 70\\\\\n",
       "\t 2015-10-31 & 2015 & 62\\\\\n",
       "\\end{tabular}\n"
      ],
      "text/markdown": [
       "\n",
       "A tibble: 6 × 3\n",
       "\n",
       "| date &lt;date&gt; | year &lt;int&gt; | high_temp &lt;int&gt; |\n",
       "|---|---|---|\n",
       "| 2015-10-26 | 2015 | 67 |\n",
       "| 2015-10-27 | 2015 | 56 |\n",
       "| 2015-10-28 | 2015 | 78 |\n",
       "| 2015-10-29 | 2015 | 70 |\n",
       "| 2015-10-30 | 2015 | 70 |\n",
       "| 2015-10-31 | 2015 | 62 |\n",
       "\n"
      ],
      "text/plain": [
       "  date       year high_temp\n",
       "1 2015-10-26 2015 67       \n",
       "2 2015-10-27 2015 56       \n",
       "3 2015-10-28 2015 78       \n",
       "4 2015-10-29 2015 70       \n",
       "5 2015-10-30 2015 70       \n",
       "6 2015-10-31 2015 62       "
      ]
     },
     "metadata": {},
     "output_type": "display_data"
    }
   ],
   "source": [
    "# Reshaping data & creating Date column\n",
    "temps_long <- temps_raw %>%\n",
    "    pivot_longer(\n",
    "        cols = -DAY,\n",
    "        names_to = \"year\",\n",
    "        values_to = \"high_temp\"\n",
    "    ) %>%\n",
    "    mutate(\n",
    "        # Remove the 'X' prefix before converting to integer\n",
    "        year = as.integer(gsub(\"X\", \"\", year)),\n",
    "        # create a \"day_month\" string by combining DAY and year\n",
    "        day_month = paste0(DAY, \"-\", year),\n",
    "        # parse it into a Date, e.g. \"1-Jul-1996\"\n",
    "        date = dmy(day_month)\n",
    "    ) %>%\n",
    "    select(date, year, high_temp) %>%\n",
    "    arrange(date)\n",
    "\n",
    "# Check that parsing worked\n",
    "head(temps_long)\n",
    "tail(temps_long)\n"
   ]
  },
  {
   "cell_type": "markdown",
   "id": "6e540de4",
   "metadata": {},
   "source": [
    "Now `temps_long` has:\n",
    "\n",
    "- `date` (e.g. 1996-07-01, …)\n",
    "- `year` (1996 through 2015)\n",
    "- `high_temp` (the daily high)\n",
    "\n",
    "We have exactly one row per day from July 1 to October 31 for each year.\n",
    "\n",
    "---\n",
    "\n",
    "## 3. For each year, fit an ETS (exponential smoothing) model to July–Oct temperatures\n",
    "\n",
    "We’ll:\n",
    "\n",
    "1. Split `temps_long` by `year`.\n",
    "2. For each year, create a daily‐frequency ts object (length ≈ 123 days).\n",
    "3. Fit `ets(..., model = \"AAN\")` (no seasonality within a single July–Oct block).\n",
    "4. Extract the fitted (“smoothed”) values.\n"
   ]
  },
  {
   "cell_type": "code",
   "execution_count": 21,
   "id": "3cddded7",
   "metadata": {
    "vscode": {
     "languageId": "r"
    }
   },
   "outputs": [
    {
     "data": {
      "text/html": [
       "<table class=\"dataframe\">\n",
       "<caption>A tibble: 6 × 4</caption>\n",
       "<thead>\n",
       "\t<tr><th scope=col>date</th><th scope=col>year</th><th scope=col>high_temp</th><th scope=col>smooth_temp</th></tr>\n",
       "\t<tr><th scope=col>&lt;date&gt;</th><th scope=col>&lt;int&gt;</th><th scope=col>&lt;int&gt;</th><th scope=col>&lt;dbl&gt;</th></tr>\n",
       "</thead>\n",
       "<tbody>\n",
       "\t<tr><td>1996-07-01</td><td>1996</td><td>98</td><td>95.60521</td></tr>\n",
       "\t<tr><td>1996-07-02</td><td>1996</td><td>97</td><td>96.82295</td></tr>\n",
       "\t<tr><td>1996-07-03</td><td>1996</td><td>97</td><td>96.79166</td></tr>\n",
       "\t<tr><td>1996-07-04</td><td>1996</td><td>90</td><td>96.77801</td></tr>\n",
       "\t<tr><td>1996-07-05</td><td>1996</td><td>89</td><td>92.82891</td></tr>\n",
       "\t<tr><td>1996-07-06</td><td>1996</td><td>93</td><td>90.54039</td></tr>\n",
       "</tbody>\n",
       "</table>\n"
      ],
      "text/latex": [
       "A tibble: 6 × 4\n",
       "\\begin{tabular}{llll}\n",
       " date & year & high\\_temp & smooth\\_temp\\\\\n",
       " <date> & <int> & <int> & <dbl>\\\\\n",
       "\\hline\n",
       "\t 1996-07-01 & 1996 & 98 & 95.60521\\\\\n",
       "\t 1996-07-02 & 1996 & 97 & 96.82295\\\\\n",
       "\t 1996-07-03 & 1996 & 97 & 96.79166\\\\\n",
       "\t 1996-07-04 & 1996 & 90 & 96.77801\\\\\n",
       "\t 1996-07-05 & 1996 & 89 & 92.82891\\\\\n",
       "\t 1996-07-06 & 1996 & 93 & 90.54039\\\\\n",
       "\\end{tabular}\n"
      ],
      "text/markdown": [
       "\n",
       "A tibble: 6 × 4\n",
       "\n",
       "| date &lt;date&gt; | year &lt;int&gt; | high_temp &lt;int&gt; | smooth_temp &lt;dbl&gt; |\n",
       "|---|---|---|---|\n",
       "| 1996-07-01 | 1996 | 98 | 95.60521 |\n",
       "| 1996-07-02 | 1996 | 97 | 96.82295 |\n",
       "| 1996-07-03 | 1996 | 97 | 96.79166 |\n",
       "| 1996-07-04 | 1996 | 90 | 96.77801 |\n",
       "| 1996-07-05 | 1996 | 89 | 92.82891 |\n",
       "| 1996-07-06 | 1996 | 93 | 90.54039 |\n",
       "\n"
      ],
      "text/plain": [
       "  date       year high_temp smooth_temp\n",
       "1 1996-07-01 1996 98        95.60521   \n",
       "2 1996-07-02 1996 97        96.82295   \n",
       "3 1996-07-03 1996 97        96.79166   \n",
       "4 1996-07-04 1996 90        96.77801   \n",
       "5 1996-07-05 1996 89        92.82891   \n",
       "6 1996-07-06 1996 93        90.54039   "
      ]
     },
     "metadata": {},
     "output_type": "display_data"
    }
   ],
   "source": [
    "# defining a function to fit ETS and return the fitted values per day\n",
    "fit_ets_for_year <- function(df_year) {\n",
    "    # df_year is a tibble with date, year, high_temp\n",
    "    # create a ts object of length = number of days (should be ~123)\n",
    "    y <- ts(df_year$high_temp, frequency = 1)\n",
    "    # fit ETS with additive error, additive trend, no seasonal (AAN)\n",
    "    fit <- ets(y, model = \"AAN\", damped = FALSE)\n",
    "    # obtain the “in‐sample” fitted (smoothed) values\n",
    "    fitted_vals <- as.numeric(fitted(fit))\n",
    "    tibble(\n",
    "        date = df_year$date,\n",
    "        year = df_year$year,\n",
    "        high_temp = df_year$high_temp,\n",
    "        smooth_temp = fitted_vals\n",
    "    )\n",
    "}\n",
    "\n",
    "# applying fit_ets_for_year to each year\n",
    "temps_smoothed <- temps_long %>%\n",
    "    group_by(year) %>%\n",
    "    group_split() %>%\n",
    "    map(~ fit_ets_for_year(.x)) %>%\n",
    "    bind_rows() %>%\n",
    "    ungroup()\n",
    "\n",
    "# Quick check: what does it look like?\n",
    "head(temps_smoothed)\n"
   ]
  },
  {
   "cell_type": "markdown",
   "id": "430339d2",
   "metadata": {},
   "source": [
    "We now have a data frame `temps_smoothed` with:\n",
    "\n",
    "- `date`\n",
    "- `year`\n",
    "- `high_temp` (raw)\n",
    "- `smooth_temp` (the ETS‐fitted value for that day)\n"
   ]
  },
  {
   "cell_type": "markdown",
   "id": "b4375bf1",
   "metadata": {},
   "source": [
    "## 4. Define “Unofficial End of Summer” per year\n",
    "\n",
    "We choose a threshold of **80 °F**.  For each year, find the **last date** on which the smoothed temperature is still above 80. (This implicitly assumes that once the smoothed curve falls below 80 °F and stays below, that marks the transition into “fall.”)\n",
    "\n",
    "We’ll:\n",
    "\n",
    "1. Filter to days where `smooth_temp > 80`.\n",
    "2. Take the maximum `date` per `year`.\n",
    "3. Store this as `end_of_summer_date`.\n"
   ]
  },
  {
   "cell_type": "code",
   "execution_count": 22,
   "id": "c3975dc0",
   "metadata": {
    "vscode": {
     "languageId": "r"
    }
   },
   "outputs": [
    {
     "data": {
      "text/html": [
       "<table class=\"dataframe\">\n",
       "<caption>A tibble: 20 × 2</caption>\n",
       "<thead>\n",
       "\t<tr><th scope=col>year</th><th scope=col>end_of_summer_date</th></tr>\n",
       "\t<tr><th scope=col>&lt;int&gt;</th><th scope=col>&lt;date&gt;</th></tr>\n",
       "</thead>\n",
       "<tbody>\n",
       "\t<tr><td>1996</td><td>1996-10-31</td></tr>\n",
       "\t<tr><td>1997</td><td>1997-10-12</td></tr>\n",
       "\t<tr><td>1998</td><td>1998-10-31</td></tr>\n",
       "\t<tr><td>1999</td><td>1999-10-04</td></tr>\n",
       "\t<tr><td>2000</td><td>2000-10-06</td></tr>\n",
       "\t<tr><td>2001</td><td>2001-10-24</td></tr>\n",
       "\t<tr><td>2002</td><td>2002-10-13</td></tr>\n",
       "\t<tr><td>2003</td><td>2003-10-22</td></tr>\n",
       "\t<tr><td>2004</td><td>2004-10-28</td></tr>\n",
       "\t<tr><td>2005</td><td>2005-10-22</td></tr>\n",
       "\t<tr><td>2006</td><td>2006-10-06</td></tr>\n",
       "\t<tr><td>2007</td><td>2007-10-11</td></tr>\n",
       "\t<tr><td>2008</td><td>2008-10-17</td></tr>\n",
       "\t<tr><td>2009</td><td>2009-10-10</td></tr>\n",
       "\t<tr><td>2010</td><td>2010-10-27</td></tr>\n",
       "\t<tr><td>2011</td><td>2011-10-18</td></tr>\n",
       "\t<tr><td>2012</td><td>2012-10-07</td></tr>\n",
       "\t<tr><td>2013</td><td>2013-10-14</td></tr>\n",
       "\t<tr><td>2014</td><td>2014-10-28</td></tr>\n",
       "\t<tr><td>2015</td><td>2015-10-24</td></tr>\n",
       "</tbody>\n",
       "</table>\n"
      ],
      "text/latex": [
       "A tibble: 20 × 2\n",
       "\\begin{tabular}{ll}\n",
       " year & end\\_of\\_summer\\_date\\\\\n",
       " <int> & <date>\\\\\n",
       "\\hline\n",
       "\t 1996 & 1996-10-31\\\\\n",
       "\t 1997 & 1997-10-12\\\\\n",
       "\t 1998 & 1998-10-31\\\\\n",
       "\t 1999 & 1999-10-04\\\\\n",
       "\t 2000 & 2000-10-06\\\\\n",
       "\t 2001 & 2001-10-24\\\\\n",
       "\t 2002 & 2002-10-13\\\\\n",
       "\t 2003 & 2003-10-22\\\\\n",
       "\t 2004 & 2004-10-28\\\\\n",
       "\t 2005 & 2005-10-22\\\\\n",
       "\t 2006 & 2006-10-06\\\\\n",
       "\t 2007 & 2007-10-11\\\\\n",
       "\t 2008 & 2008-10-17\\\\\n",
       "\t 2009 & 2009-10-10\\\\\n",
       "\t 2010 & 2010-10-27\\\\\n",
       "\t 2011 & 2011-10-18\\\\\n",
       "\t 2012 & 2012-10-07\\\\\n",
       "\t 2013 & 2013-10-14\\\\\n",
       "\t 2014 & 2014-10-28\\\\\n",
       "\t 2015 & 2015-10-24\\\\\n",
       "\\end{tabular}\n"
      ],
      "text/markdown": [
       "\n",
       "A tibble: 20 × 2\n",
       "\n",
       "| year &lt;int&gt; | end_of_summer_date &lt;date&gt; |\n",
       "|---|---|\n",
       "| 1996 | 1996-10-31 |\n",
       "| 1997 | 1997-10-12 |\n",
       "| 1998 | 1998-10-31 |\n",
       "| 1999 | 1999-10-04 |\n",
       "| 2000 | 2000-10-06 |\n",
       "| 2001 | 2001-10-24 |\n",
       "| 2002 | 2002-10-13 |\n",
       "| 2003 | 2003-10-22 |\n",
       "| 2004 | 2004-10-28 |\n",
       "| 2005 | 2005-10-22 |\n",
       "| 2006 | 2006-10-06 |\n",
       "| 2007 | 2007-10-11 |\n",
       "| 2008 | 2008-10-17 |\n",
       "| 2009 | 2009-10-10 |\n",
       "| 2010 | 2010-10-27 |\n",
       "| 2011 | 2011-10-18 |\n",
       "| 2012 | 2012-10-07 |\n",
       "| 2013 | 2013-10-14 |\n",
       "| 2014 | 2014-10-28 |\n",
       "| 2015 | 2015-10-24 |\n",
       "\n"
      ],
      "text/plain": [
       "   year end_of_summer_date\n",
       "1  1996 1996-10-31        \n",
       "2  1997 1997-10-12        \n",
       "3  1998 1998-10-31        \n",
       "4  1999 1999-10-04        \n",
       "5  2000 2000-10-06        \n",
       "6  2001 2001-10-24        \n",
       "7  2002 2002-10-13        \n",
       "8  2003 2003-10-22        \n",
       "9  2004 2004-10-28        \n",
       "10 2005 2005-10-22        \n",
       "11 2006 2006-10-06        \n",
       "12 2007 2007-10-11        \n",
       "13 2008 2008-10-17        \n",
       "14 2009 2009-10-10        \n",
       "15 2010 2010-10-27        \n",
       "16 2011 2011-10-18        \n",
       "17 2012 2012-10-07        \n",
       "18 2013 2013-10-14        \n",
       "19 2014 2014-10-28        \n",
       "20 2015 2015-10-24        "
      ]
     },
     "metadata": {},
     "output_type": "display_data"
    }
   ],
   "source": [
    "# computing end‐of‐summer date per year\n",
    "threshold <- 80\n",
    "\n",
    "end_of_summer <- temps_smoothed %>%\n",
    "    filter(smooth_temp > threshold) %>%\n",
    "    group_by(year) %>%\n",
    "    summarize(end_of_summer_date = max(date)) %>%\n",
    "    ungroup()\n",
    "\n",
    "end_of_summer\n"
   ]
  },
  {
   "cell_type": "markdown",
   "id": "935c3b77",
   "metadata": {},
   "source": [
    "`end_of_summer` now has 20 rows (1996–2015) with the last date in that year (July–Oct) where smoothed > 80 °F.\n",
    "\n",
    "Let's take a peek:\n"
   ]
  },
  {
   "cell_type": "code",
   "execution_count": 23,
   "id": "c9b50e43",
   "metadata": {
    "vscode": {
     "languageId": "r"
    }
   },
   "outputs": [
    {
     "data": {
      "text/html": [
       "<table class=\"dataframe\">\n",
       "<caption>A tibble: 20 × 2</caption>\n",
       "<thead>\n",
       "\t<tr><th scope=col>year</th><th scope=col>end_of_summer_date</th></tr>\n",
       "\t<tr><th scope=col>&lt;int&gt;</th><th scope=col>&lt;date&gt;</th></tr>\n",
       "</thead>\n",
       "<tbody>\n",
       "\t<tr><td>1996</td><td>1996-10-31</td></tr>\n",
       "\t<tr><td>1997</td><td>1997-10-12</td></tr>\n",
       "\t<tr><td>1998</td><td>1998-10-31</td></tr>\n",
       "\t<tr><td>1999</td><td>1999-10-04</td></tr>\n",
       "\t<tr><td>2000</td><td>2000-10-06</td></tr>\n",
       "\t<tr><td>2001</td><td>2001-10-24</td></tr>\n",
       "\t<tr><td>2002</td><td>2002-10-13</td></tr>\n",
       "\t<tr><td>2003</td><td>2003-10-22</td></tr>\n",
       "\t<tr><td>2004</td><td>2004-10-28</td></tr>\n",
       "\t<tr><td>2005</td><td>2005-10-22</td></tr>\n",
       "\t<tr><td>2006</td><td>2006-10-06</td></tr>\n",
       "\t<tr><td>2007</td><td>2007-10-11</td></tr>\n",
       "\t<tr><td>2008</td><td>2008-10-17</td></tr>\n",
       "\t<tr><td>2009</td><td>2009-10-10</td></tr>\n",
       "\t<tr><td>2010</td><td>2010-10-27</td></tr>\n",
       "\t<tr><td>2011</td><td>2011-10-18</td></tr>\n",
       "\t<tr><td>2012</td><td>2012-10-07</td></tr>\n",
       "\t<tr><td>2013</td><td>2013-10-14</td></tr>\n",
       "\t<tr><td>2014</td><td>2014-10-28</td></tr>\n",
       "\t<tr><td>2015</td><td>2015-10-24</td></tr>\n",
       "</tbody>\n",
       "</table>\n"
      ],
      "text/latex": [
       "A tibble: 20 × 2\n",
       "\\begin{tabular}{ll}\n",
       " year & end\\_of\\_summer\\_date\\\\\n",
       " <int> & <date>\\\\\n",
       "\\hline\n",
       "\t 1996 & 1996-10-31\\\\\n",
       "\t 1997 & 1997-10-12\\\\\n",
       "\t 1998 & 1998-10-31\\\\\n",
       "\t 1999 & 1999-10-04\\\\\n",
       "\t 2000 & 2000-10-06\\\\\n",
       "\t 2001 & 2001-10-24\\\\\n",
       "\t 2002 & 2002-10-13\\\\\n",
       "\t 2003 & 2003-10-22\\\\\n",
       "\t 2004 & 2004-10-28\\\\\n",
       "\t 2005 & 2005-10-22\\\\\n",
       "\t 2006 & 2006-10-06\\\\\n",
       "\t 2007 & 2007-10-11\\\\\n",
       "\t 2008 & 2008-10-17\\\\\n",
       "\t 2009 & 2009-10-10\\\\\n",
       "\t 2010 & 2010-10-27\\\\\n",
       "\t 2011 & 2011-10-18\\\\\n",
       "\t 2012 & 2012-10-07\\\\\n",
       "\t 2013 & 2013-10-14\\\\\n",
       "\t 2014 & 2014-10-28\\\\\n",
       "\t 2015 & 2015-10-24\\\\\n",
       "\\end{tabular}\n"
      ],
      "text/markdown": [
       "\n",
       "A tibble: 20 × 2\n",
       "\n",
       "| year &lt;int&gt; | end_of_summer_date &lt;date&gt; |\n",
       "|---|---|\n",
       "| 1996 | 1996-10-31 |\n",
       "| 1997 | 1997-10-12 |\n",
       "| 1998 | 1998-10-31 |\n",
       "| 1999 | 1999-10-04 |\n",
       "| 2000 | 2000-10-06 |\n",
       "| 2001 | 2001-10-24 |\n",
       "| 2002 | 2002-10-13 |\n",
       "| 2003 | 2003-10-22 |\n",
       "| 2004 | 2004-10-28 |\n",
       "| 2005 | 2005-10-22 |\n",
       "| 2006 | 2006-10-06 |\n",
       "| 2007 | 2007-10-11 |\n",
       "| 2008 | 2008-10-17 |\n",
       "| 2009 | 2009-10-10 |\n",
       "| 2010 | 2010-10-27 |\n",
       "| 2011 | 2011-10-18 |\n",
       "| 2012 | 2012-10-07 |\n",
       "| 2013 | 2013-10-14 |\n",
       "| 2014 | 2014-10-28 |\n",
       "| 2015 | 2015-10-24 |\n",
       "\n"
      ],
      "text/plain": [
       "   year end_of_summer_date\n",
       "1  1996 1996-10-31        \n",
       "2  1997 1997-10-12        \n",
       "3  1998 1998-10-31        \n",
       "4  1999 1999-10-04        \n",
       "5  2000 2000-10-06        \n",
       "6  2001 2001-10-24        \n",
       "7  2002 2002-10-13        \n",
       "8  2003 2003-10-22        \n",
       "9  2004 2004-10-28        \n",
       "10 2005 2005-10-22        \n",
       "11 2006 2006-10-06        \n",
       "12 2007 2007-10-11        \n",
       "13 2008 2008-10-17        \n",
       "14 2009 2009-10-10        \n",
       "15 2010 2010-10-27        \n",
       "16 2011 2011-10-18        \n",
       "17 2012 2012-10-07        \n",
       "18 2013 2013-10-14        \n",
       "19 2014 2014-10-28        \n",
       "20 2015 2015-10-24        "
      ]
     },
     "metadata": {},
     "output_type": "display_data"
    }
   ],
   "source": [
    "# viewing the results in a table\n",
    "end_of_summer %>% arrange(year)\n"
   ]
  },
  {
   "cell_type": "markdown",
   "id": "21c590b4",
   "metadata": {},
   "source": [
    "## 5. Plot the End‐of‐Summer Dates Over Years\n",
    "\n",
    "Convert each `end_of_summer_date` into “Day‐of‐Year” (DOY), so that we can easily see whether that date is drifting later in the calendar.  For example, July 1 is DOY 182 in a non‐leap year; October 31 is DOY 304 (or 305).  Then plot DOY vs. Year and fit a simple linear regression.\n"
   ]
  },
  {
   "cell_type": "markdown",
   "id": "8aecfb78",
   "metadata": {},
   "source": [
    "Below you see a scatter of the day‐of‐year when the smoothed curve dips to 80 °F (for the last time), along with a linear‐fit line.  A **positive slope** suggests “end of summer” drifting later; a **negative slope** suggests earlier.\n"
   ]
  },
  {
   "cell_type": "code",
   "execution_count": 24,
   "id": "f3a3ad95",
   "metadata": {
    "vscode": {
     "languageId": "r"
    }
   },
   "outputs": [
    {
     "name": "stderr",
     "output_type": "stream",
     "text": [
      "\u001b[1m\u001b[22m`geom_smooth()` using formula = 'y ~ x'\n"
     ]
    },
    {
     "data": {
      "image/png": "[encoded data removed]",
      "text/plain": [
       "plot without title"
      ]
     },
     "metadata": {
      "image/png": {
       "height": 420,
       "width": 420
      }
     },
     "output_type": "display_data"
    }
   ],
   "source": [
    "# adding a “day_of_year” column\n",
    "end_of_summer <- end_of_summer %>%\n",
    "    mutate(\n",
    "        day_of_year = yday(end_of_summer_date)\n",
    "    )\n",
    "\n",
    "# Plot DOY vs. year, plus a linear trend line\n",
    "ggplot(end_of_summer, aes(x = year, y = day_of_year)) +\n",
    "    geom_point(size = 2) +\n",
    "    geom_smooth(method = \"lm\", se = TRUE, color = \"blue\") +\n",
    "    scale_y_continuous(\n",
    "        breaks = c(180, 200, 220, 240, 260, 280, 300, 320),\n",
    "        labels = function(x) paste0(x)\n",
    "    ) +\n",
    "    labs(\n",
    "        title = \"End of Summer (Smoothed > 80°F) in Atlanta, 1996–2015\",\n",
    "        x = \"Year\",\n",
    "        y = \"Day of Year (DOY)\",\n",
    "        caption = \"Last date (July–Oct) where ETS‐smoothed high_temp > 80°F\"\n",
    "    ) +\n",
    "    theme_minimal(base_size = 12)\n"
   ]
  },
  {
   "cell_type": "markdown",
   "id": "a409affb",
   "metadata": {},
   "source": [
    "\n",
    "### 5.1. Numeric Linear Trend\n",
    "\n",
    "Extract the regression slope and p‐value:"
   ]
  },
  {
   "cell_type": "code",
   "execution_count": 25,
   "id": "f86e2f3c",
   "metadata": {
    "vscode": {
     "languageId": "r"
    }
   },
   "outputs": [
    {
     "data": {
      "text/plain": [
       "\n",
       "Call:\n",
       "lm(formula = day_of_year ~ year, data = end_of_summer)\n",
       "\n",
       "Residuals:\n",
       "     Min       1Q   Median       3Q      Max \n",
       "-14.2248  -7.1808   0.1383   7.0353  13.6714 \n",
       "\n",
       "Coefficients:\n",
       "             Estimate Std. Error t value Pr(>|t|)\n",
       "(Intercept) 360.36316  714.94262   0.504    0.620\n",
       "year         -0.03459    0.35649  -0.097    0.924\n",
       "\n",
       "Residual standard error: 9.193 on 18 degrees of freedom\n",
       "Multiple R-squared:  0.0005227,\tAdjusted R-squared:  -0.055 \n",
       "F-statistic: 0.009413 on 1 and 18 DF,  p-value: 0.9238\n"
      ]
     },
     "metadata": {},
     "output_type": "display_data"
    }
   ],
   "source": [
    "# fitting lm(day_of_year ~ year) and show summary\n",
    "lm_fit <- lm(day_of_year ~ year, data = end_of_summer)\n",
    "summary(lm_fit)\n"
   ]
  },
  {
   "cell_type": "markdown",
   "id": "d4e10a16",
   "metadata": {},
   "source": [
    "Record in the output:\n",
    "\n",
    "- **Slope** (`coef(year)`): if positive, end‐of‐summer is getting later over time.\n",
    "- **p‐value**: indicates if the trend is statistically significant.\n",
    "\n",
    "---\n",
    "\n",
    "## 6. Interpretation\n",
    "\n",
    "- If the slope is *positive and significant*, we conclude that the **unofficial end of summer has shifted to a later calendar date** over the 20 years.\n",
    "- If the slope is *near zero or negative*, then there is no evidence of a later end of summer (or it may even be earlier).\n",
    "- Looking at our data, the slope is slightly negative (-0.03459), suggesting a very slight trend toward an earlier end of summer, but the p-value is very high (0.924), indicating that this trend is not statistically significant. Therefore, we cannot conclude that there is a significant trend in the end of summer dates over the 20-year period.\n",
    "\n",
    "---\n",
    "\n",
    "## 7. Visualize One Example Year\n",
    "\n",
    "For illustration, let's overlay the raw vs. smoothed daily highs for a single year (say **2015**), marking the identified end‐of‐summer date on that year’s curve.\n"
   ]
  },
  {
   "cell_type": "code",
   "execution_count": 26,
   "id": "015d09fa",
   "metadata": {
    "vscode": {
     "languageId": "r"
    }
   },
   "outputs": [
    {
     "data": {
      "image/png": "[encoded data removed]",
      "text/plain": [
       "plot without title"
      ]
     },
     "metadata": {
      "image/png": {
       "height": 420,
       "width": 420
      }
     },
     "output_type": "display_data"
    }
   ],
   "source": [
    "eos_date_2015 <- end_of_summer %>%\n",
    "    filter(year == year_to_plot) %>%\n",
    "    pull(end_of_summer_date)\n",
    "\n",
    "temps_smoothed %>%\n",
    "    filter(year == year_to_plot) %>%\n",
    "    ggplot(aes(x = date)) +\n",
    "    geom_line(aes(y = high_temp),\n",
    "        color = \"gray40\", linewidth = 0.8,\n",
    "        alpha = 0.7\n",
    "    ) +\n",
    "    geom_line(aes(y = smooth_temp), color = \"firebrick\", linewidth = 1) +\n",
    "    geom_vline(\n",
    "        xintercept = eos_date_2015, linetype = \"dashed\",\n",
    "        color = \"blue\"\n",
    "    ) +\n",
    "    labs(\n",
    "        title = paste0(\n",
    "            \"Year \", year_to_plot,\n",
    "            \": Raw vs. ETS‐Smoothed Highs\"\n",
    "        ),\n",
    "        subtitle = paste0(\n",
    "            \"End of Summer (Smoothed > 80°F) = \",\n",
    "            eos_date_2015\n",
    "        ),\n",
    "        x = \"Date\",\n",
    "        y = \"Temperature (°F)\",\n",
    "        caption = paste0(\n",
    "            \"Gray = raw daily highs; Red = ETS fitted; \",\n",
    "            \"Blue dashed = end‐of‐summer\"\n",
    "        )\n",
    "    ) +\n",
    "    theme_minimal(base_size = 12)\n"
   ]
  },
  {
   "cell_type": "markdown",
   "id": "0b9fb468",
   "metadata": {},
   "source": [
    "---"
   ]
  },
  {
   "cell_type": "markdown",
   "id": "e3612437",
   "metadata": {},
   "source": [
    "# Question 8.1"
   ]
  },
  {
   "cell_type": "markdown",
   "id": "0ce3e50f",
   "metadata": {},
   "source": [
    "## Question:\n",
    "Describe a situation from everyday life (or hobbies) for which a linear regression model would be appropriate. List some (up to 5) predictors you might use.\n",
    "\n",
    "### Optimizing Mana Curve Efficiency in Magic: The Gathering (Commander)\n",
    "\n",
    "#### Situation:\n",
    "In the Commander format of Magic: The Gathering, deck construction is critical. Players select 100 unique cards with varying mana costs. Balancing the mana curve (distribution of cards by mana cost) is crucial because:\n",
    "- Too many high-cost spells can cause inefficiency or delays in the early turns.\n",
    "- Too few impactful, late-game spells may reduce deck performance in longer games.\n",
    "\n",
    "A **linear regression model** can help quantify how different deck-building decisions (especially the mana curve) influence overall deck effectiveness, allowing players to predict performance and optimize their choices.\n",
    "\n",
    "#### Response Variable:\n",
    "**Win Rate** - The percentage of games won over a representative sample of matches (e.g., 20-50 games per deck configuration).\n",
    "\n",
    "#### Predictors (Explanatory Variables):\n",
    "\n",
    "1. **Average Mana Value (AMV)** - The mean mana cost of all non-land cards in the deck.\n",
    "\n",
    "2. **Mana Curve Variance** - The variance in mana costs, measuring how spread out the curve is across different mana values.\n",
    "\n",
    "3. **Ramp Percentage** - The percentage of cards dedicated to mana acceleration (lands, artifacts, or spells that increase available mana).\n",
    "\n",
    "4. **High-Impact Card Count** - Number of cards with mana cost ≥ 6 that provide significant board impact or win conditions.\n",
    "\n",
    "5. **Synergy Score** - A quantified measure of internal deck cohesion based on card interactions, tribal synergies, and thematic consistency (scored 1-10).\n",
    "\n",
    "#### Model Application:\n",
    "This **linear regression model** would allow players to:\n",
    "- Predict deck performance based on construction choices\n",
    "- Identify optimal mana curve distributions for different strategies\n",
    "- Make data-driven decisions when fine-tuning deck compositions\n",
    "- Balance early-game efficiency with late-game power\n",
    "---"
   ]
  },
  {
   "cell_type": "markdown",
   "id": "f8b2aff2",
   "metadata": {},
   "source": [
    "# Question 8.2\n"
   ]
  },
  {
   "cell_type": "code",
   "execution_count": null,
   "id": "a617cc32",
   "metadata": {
    "vscode": {
     "languageId": "r"
    }
   },
   "outputs": [
    {
     "data": {
      "text/html": [
       "<table class=\"dataframe\">\n",
       "<caption>A data.frame: 6 × 16</caption>\n",
       "<thead>\n",
       "\t<tr><th></th><th scope=col>M</th><th scope=col>So</th><th scope=col>Ed</th><th scope=col>Po1</th><th scope=col>Po2</th><th scope=col>LF</th><th scope=col>M.F</th><th scope=col>Pop</th><th scope=col>NW</th><th scope=col>U1</th><th scope=col>U2</th><th scope=col>Wealth</th><th scope=col>Ineq</th><th scope=col>Prob</th><th scope=col>Time</th><th scope=col>Crime</th></tr>\n",
       "\t<tr><th></th><th scope=col>&lt;dbl&gt;</th><th scope=col>&lt;int&gt;</th><th scope=col>&lt;dbl&gt;</th><th scope=col>&lt;dbl&gt;</th><th scope=col>&lt;dbl&gt;</th><th scope=col>&lt;dbl&gt;</th><th scope=col>&lt;dbl&gt;</th><th scope=col>&lt;int&gt;</th><th scope=col>&lt;dbl&gt;</th><th scope=col>&lt;dbl&gt;</th><th scope=col>&lt;dbl&gt;</th><th scope=col>&lt;int&gt;</th><th scope=col>&lt;dbl&gt;</th><th scope=col>&lt;dbl&gt;</th><th scope=col>&lt;dbl&gt;</th><th scope=col>&lt;int&gt;</th></tr>\n",
       "</thead>\n",
       "<tbody>\n",
       "\t<tr><th scope=row>1</th><td>15.1</td><td>1</td><td> 9.1</td><td> 5.8</td><td> 5.6</td><td>0.510</td><td> 95.0</td><td> 33</td><td>30.1</td><td>0.108</td><td>4.1</td><td>3940</td><td>26.1</td><td>0.084602</td><td>26.2011</td><td> 791</td></tr>\n",
       "\t<tr><th scope=row>2</th><td>14.3</td><td>0</td><td>11.3</td><td>10.3</td><td> 9.5</td><td>0.583</td><td>101.2</td><td> 13</td><td>10.2</td><td>0.096</td><td>3.6</td><td>5570</td><td>19.4</td><td>0.029599</td><td>25.2999</td><td>1635</td></tr>\n",
       "\t<tr><th scope=row>3</th><td>14.2</td><td>1</td><td> 8.9</td><td> 4.5</td><td> 4.4</td><td>0.533</td><td> 96.9</td><td> 18</td><td>21.9</td><td>0.094</td><td>3.3</td><td>3180</td><td>25.0</td><td>0.083401</td><td>24.3006</td><td> 578</td></tr>\n",
       "\t<tr><th scope=row>4</th><td>13.6</td><td>0</td><td>12.1</td><td>14.9</td><td>14.1</td><td>0.577</td><td> 99.4</td><td>157</td><td> 8.0</td><td>0.102</td><td>3.9</td><td>6730</td><td>16.7</td><td>0.015801</td><td>29.9012</td><td>1969</td></tr>\n",
       "\t<tr><th scope=row>5</th><td>14.1</td><td>0</td><td>12.1</td><td>10.9</td><td>10.1</td><td>0.591</td><td> 98.5</td><td> 18</td><td> 3.0</td><td>0.091</td><td>2.0</td><td>5780</td><td>17.4</td><td>0.041399</td><td>21.2998</td><td>1234</td></tr>\n",
       "\t<tr><th scope=row>6</th><td>12.1</td><td>0</td><td>11.0</td><td>11.8</td><td>11.5</td><td>0.547</td><td> 96.4</td><td> 25</td><td> 4.4</td><td>0.084</td><td>2.9</td><td>6890</td><td>12.6</td><td>0.034201</td><td>20.9995</td><td> 682</td></tr>\n",
       "</tbody>\n",
       "</table>\n"
      ],
      "text/latex": [
       "A data.frame: 6 × 16\n",
       "\\begin{tabular}{r|llllllllllllllll}\n",
       "  & M & So & Ed & Po1 & Po2 & LF & M.F & Pop & NW & U1 & U2 & Wealth & Ineq & Prob & Time & Crime\\\\\n",
       "  & <dbl> & <int> & <dbl> & <dbl> & <dbl> & <dbl> & <dbl> & <int> & <dbl> & <dbl> & <dbl> & <int> & <dbl> & <dbl> & <dbl> & <int>\\\\\n",
       "\\hline\n",
       "\t1 & 15.1 & 1 &  9.1 &  5.8 &  5.6 & 0.510 &  95.0 &  33 & 30.1 & 0.108 & 4.1 & 3940 & 26.1 & 0.084602 & 26.2011 &  791\\\\\n",
       "\t2 & 14.3 & 0 & 11.3 & 10.3 &  9.5 & 0.583 & 101.2 &  13 & 10.2 & 0.096 & 3.6 & 5570 & 19.4 & 0.029599 & 25.2999 & 1635\\\\\n",
       "\t3 & 14.2 & 1 &  8.9 &  4.5 &  4.4 & 0.533 &  96.9 &  18 & 21.9 & 0.094 & 3.3 & 3180 & 25.0 & 0.083401 & 24.3006 &  578\\\\\n",
       "\t4 & 13.6 & 0 & 12.1 & 14.9 & 14.1 & 0.577 &  99.4 & 157 &  8.0 & 0.102 & 3.9 & 6730 & 16.7 & 0.015801 & 29.9012 & 1969\\\\\n",
       "\t5 & 14.1 & 0 & 12.1 & 10.9 & 10.1 & 0.591 &  98.5 &  18 &  3.0 & 0.091 & 2.0 & 5780 & 17.4 & 0.041399 & 21.2998 & 1234\\\\\n",
       "\t6 & 12.1 & 0 & 11.0 & 11.8 & 11.5 & 0.547 &  96.4 &  25 &  4.4 & 0.084 & 2.9 & 6890 & 12.6 & 0.034201 & 20.9995 &  682\\\\\n",
       "\\end{tabular}\n"
      ],
      "text/markdown": [
       "\n",
       "A data.frame: 6 × 16\n",
       "\n",
       "| <!--/--> | M &lt;dbl&gt; | So &lt;int&gt; | Ed &lt;dbl&gt; | Po1 &lt;dbl&gt; | Po2 &lt;dbl&gt; | LF &lt;dbl&gt; | M.F &lt;dbl&gt; | Pop &lt;int&gt; | NW &lt;dbl&gt; | U1 &lt;dbl&gt; | U2 &lt;dbl&gt; | Wealth &lt;int&gt; | Ineq &lt;dbl&gt; | Prob &lt;dbl&gt; | Time &lt;dbl&gt; | Crime &lt;int&gt; |\n",
       "|---|---|---|---|---|---|---|---|---|---|---|---|---|---|---|---|---|\n",
       "| 1 | 15.1 | 1 |  9.1 |  5.8 |  5.6 | 0.510 |  95.0 |  33 | 30.1 | 0.108 | 4.1 | 3940 | 26.1 | 0.084602 | 26.2011 |  791 |\n",
       "| 2 | 14.3 | 0 | 11.3 | 10.3 |  9.5 | 0.583 | 101.2 |  13 | 10.2 | 0.096 | 3.6 | 5570 | 19.4 | 0.029599 | 25.2999 | 1635 |\n",
       "| 3 | 14.2 | 1 |  8.9 |  4.5 |  4.4 | 0.533 |  96.9 |  18 | 21.9 | 0.094 | 3.3 | 3180 | 25.0 | 0.083401 | 24.3006 |  578 |\n",
       "| 4 | 13.6 | 0 | 12.1 | 14.9 | 14.1 | 0.577 |  99.4 | 157 |  8.0 | 0.102 | 3.9 | 6730 | 16.7 | 0.015801 | 29.9012 | 1969 |\n",
       "| 5 | 14.1 | 0 | 12.1 | 10.9 | 10.1 | 0.591 |  98.5 |  18 |  3.0 | 0.091 | 2.0 | 5780 | 17.4 | 0.041399 | 21.2998 | 1234 |\n",
       "| 6 | 12.1 | 0 | 11.0 | 11.8 | 11.5 | 0.547 |  96.4 |  25 |  4.4 | 0.084 | 2.9 | 6890 | 12.6 | 0.034201 | 20.9995 |  682 |\n",
       "\n"
      ],
      "text/plain": [
       "  M    So Ed   Po1  Po2  LF    M.F   Pop NW   U1    U2  Wealth Ineq Prob    \n",
       "1 15.1 1   9.1  5.8  5.6 0.510  95.0  33 30.1 0.108 4.1 3940   26.1 0.084602\n",
       "2 14.3 0  11.3 10.3  9.5 0.583 101.2  13 10.2 0.096 3.6 5570   19.4 0.029599\n",
       "3 14.2 1   8.9  4.5  4.4 0.533  96.9  18 21.9 0.094 3.3 3180   25.0 0.083401\n",
       "4 13.6 0  12.1 14.9 14.1 0.577  99.4 157  8.0 0.102 3.9 6730   16.7 0.015801\n",
       "5 14.1 0  12.1 10.9 10.1 0.591  98.5  18  3.0 0.091 2.0 5780   17.4 0.041399\n",
       "6 12.1 0  11.0 11.8 11.5 0.547  96.4  25  4.4 0.084 2.9 6890   12.6 0.034201\n",
       "  Time    Crime\n",
       "1 26.2011  791 \n",
       "2 25.2999 1635 \n",
       "3 24.3006  578 \n",
       "4 29.9012 1969 \n",
       "5 21.2998 1234 \n",
       "6 20.9995  682 "
      ]
     },
     "metadata": {},
     "output_type": "display_data"
    },
    {
     "data": {
      "text/plain": [
       "\n",
       "Call:\n",
       "lm(formula = Crime ~ M + So + Ed + Po1 + Po2 + LF + M.F + Pop + \n",
       "    NW + U1 + U2 + Wealth + Ineq + Prob + Time, data = crime)\n",
       "\n",
       "Residuals:\n",
       "    Min      1Q  Median      3Q     Max \n",
       "-395.74  -98.09   -6.69  112.99  512.67 \n",
       "\n",
       "Coefficients:\n",
       "              Estimate Std. Error t value Pr(>|t|)    \n",
       "(Intercept) -5.984e+03  1.628e+03  -3.675 0.000893 ***\n",
       "M            8.783e+01  4.171e+01   2.106 0.043443 *  \n",
       "So          -3.803e+00  1.488e+02  -0.026 0.979765    \n",
       "Ed           1.883e+02  6.209e+01   3.033 0.004861 ** \n",
       "Po1          1.928e+02  1.061e+02   1.817 0.078892 .  \n",
       "Po2         -1.094e+02  1.175e+02  -0.931 0.358830    \n",
       "LF          -6.638e+02  1.470e+03  -0.452 0.654654    \n",
       "M.F          1.741e+01  2.035e+01   0.855 0.398995    \n",
       "Pop         -7.330e-01  1.290e+00  -0.568 0.573845    \n",
       "NW           4.204e+00  6.481e+00   0.649 0.521279    \n",
       "U1          -5.827e+03  4.210e+03  -1.384 0.176238    \n",
       "U2           1.678e+02  8.234e+01   2.038 0.050161 .  \n",
       "Wealth       9.617e-02  1.037e-01   0.928 0.360754    \n",
       "Ineq         7.067e+01  2.272e+01   3.111 0.003983 ** \n",
       "Prob        -4.855e+03  2.272e+03  -2.137 0.040627 *  \n",
       "Time        -3.479e+00  7.165e+00  -0.486 0.630708    \n",
       "---\n",
       "Signif. codes:  0 ‘***’ 0.001 ‘**’ 0.01 ‘*’ 0.05 ‘.’ 0.1 ‘ ’ 1\n",
       "\n",
       "Residual standard error: 209.1 on 31 degrees of freedom\n",
       "Multiple R-squared:  0.8031,\tAdjusted R-squared:  0.7078 \n",
       "F-statistic: 8.429 on 15 and 31 DF,  p-value: 3.539e-07\n"
      ]
     },
     "metadata": {},
     "output_type": "display_data"
    }
   ],
   "source": [
    "crime <- read.table(\"uscrime.txt\", header = TRUE)\n",
    "# Inspecting the first few rows\n",
    "head(crime)\n",
    "\n",
    "# Fit a linear regression model predicting Crime from all 15 predictors\n",
    "model <- lm(\n",
    "    Crime ~ M + So + Ed + Po1 + Po2 + LF + M.F + Pop + NW + U1 +\n",
    "        U2 + Wealth + Ineq + Prob + Time,\n",
    "    data = crime\n",
    ")\n",
    "\n",
    "# View the summary of the fitted model\n",
    "summary(model)\n"
   ]
  },
  {
   "cell_type": "code",
   "execution_count": 30,
   "id": "4c45082c",
   "metadata": {
    "vscode": {
     "languageId": "r"
    }
   },
   "outputs": [],
   "source": [
    "# Creating new data frame for the city’s predictors\n",
    "new_city <- data.frame(\n",
    "    M      = 14.0,\n",
    "    So     = 0,\n",
    "    Ed     = 10.0,\n",
    "    Po1    = 12.0,\n",
    "    Po2    = 15.5,\n",
    "    LF     = 0.640,\n",
    "    M.F    = 94.0,\n",
    "    Pop    = 150,\n",
    "    NW     = 1.1,\n",
    "    U1     = 0.120,\n",
    "    U2     = 3.6,\n",
    "    Wealth = 3200,\n",
    "    Ineq   = 20.1,\n",
    "    Prob   = 0.04,\n",
    "    Time   = 39.0\n",
    ")\n"
   ]
  },
  {
   "cell_type": "code",
   "execution_count": null,
   "id": "2afc0d94",
   "metadata": {
    "vscode": {
     "languageId": "r"
    }
   },
   "outputs": [
    {
     "data": {
      "text/html": [
       "<style>\n",
       ".dl-inline {width: auto; margin:0; padding: 0}\n",
       ".dl-inline>dt, .dl-inline>dd {float: none; width: auto; display: inline-block}\n",
       ".dl-inline>dt::after {content: \":\\0020\"; padding-right: .5ex}\n",
       ".dl-inline>dt:not(:first-of-type) {padding-left: .5ex}\n",
       "</style><dl class=dl-inline><dt>(Intercept)</dt><dd>-5984.28760449682</dd><dt>M</dt><dd>87.8301732430492</dd><dt>So</dt><dd>-3.80345029611412</dd><dt>Ed</dt><dd>188.32431475042</dd><dt>Po1</dt><dd>192.804338276589</dd><dt>Po2</dt><dd>-109.421925381631</dd><dt>LF</dt><dd>-663.826145079773</dd><dt>M.F</dt><dd>17.4068555276353</dd><dt>Pop</dt><dd>-0.73300814958491</dd><dt>NW</dt><dd>4.20446100194135</dd><dt>U1</dt><dd>-5827.10272440481</dd><dt>U2</dt><dd>167.799672221837</dd><dt>Wealth</dt><dd>0.0961662430048665</dd><dt>Ineq</dt><dd>70.6720994522301</dd><dt>Prob</dt><dd>-4855.26581547548</dd><dt>Time</dt><dd>-3.47901784343311</dd></dl>\n"
      ],
      "text/latex": [
       "\\begin{description*}\n",
       "\\item[(Intercept)] -5984.28760449682\n",
       "\\item[M] 87.8301732430492\n",
       "\\item[So] -3.80345029611412\n",
       "\\item[Ed] 188.32431475042\n",
       "\\item[Po1] 192.804338276589\n",
       "\\item[Po2] -109.421925381631\n",
       "\\item[LF] -663.826145079773\n",
       "\\item[M.F] 17.4068555276353\n",
       "\\item[Pop] -0.73300814958491\n",
       "\\item[NW] 4.20446100194135\n",
       "\\item[U1] -5827.10272440481\n",
       "\\item[U2] 167.799672221837\n",
       "\\item[Wealth] 0.0961662430048665\n",
       "\\item[Ineq] 70.6720994522301\n",
       "\\item[Prob] -4855.26581547548\n",
       "\\item[Time] -3.47901784343311\n",
       "\\end{description*}\n"
      ],
      "text/markdown": [
       "(Intercept)\n",
       ":   -5984.28760449682M\n",
       ":   87.8301732430492So\n",
       ":   -3.80345029611412Ed\n",
       ":   188.32431475042Po1\n",
       ":   192.804338276589Po2\n",
       ":   -109.421925381631LF\n",
       ":   -663.826145079773M.F\n",
       ":   17.4068555276353Pop\n",
       ":   -0.73300814958491NW\n",
       ":   4.20446100194135U1\n",
       ":   -5827.10272440481U2\n",
       ":   167.799672221837Wealth\n",
       ":   0.0961662430048665Ineq\n",
       ":   70.6720994522301Prob\n",
       ":   -4855.26581547548Time\n",
       ":   -3.47901784343311\n",
       "\n"
      ],
      "text/plain": [
       "  (Intercept)             M            So            Ed           Po1 \n",
       "-5.984288e+03  8.783017e+01 -3.803450e+00  1.883243e+02  1.928043e+02 \n",
       "          Po2            LF           M.F           Pop            NW \n",
       "-1.094219e+02 -6.638261e+02  1.740686e+01 -7.330081e-01  4.204461e+00 \n",
       "           U1            U2        Wealth          Ineq          Prob \n",
       "-5.827103e+03  1.677997e+02  9.616624e-02  7.067210e+01 -4.855266e+03 \n",
       "         Time \n",
       "-3.479018e+00 "
      ]
     },
     "metadata": {},
     "output_type": "display_data"
    }
   ],
   "source": [
    "# Extract model coefficients\n",
    "coefficients(model)\n"
   ]
  },
  {
   "cell_type": "code",
   "execution_count": 33,
   "id": "1fc7254e",
   "metadata": {
    "vscode": {
     "languageId": "r"
    }
   },
   "outputs": [
    {
     "name": "stdout",
     "output_type": "stream",
     "text": [
      "Model Quality of Fit:\n",
      "Multiple R-squared: 0.8030868 \n",
      "Adjusted R-squared: 0.7078062 \n",
      "Residual standard error: 209.0644 \n",
      "F-statistic: 8.428649 on 15 and 31 DF\n",
      "p-value: 3.538747e-07 \n"
     ]
    }
   ],
   "source": [
    "# Model quality metrics\n",
    "cat(\"Model Quality of Fit:\\n\")\n",
    "cat(\"Multiple R-squared:\", summary(model)$r.squared, \"\\n\")\n",
    "cat(\"Adjusted R-squared:\", summary(model)$adj.r.squared, \"\\n\")\n",
    "cat(\"Residual standard error:\", summary(model)$sigma, \"\\n\")\n",
    "cat(\n",
    "    \"F-statistic:\", summary(model)$fstatistic[1],\n",
    "    \"on\", summary(model)$fstatistic[2], \"and\", summary(model)$fstatistic[3],\n",
    "    \"DF\\n\"\n",
    ")\n",
    "cat(\"p-value:\", pf(summary(model)$fstatistic[1],\n",
    "    summary(model)$fstatistic[2],\n",
    "    summary(model)$fstatistic[3],\n",
    "    lower.tail = FALSE\n",
    "), \"\\n\")\n"
   ]
  },
  {
   "cell_type": "markdown",
   "id": "a4fae7e1",
   "metadata": {},
   "source": [
    "#### Significant predictors (p < 0.05):\n",
    "- M (% males aged 14-24): coefficient = 87.83, p = 0.043\n",
    "- Ed (mean years of schooling): coefficient = 188.3, p = 0.005\n",
    "- Ineq (income inequality): coefficient = 70.67, p = 0.004\n",
    "- Prob (probability of imprisonment): coefficient = -4855, p = 0.041\n",
    "\n",
    "#### Model Quality:\n",
    "- Multiple R-squared: 0.8031 (80.31% of variance explained)\n",
    "- Adjusted R-squared: 0.7078 (70.78% accounting for predictors)\n",
    "- Residual standard error: 209.1\n",
    "- F-statistic: 8.429, p-value: 3.539e-07 (highly significant)\n",
    "- Predicted Crime Rate: The model predicts approximately 1304 crimes per 100,000 population for the given city, with a prediction interval that accounts for uncertainty in the prediction."
   ]
  }
 ],
 "metadata": {
  "kernelspec": {
   "display_name": "R",
   "language": "R",
   "name": "ir"
  },
  "language_info": {
   "codemirror_mode": "r",
   "file_extension": ".r",
   "mimetype": "text/x-r-source",
   "name": "R",
   "pygments_lexer": "r",
   "version": "4.5.0"
  }
 },
 "nbformat": 4,
 "nbformat_minor": 5
}
