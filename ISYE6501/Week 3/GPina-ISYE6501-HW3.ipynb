version https://git-lfs.github.com/spec/v1
oid sha256:9f39fbab733e9f7c3efd5c0084535e42ef4405c4bdcc4363a3fc3b7bd9d41650
size 247621
