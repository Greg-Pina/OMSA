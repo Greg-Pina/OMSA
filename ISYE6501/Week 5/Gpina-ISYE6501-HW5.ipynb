{
 "cells": [
  {
   "cell_type": "markdown",
   "id": "bad560bd",
   "metadata": {},
   "source": [
    "# ISYE 6501 - Homework 5\n",
    "\n",
    "## **Question 11.1**: Regression Modeling on the `uscrime` Dataset\n",
    "\n",
    "**Goals:**\n",
    "1. Stepwise regression (forward, backward, both)\n",
    "2. Lasso (α = 1)\n",
    "3. Elastic Net (0 ≤ α ≤ 1)\n",
    "\n",
    "### 1. Setup"
   ]
  },
  {
   "cell_type": "code",
   "execution_count": 11,
   "id": "4811060b",
   "metadata": {
    "vscode": {
     "languageId": "r"
    }
   },
   "outputs": [
    {
     "name": "stdout",
     "output_type": "stream",
     "text": [
      "FrF2 package loaded successfully.\n"
     ]
    },
    {
     "data": {
      "text/html": [
       "<table class=\"dataframe\">\n",
       "<caption>A data.frame: 6 × 16</caption>\n",
       "<thead>\n",
       "\t<tr><th></th><th scope=col>M</th><th scope=col>So</th><th scope=col>Ed</th><th scope=col>Po1</th><th scope=col>Po2</th><th scope=col>LF</th><th scope=col>M.F</th><th scope=col>Pop</th><th scope=col>NW</th><th scope=col>U1</th><th scope=col>U2</th><th scope=col>Wealth</th><th scope=col>Ineq</th><th scope=col>Prob</th><th scope=col>Time</th><th scope=col>Crime</th></tr>\n",
       "\t<tr><th></th><th scope=col>&lt;dbl&gt;</th><th scope=col>&lt;int&gt;</th><th scope=col>&lt;dbl&gt;</th><th scope=col>&lt;dbl&gt;</th><th scope=col>&lt;dbl&gt;</th><th scope=col>&lt;dbl&gt;</th><th scope=col>&lt;dbl&gt;</th><th scope=col>&lt;int&gt;</th><th scope=col>&lt;dbl&gt;</th><th scope=col>&lt;dbl&gt;</th><th scope=col>&lt;dbl&gt;</th><th scope=col>&lt;int&gt;</th><th scope=col>&lt;dbl&gt;</th><th scope=col>&lt;dbl&gt;</th><th scope=col>&lt;dbl&gt;</th><th scope=col>&lt;int&gt;</th></tr>\n",
       "</thead>\n",
       "<tbody>\n",
       "\t<tr><th scope=row>1</th><td>15.1</td><td>1</td><td> 9.1</td><td> 5.8</td><td> 5.6</td><td>0.510</td><td> 95.0</td><td> 33</td><td>30.1</td><td>0.108</td><td>4.1</td><td>3940</td><td>26.1</td><td>0.084602</td><td>26.2011</td><td> 791</td></tr>\n",
       "\t<tr><th scope=row>2</th><td>14.3</td><td>0</td><td>11.3</td><td>10.3</td><td> 9.5</td><td>0.583</td><td>101.2</td><td> 13</td><td>10.2</td><td>0.096</td><td>3.6</td><td>5570</td><td>19.4</td><td>0.029599</td><td>25.2999</td><td>1635</td></tr>\n",
       "\t<tr><th scope=row>3</th><td>14.2</td><td>1</td><td> 8.9</td><td> 4.5</td><td> 4.4</td><td>0.533</td><td> 96.9</td><td> 18</td><td>21.9</td><td>0.094</td><td>3.3</td><td>3180</td><td>25.0</td><td>0.083401</td><td>24.3006</td><td> 578</td></tr>\n",
       "\t<tr><th scope=row>4</th><td>13.6</td><td>0</td><td>12.1</td><td>14.9</td><td>14.1</td><td>0.577</td><td> 99.4</td><td>157</td><td> 8.0</td><td>0.102</td><td>3.9</td><td>6730</td><td>16.7</td><td>0.015801</td><td>29.9012</td><td>1969</td></tr>\n",
       "\t<tr><th scope=row>5</th><td>14.1</td><td>0</td><td>12.1</td><td>10.9</td><td>10.1</td><td>0.591</td><td> 98.5</td><td> 18</td><td> 3.0</td><td>0.091</td><td>2.0</td><td>5780</td><td>17.4</td><td>0.041399</td><td>21.2998</td><td>1234</td></tr>\n",
       "\t<tr><th scope=row>6</th><td>12.1</td><td>0</td><td>11.0</td><td>11.8</td><td>11.5</td><td>0.547</td><td> 96.4</td><td> 25</td><td> 4.4</td><td>0.084</td><td>2.9</td><td>6890</td><td>12.6</td><td>0.034201</td><td>20.9995</td><td> 682</td></tr>\n",
       "</tbody>\n",
       "</table>\n"
      ],
      "text/latex": [
       "A data.frame: 6 × 16\n",
       "\\begin{tabular}{r|llllllllllllllll}\n",
       "  & M & So & Ed & Po1 & Po2 & LF & M.F & Pop & NW & U1 & U2 & Wealth & Ineq & Prob & Time & Crime\\\\\n",
       "  & <dbl> & <int> & <dbl> & <dbl> & <dbl> & <dbl> & <dbl> & <int> & <dbl> & <dbl> & <dbl> & <int> & <dbl> & <dbl> & <dbl> & <int>\\\\\n",
       "\\hline\n",
       "\t1 & 15.1 & 1 &  9.1 &  5.8 &  5.6 & 0.510 &  95.0 &  33 & 30.1 & 0.108 & 4.1 & 3940 & 26.1 & 0.084602 & 26.2011 &  791\\\\\n",
       "\t2 & 14.3 & 0 & 11.3 & 10.3 &  9.5 & 0.583 & 101.2 &  13 & 10.2 & 0.096 & 3.6 & 5570 & 19.4 & 0.029599 & 25.2999 & 1635\\\\\n",
       "\t3 & 14.2 & 1 &  8.9 &  4.5 &  4.4 & 0.533 &  96.9 &  18 & 21.9 & 0.094 & 3.3 & 3180 & 25.0 & 0.083401 & 24.3006 &  578\\\\\n",
       "\t4 & 13.6 & 0 & 12.1 & 14.9 & 14.1 & 0.577 &  99.4 & 157 &  8.0 & 0.102 & 3.9 & 6730 & 16.7 & 0.015801 & 29.9012 & 1969\\\\\n",
       "\t5 & 14.1 & 0 & 12.1 & 10.9 & 10.1 & 0.591 &  98.5 &  18 &  3.0 & 0.091 & 2.0 & 5780 & 17.4 & 0.041399 & 21.2998 & 1234\\\\\n",
       "\t6 & 12.1 & 0 & 11.0 & 11.8 & 11.5 & 0.547 &  96.4 &  25 &  4.4 & 0.084 & 2.9 & 6890 & 12.6 & 0.034201 & 20.9995 &  682\\\\\n",
       "\\end{tabular}\n"
      ],
      "text/markdown": [
       "\n",
       "A data.frame: 6 × 16\n",
       "\n",
       "| <!--/--> | M &lt;dbl&gt; | So &lt;int&gt; | Ed &lt;dbl&gt; | Po1 &lt;dbl&gt; | Po2 &lt;dbl&gt; | LF &lt;dbl&gt; | M.F &lt;dbl&gt; | Pop &lt;int&gt; | NW &lt;dbl&gt; | U1 &lt;dbl&gt; | U2 &lt;dbl&gt; | Wealth &lt;int&gt; | Ineq &lt;dbl&gt; | Prob &lt;dbl&gt; | Time &lt;dbl&gt; | Crime &lt;int&gt; |\n",
       "|---|---|---|---|---|---|---|---|---|---|---|---|---|---|---|---|---|\n",
       "| 1 | 15.1 | 1 |  9.1 |  5.8 |  5.6 | 0.510 |  95.0 |  33 | 30.1 | 0.108 | 4.1 | 3940 | 26.1 | 0.084602 | 26.2011 |  791 |\n",
       "| 2 | 14.3 | 0 | 11.3 | 10.3 |  9.5 | 0.583 | 101.2 |  13 | 10.2 | 0.096 | 3.6 | 5570 | 19.4 | 0.029599 | 25.2999 | 1635 |\n",
       "| 3 | 14.2 | 1 |  8.9 |  4.5 |  4.4 | 0.533 |  96.9 |  18 | 21.9 | 0.094 | 3.3 | 3180 | 25.0 | 0.083401 | 24.3006 |  578 |\n",
       "| 4 | 13.6 | 0 | 12.1 | 14.9 | 14.1 | 0.577 |  99.4 | 157 |  8.0 | 0.102 | 3.9 | 6730 | 16.7 | 0.015801 | 29.9012 | 1969 |\n",
       "| 5 | 14.1 | 0 | 12.1 | 10.9 | 10.1 | 0.591 |  98.5 |  18 |  3.0 | 0.091 | 2.0 | 5780 | 17.4 | 0.041399 | 21.2998 | 1234 |\n",
       "| 6 | 12.1 | 0 | 11.0 | 11.8 | 11.5 | 0.547 |  96.4 |  25 |  4.4 | 0.084 | 2.9 | 6890 | 12.6 | 0.034201 | 20.9995 |  682 |\n",
       "\n"
      ],
      "text/plain": [
       "  M    So Ed   Po1  Po2  LF    M.F   Pop NW   U1    U2  Wealth Ineq Prob    \n",
       "1 15.1 1   9.1  5.8  5.6 0.510  95.0  33 30.1 0.108 4.1 3940   26.1 0.084602\n",
       "2 14.3 0  11.3 10.3  9.5 0.583 101.2  13 10.2 0.096 3.6 5570   19.4 0.029599\n",
       "3 14.2 1   8.9  4.5  4.4 0.533  96.9  18 21.9 0.094 3.3 3180   25.0 0.083401\n",
       "4 13.6 0  12.1 14.9 14.1 0.577  99.4 157  8.0 0.102 3.9 6730   16.7 0.015801\n",
       "5 14.1 0  12.1 10.9 10.1 0.591  98.5  18  3.0 0.091 2.0 5780   17.4 0.041399\n",
       "6 12.1 0  11.0 11.8 11.5 0.547  96.4  25  4.4 0.084 2.9 6890   12.6 0.034201\n",
       "  Time    Crime\n",
       "1 26.2011  791 \n",
       "2 25.2999 1635 \n",
       "3 24.3006  578 \n",
       "4 29.9012 1969 \n",
       "5 21.2998 1234 \n",
       "6 20.9995  682 "
      ]
     },
     "metadata": {},
     "output_type": "display_data"
    },
    {
     "name": "stdout",
     "output_type": "stream",
     "text": [
      "'data.frame':\t47 obs. of  16 variables:\n",
      " $ M     : num  15.1 14.3 14.2 13.6 14.1 12.1 12.7 13.1 15.7 14 ...\n",
      " $ So    : int  1 0 1 0 0 0 1 1 1 0 ...\n",
      " $ Ed    : num  9.1 11.3 8.9 12.1 12.1 11 11.1 10.9 9 11.8 ...\n",
      " $ Po1   : num  5.8 10.3 4.5 14.9 10.9 11.8 8.2 11.5 6.5 7.1 ...\n",
      " $ Po2   : num  5.6 9.5 4.4 14.1 10.1 11.5 7.9 10.9 6.2 6.8 ...\n",
      " $ LF    : num  0.51 0.583 0.533 0.577 0.591 0.547 0.519 0.542 0.553 0.632 ...\n",
      " $ M.F   : num  95 101.2 96.9 99.4 98.5 ...\n",
      " $ Pop   : int  33 13 18 157 18 25 4 50 39 7 ...\n",
      " $ NW    : num  30.1 10.2 21.9 8 3 4.4 13.9 17.9 28.6 1.5 ...\n",
      " $ U1    : num  0.108 0.096 0.094 0.102 0.091 0.084 0.097 0.079 0.081 0.1 ...\n",
      " $ U2    : num  4.1 3.6 3.3 3.9 2 2.9 3.8 3.5 2.8 2.4 ...\n",
      " $ Wealth: int  3940 5570 3180 6730 5780 6890 6200 4720 4210 5260 ...\n",
      " $ Ineq  : num  26.1 19.4 25 16.7 17.4 12.6 16.8 20.6 23.9 17.4 ...\n",
      " $ Prob  : num  0.0846 0.0296 0.0834 0.0158 0.0414 ...\n",
      " $ Time  : num  26.2 25.3 24.3 29.9 21.3 ...\n",
      " $ Crime : int  791 1635 578 1969 1234 682 963 1555 856 705 ...\n"
     ]
    }
   ],
   "source": [
    "## 1. Setup ------------------------------------------------------------------\n",
    "\n",
    "# 1.1 Load required libraries\n",
    "library(MASS) # stepAIC\n",
    "library(glmnet) # lasso / elastic net\n",
    "\n",
    "# Install and load FrF2 with error handling\n",
    "if (!require(FrF2, quietly = TRUE)) {\n",
    "    cat(\"Installing FrF2 package...\\n\")\n",
    "    install.packages(\"FrF2\", dependencies = TRUE)\n",
    "    library(FrF2)\n",
    "}\n",
    "\n",
    "# Check if FrF2 loaded successfully\n",
    "if (!\"FrF2\" %in% loadedNamespaces()) {\n",
    "    stop(\"FrF2 package failed to load. Please install manually.\")\n",
    "} else {\n",
    "    cat(\"FrF2 package loaded successfully.\\n\")\n",
    "}\n",
    "\n",
    "# 1.2 Load data\n",
    "crime <- read.table(\"uscrime.txt\", header = TRUE)\n",
    "head(crime)\n",
    "str(crime)\n",
    "\n",
    "# 1.3 Define response & predictors\n",
    "response <- \"Crime\"\n",
    "predictors <- setdiff(names(crime), response)\n",
    "y <- crime[[response]]\n",
    "x <- as.matrix(crime[, predictors])\n"
   ]
  },
  {
   "cell_type": "markdown",
   "id": "5c7660f0",
   "metadata": {},
   "source": [
    "---\n",
    "## 2. Stepwise Regression\n",
    "We fit three variants via AIC: forward, backward, and both."
   ]
  },
  {
   "cell_type": "code",
   "execution_count": 12,
   "id": "d0ca36ce",
   "metadata": {
    "vscode": {
     "languageId": "r"
    }
   },
   "outputs": [
    {
     "name": "stdout",
     "output_type": "stream",
     "text": [
      "    Method Variables   AIC Adj_R2\n",
      "1     Full        15 650.0  0.708\n",
      "2  Forward         6 640.2  0.731\n",
      "3 Backward         8 639.3  0.744\n",
      "4     Both         6 640.2  0.731\n",
      "\n",
      "Best model: Backward | AIC: 639.3 | Adj R²: 0.744 \n",
      "Variables: M, Ed, Po1, M.F, U1, U2, Ineq, Prob \n"
     ]
    }
   ],
   "source": [
    "## 2. Stepwise Regression Analysis ------------------------------------------\n",
    "\n",
    "## 2.1 Full and Null Models\n",
    "full_mod <- lm(Crime ~ ., data = crime)\n",
    "null_mod <- lm(Crime ~ 1, data = crime)\n",
    "\n",
    "## 2.2 Stepwise Methods\n",
    "step_fwd <- stepAIC(null_mod,\n",
    "    scope = list(lower = null_mod, upper = full_mod),\n",
    "    direction = \"forward\", trace = FALSE\n",
    ")\n",
    "step_bwd <- stepAIC(full_mod, direction = \"backward\", trace = FALSE)\n",
    "step_both <- stepAIC(null_mod,\n",
    "    scope = list(lower = null_mod, upper = full_mod),\n",
    "    direction = \"both\", trace = FALSE\n",
    ")\n",
    "\n",
    "## 2.3 Results Summary\n",
    "stepwise_results <- data.frame(\n",
    "    Method = c(\"Full\", \"Forward\", \"Backward\", \"Both\"),\n",
    "    Variables = c(\n",
    "        length(coef(full_mod)) - 1,\n",
    "        length(coef(step_fwd)) - 1,\n",
    "        length(coef(step_bwd)) - 1,\n",
    "        length(coef(step_both)) - 1\n",
    "    ),\n",
    "    AIC = round(c(AIC(full_mod), AIC(step_fwd), AIC(step_bwd), AIC(step_both)), 1),\n",
    "    Adj_R2 = round(c(\n",
    "        summary(full_mod)$adj.r.squared,\n",
    "        summary(step_fwd)$adj.r.squared,\n",
    "        summary(step_bwd)$adj.r.squared,\n",
    "        summary(step_both)$adj.r.squared\n",
    "    ), 3)\n",
    ")\n",
    "\n",
    "print(stepwise_results)\n",
    "\n",
    "# Best model\n",
    "best_idx <- which.min(stepwise_results$AIC[-1]) + 1\n",
    "# Exclude full model from comparison\n",
    "cat(\n",
    "    \"\\nBest model:\", stepwise_results$Method[best_idx],\n",
    "    \"| AIC:\", stepwise_results$AIC[best_idx],\n",
    "    \"| Adj R²:\", stepwise_results$Adj_R2[best_idx], \"\\n\"\n",
    ")\n",
    "\n",
    "# Selected variables for best model\n",
    "best_model <- list(step_fwd, step_bwd, step_both)[[best_idx - 1]]\n",
    "cat(\"Variables:\", paste(names(coef(best_model))[-1], collapse = \", \"), \"\\n\")\n"
   ]
  },
  {
   "cell_type": "markdown",
   "id": "469cdc1c",
   "metadata": {},
   "source": [
    "---\n",
    "## 3. Lasso Regression (α = 1)\n",
    "We’ll standardize predictors and use `cv.glmnet` to pick λ via 10-fold CV."
   ]
  },
  {
   "cell_type": "code",
   "execution_count": 13,
   "id": "f51b30e6",
   "metadata": {
    "vscode": {
     "languageId": "r"
    }
   },
   "outputs": [
    {
     "name": "stdout",
     "output_type": "stream",
     "text": [
      "Lasso Results:\n",
      "Optimal λ: 3.3199 \n",
      "Variables selected: 12 \n",
      "Selected variables: M, So, Ed, Po1, M.F, Pop, NW, U1, U2, Wealth, Ineq, Prob \n"
     ]
    },
    {
     "data": {
      "image/png": "[encoded data removed]",
      "text/plain": [
       "Plot with title “Lasso Cross-Validation”"
      ]
     },
     "metadata": {
      "image/png": {
       "height": 420,
       "width": 420
      }
     },
     "output_type": "display_data"
    }
   ],
   "source": [
    "## 3. Lasso Regression (α = 1) ----------------------------------------------\n",
    "\n",
    "## 3.1 Scale predictors and fit CV Lasso\n",
    "x_scaled <- scale(x)\n",
    "set.seed(123)\n",
    "cv_lasso <- cv.glmnet(x_scaled, y, alpha = 1, nfolds = 10)\n",
    "\n",
    "## 3.2 Results\n",
    "best_lambda <- cv_lasso$lambda.min\n",
    "lasso_mod <- glmnet(x_scaled, y, alpha = 1, lambda = best_lambda)\n",
    "\n",
    "# Extract non-zero coefficients\n",
    "lasso_coefs <- coef(lasso_mod)\n",
    "selected_vars <- rownames(lasso_coefs)[lasso_coefs[, 1] != 0][-1] # Exclude intercept\n",
    "\n",
    "cat(\"Lasso Results:\\n\")\n",
    "cat(\"Optimal λ:\", round(best_lambda, 4), \"\\n\")\n",
    "cat(\"Variables selected:\", length(selected_vars), \"\\n\")\n",
    "cat(\"Selected variables:\", paste(selected_vars, collapse = \", \"), \"\\n\")\n",
    "\n",
    "# Optional: Show plot\n",
    "plot(cv_lasso, main = \"Lasso Cross-Validation\")\n"
   ]
  },
  {
   "cell_type": "markdown",
   "id": "9d87e0ce",
   "metadata": {},
   "source": [
    "---\n",
    "## 4. Elastic Net Regression\n",
    "We’ll sweep α from 0 (ridge) to 1 (lasso) in steps of 0.1, pick the best (α,λ) by CV MSE, then refit."
   ]
  },
  {
   "cell_type": "code",
   "execution_count": 14,
   "id": "403a87f5",
   "metadata": {
    "vscode": {
     "languageId": "r"
    }
   },
   "outputs": [
    {
     "name": "stdout",
     "output_type": "stream",
     "text": [
      "Elastic Net Results:\n",
      "Best α: 0.8 | Best λ: 12.6731 \n",
      "Variables selected: 12 \n",
      "Selected variables: M, So, Ed, Po1, LF, M.F, NW, U1, U2, Wealth, Ineq, Prob \n"
     ]
    }
   ],
   "source": [
    "## 4. Elastic Net Regression ------------------------------------------------\n",
    "\n",
    "## 4.1 Grid Search over α\n",
    "alpha_vals <- seq(0, 1, by = 0.1)\n",
    "set.seed(123)\n",
    "\n",
    "# Find best alpha-lambda combination\n",
    "best_cvm <- Inf\n",
    "best_alpha <- NA\n",
    "best_lambda <- NA\n",
    "\n",
    "for (a in alpha_vals) {\n",
    "  cv <- cv.glmnet(x_scaled, y, alpha = a, nfolds = 10)\n",
    "  if (min(cv$cvm) < best_cvm) {\n",
    "    best_cvm <- min(cv$cvm)\n",
    "    best_alpha <- a\n",
    "    best_lambda <- cv$lambda.min\n",
    "  }\n",
    "}\n",
    "\n",
    "## 4.2 Final Elastic Net Fit\n",
    "enet_mod <- glmnet(x_scaled, y, alpha = best_alpha, lambda = best_lambda)\n",
    "enet_coefs <- coef(enet_mod)\n",
    "selected_vars <- rownames(enet_coefs)[enet_coefs[, 1] != 0][-1] # Exclude intercept\n",
    "\n",
    "cat(\"Elastic Net Results:\\n\")\n",
    "cat(\"Best α:\", best_alpha, \"| Best λ:\", round(best_lambda, 4), \"\\n\")\n",
    "cat(\"Variables selected:\", length(selected_vars), \"\\n\")\n",
    "cat(\"Selected variables:\", paste(selected_vars, collapse = \", \"), \"\\n\")\n"
   ]
  },
  {
   "cell_type": "markdown",
   "id": "e092432c",
   "metadata": {},
   "source": [
    "---"
   ]
  },
  {
   "cell_type": "markdown",
   "id": "3beefc93",
   "metadata": {},
   "source": [
    "## **Question 12.1**\n",
    "\n",
    "Describe a situation or problem from your job, everyday life, current events, etc., for which a design of experiments approach would be appropriate.\n",
    "\n",
    "\n",
    "**Answer:**\n",
    "\n",
    "- **Marketing Email Optimization (Job Context):** At GEICO, we might want to optimize the impact of promotional emails. We can use a factorial design varying **subject line length** (short vs. long), **send time** (morning vs. afternoon), and **call-to-action color** (blue vs. green). By systematically testing all combinations, we can measure open rates and click-through rates to identify the most effective factors and interactions.\n",
    "\n",
    "- **Baking Recipe Experiment (Everyday Life):** When perfecting a cake, you could vary **oven temperature** (325°F vs. 350°F) and **bake time** (25 vs. 30 minutes) in a two-factor design. Measuring texture and moistness for each combination helps determine the optimal settings without testing every possible time–temperature pair ad hoc.\n",
    "\n",
    "- **Vaccine Dosage Study (Current Events):** In clinical trials, a DOE approach can test different **dosages** and **adjuvant types** to evaluate efficacy and side effects. A randomized block or factorial design ensures reliable estimation of main and interaction effects.\n",
    "\n"
   ]
  },
  {
   "cell_type": "markdown",
   "id": "98fbf148",
   "metadata": {},
   "source": [
    "---"
   ]
  },
  {
   "cell_type": "markdown",
   "id": "40997840",
   "metadata": {},
   "source": [
    "## **Question 12.2**\n",
    "\n",
    "To determine the value of 10 different yes/no features to the market value of a house (large yard, solar roof, etc.), a real estate agent plans to survey 50 potential buyers, showing a fictitious house with different combinations of features. To reduce the survey size, the agent wants to show just 16 fictitious houses. Use R’s `FrF2` function (in the `FrF2` package) to find a fractional factorial design for this experiment: what set of features should each of the 16 fictitious houses have?  Note: the output of `FrF2` is `1` (include) or `-1` (don’t include) for each feature."
   ]
  },
  {
   "cell_type": "code",
   "execution_count": 15,
   "id": "ea955db7",
   "metadata": {
    "vscode": {
     "languageId": "r"
    }
   },
   "outputs": [
    {
     "name": "stdout",
     "output_type": "stream",
     "text": [
      "   F1 F2 F3 F4 F5 F6 F7 F8 F9 F10\n",
      "1   1  1 -1 -1  1 -1 -1 -1  1   1\n",
      "2  -1 -1  1  1  1 -1 -1 -1 -1   1\n",
      "3  -1  1 -1 -1 -1  1 -1  1  1  -1\n",
      "4  -1  1  1 -1 -1 -1  1  1 -1   1\n",
      "5  -1 -1 -1 -1  1  1  1  1 -1   1\n",
      "6   1 -1  1 -1 -1  1 -1 -1  1   1\n",
      "7   1 -1 -1  1 -1 -1  1  1  1   1\n",
      "8   1  1 -1  1  1 -1 -1  1 -1  -1\n",
      "9  -1  1  1  1 -1 -1  1 -1  1  -1\n",
      "10 -1 -1  1 -1  1 -1 -1  1  1  -1\n",
      "11 -1  1 -1  1 -1  1 -1 -1 -1   1\n",
      "12  1 -1 -1 -1 -1 -1  1 -1 -1  -1\n",
      "13 -1 -1 -1  1  1  1  1 -1  1  -1\n",
      "14  1  1  1 -1  1  1  1 -1 -1  -1\n",
      "15  1  1  1  1  1  1  1  1  1   1\n",
      "16  1 -1  1  1 -1  1 -1  1 -1  -1\n",
      "class=design, type= FrF2 \n"
     ]
    }
   ],
   "source": [
    "# Define 10 yes/no factors\n",
    "factors <- paste0(\"F\", 1:10)\n",
    "\n",
    "# Generate a 2^(10-6) fractional factorial design (16 runs)\n",
    "design <- FrF2(nruns = 16, nfactors = 10, factor.names = factors)\n",
    "\n",
    "# Display the design (1 = include feature, -1 = exclude feature)\n",
    "print(design)\n"
   ]
  },
  {
   "cell_type": "markdown",
   "id": "727f9280",
   "metadata": {},
   "source": [
    "**Answer**\n",
    "\n",
    "Based on the output from the cell above:\n",
    "\n",
    "- **House 1**: Should include features F1, F2, F5, F9, and F10. It should exclude features F3, F4, F6, F7, and F8.\n",
    "- **House 2**: Should include features F3, F4, F5, and F10. It should exclude features F1, F2, F6, F7, F8, and F9.\n",
    "- **House 12**: Should only include feature F1 and exclude all others.\n",
    "- **House 15**: Should include all 10 features."
   ]
  },
  {
   "cell_type": "markdown",
   "id": "50186f2c",
   "metadata": {},
   "source": [
    "---"
   ]
  },
  {
   "cell_type": "markdown",
   "id": "5cb633d1",
   "metadata": {},
   "source": [
    "## **Question 13.1**\n",
    "\n",
    "For each distribution below, give an example of data you would expect to follow it (besides the examples discussed in class):\n",
    "\n",
    "-  Binomial  \n",
    "-  Geometric  \n",
    "-  Poisson  \n",
    "-  Exponential  \n",
    "-  Weibull\n",
    "\n",
    "**Answer:**\n",
    "- **Binomial**: The number of patients who respond positively to a new drug in a clinical trial of 20 participants.\n",
    "- **Geometric**: The number of job applications a person submits before receiving their first interview offer.\n",
    "- **Poisson**: The number of mutations in a specific gene sequence of a given length.\n",
    "- **Exponential**: The time until the next earthquake occurs in a specific region.\n",
    "- **Weibull**: The wind speed distribution for a particular location, often used for wind power assessment."
   ]
  }
 ],
 "metadata": {
  "kernelspec": {
   "display_name": "R",
   "language": "R",
   "name": "ir"
  },
  "language_info": {
   "codemirror_mode": "r",
   "file_extension": ".r",
   "mimetype": "text/x-r-source",
   "name": "R",
   "pygments_lexer": "r",
   "version": "4.5.1"
  }
 },
 "nbformat": 4,
 "nbformat_minor": 5
}
